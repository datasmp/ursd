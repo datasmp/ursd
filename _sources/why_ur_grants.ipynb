{
 "cells": [
  {
   "cell_type": "markdown",
   "id": "4d4b529d-0114-4aed-ae8e-2eee48e1f0e9",
   "metadata": {},
   "source": [
    "# UR Grants"
   ]
  },
  {
   "cell_type": "markdown",
   "id": "394ca031-ee70-48e7-9f46-964f243012e8",
   "metadata": {},
   "source": [
    "- [NSF Research Experiences for Undergraduates](https://new.nsf.gov/funding/initiatives/reu)\n",
    "- [CUNY Research Scholars Program (CRSP)](https://www.cuny.edu/research/research-development-programs/student-programs/undergraduate-programs/crsp/)"
   ]
  },
  {
   "cell_type": "code",
   "execution_count": null,
   "id": "a5d1a266-ec68-44f4-a5d3-be4fb70e7ef0",
   "metadata": {},
   "outputs": [],
   "source": []
  }
 ],
 "metadata": {
  "kernelspec": {
   "display_name": "Python 3 (ipykernel)",
   "language": "python",
   "name": "python3"
  },
  "language_info": {
   "codemirror_mode": {
    "name": "ipython",
    "version": 3
   },
   "file_extension": ".py",
   "mimetype": "text/x-python",
   "name": "python",
   "nbconvert_exporter": "python",
   "pygments_lexer": "ipython3",
   "version": "3.11.8"
  }
 },
 "nbformat": 4,
 "nbformat_minor": 5
}
