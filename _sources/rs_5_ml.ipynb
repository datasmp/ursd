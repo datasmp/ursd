{
 "cells": [
  {
   "cell_type": "markdown",
   "id": "505915a3-c97b-4609-a0a8-b727c4dbd37f",
   "metadata": {},
   "source": [
    "# Question-5: Machine Learning"
   ]
  },
  {
   "cell_type": "markdown",
   "id": "891f735a-bbf0-4689-a1b7-e04878c5fd63",
   "metadata": {},
   "source": [
    "## Title\n",
    "A Comparative Study of Pattern Mining-Based Models and Machine Learning Algorithms"
   ]
  },
  {
   "attachments": {},
   "cell_type": "markdown",
   "id": "e7aea99a-6a75-4d21-bc08-5c23371426f4",
   "metadata": {},
   "source": [
    "## Abstract\n",
    "\n",
    "Pattern mining is an essential approach for identifying significant trends in historical stock data. Candlestick analysis, a widely-used technique, encodes daily stock price movements—open, high, low, and close—into a visual representation. Using identified patterns, subsequence- and similarity-based models can be developed to predict future stock prices. \n",
    "\n",
    "This project aims to compare the performance of subsequence- and similarity-based models with machine learning algorithms, including tree-based methods, support vector machines, and neural networks, to evaluate their effectiveness in stock price prediction.n.\r\n",
    "\r\n"
   ]
  },
  {
   "cell_type": "code",
   "execution_count": null,
   "id": "b34fd0a0-1baf-491f-b40c-930557e83110",
   "metadata": {},
   "outputs": [],
   "source": []
  }
 ],
 "metadata": {
  "kernelspec": {
   "display_name": "Python 3 (ipykernel)",
   "language": "python",
   "name": "python3"
  },
  "language_info": {
   "codemirror_mode": {
    "name": "ipython",
    "version": 3
   },
   "file_extension": ".py",
   "mimetype": "text/x-python",
   "name": "python",
   "nbconvert_exporter": "python",
   "pygments_lexer": "ipython3",
   "version": "3.11.8"
  }
 },
 "nbformat": 4,
 "nbformat_minor": 5
}
