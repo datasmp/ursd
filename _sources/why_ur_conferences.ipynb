{
 "cells": [
  {
   "cell_type": "markdown",
   "id": "340d60c1-b59d-47e1-810a-44d356890683",
   "metadata": {},
   "source": [
    "# UR Conferences"
   ]
  },
  {
   "cell_type": "markdown",
   "id": "7061b044-be3c-440f-954d-5f1695f8a90f",
   "metadata": {},
   "source": [
    "- [NCUR](https://www.cur.org/events-services/ncur/)"
   ]
  }
 ],
 "metadata": {
  "kernelspec": {
   "display_name": "Python 3 (ipykernel)",
   "language": "python",
   "name": "python3"
  },
  "language_info": {
   "codemirror_mode": {
    "name": "ipython",
    "version": 3
   },
   "file_extension": ".py",
   "mimetype": "text/x-python",
   "name": "python",
   "nbconvert_exporter": "python",
   "pygments_lexer": "ipython3",
   "version": "3.11.8"
  }
 },
 "nbformat": 4,
 "nbformat_minor": 5
}
