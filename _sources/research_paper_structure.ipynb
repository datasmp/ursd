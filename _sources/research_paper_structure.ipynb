{
 "cells": [
  {
   "cell_type": "markdown",
   "id": "d2b3c910-4f86-4979-be2c-32438b24b50f",
   "metadata": {},
   "source": [
    "# Research Article Structure"
   ]
  },
  {
   "cell_type": "markdown",
   "id": "0f6387c8-7164-49ff-b0df-72b503ae506c",
   "metadata": {},
   "source": [
    "In this section, we will use the following paper:\n",
    "- [A stock time series forecasting approach incorporating candlestick patterns and sequence similarity.](https://www.sciencedirect.com/science/article/pii/S0957417422009071)"
   ]
  },
  {
   "cell_type": "markdown",
   "id": "2f072002-9944-4720-b43e-27a48f4c9db3",
   "metadata": {},
   "source": [
    "### Article Information Page"
   ]
  },
  {
   "cell_type": "markdown",
   "id": "5c503ab7-5f54-46a9-b508-0a74fe8e89f0",
   "metadata": {},
   "source": [
    "The first page of a article typically contains the following information:\n",
    "\n",
    "- Publisher of the journal\n",
    "- Name of the journal\n",
    "- Publishing year and volume of the article\n",
    "- Title of the article\n",
    "- Author information, including affiliations\n",
    "- Keywords\n",
    "- Abstract\n",
    "\n",
    "![](pict/article_first_page.png)"
   ]
  },
  {
   "cell_type": "markdown",
   "id": "5efec558-a5bc-427a-bce8-a09fc8c75168",
   "metadata": {},
   "source": [
    "## Structure of a Research Article"
   ]
  },
  {
   "cell_type": "markdown",
   "id": "bc1b093e-3f00-41b1-a8dd-a170dbfb179e",
   "metadata": {},
   "source": [
    "In general, a research paper consists of the following parts:\n",
    "\n",
    "- Keywords\n",
    "- Abstract\n",
    "- Introduction\n",
    "- Literature Review\n",
    "- Methodology\n",
    "- Experiments, Results, and Discussions\n",
    "- Conclusions\n",
    "- References"
   ]
  },
  {
   "cell_type": "markdown",
   "id": "7887a0d5-06cb-4ac2-9541-a7767e0e5f1b",
   "metadata": {},
   "source": [
    "### Keywords\n",
    "These are the words and phrases that provide information about the topic and focus of the paper. \n",
    "- Keywords help readers and search engines identify the article's subject matter.\n",
    "- Depending on the journal guidelines, 5-7 keywords are typically chosen to best represent the content of the paper."
   ]
  },
  {
   "cell_type": "markdown",
   "id": "6226d990-7410-4086-9d18-2c2163380156",
   "metadata": {},
   "source": [
    "### Abstracts\n",
    "It is the brief summary of the whole paper which typically consists of following parts: \n",
    "- Purpose\n",
    "- Background (General Information)\n",
    "- Problem Statement (Motivation)\n",
    "- Proposed Method\n",
    "- Results\n",
    "- Conclusion\n",
    "\n",
    "\n",
    "![](pict/abstract.png)"
   ]
  },
  {
   "cell_type": "markdown",
   "id": "9f67adb2-76f9-4f6a-825c-57268996edba",
   "metadata": {},
   "source": [
    "## Introduction"
   ]
  },
  {
   "cell_type": "markdown",
   "id": "692788e9-f1c3-4d8f-aa76-71b41b4ff889",
   "metadata": {},
   "source": [
    "## Literature Review\n"
   ]
  },
  {
   "cell_type": "markdown",
   "id": "0f329bd6-84d5-4a53-ab2f-faf77132e741",
   "metadata": {},
   "source": [
    "## Methodology\n"
   ]
  },
  {
   "cell_type": "markdown",
   "id": "6ea3e8a3-1e54-4702-92c7-3b470ff59c57",
   "metadata": {},
   "source": [
    "## Experiments, Results, and Discussions\n"
   ]
  },
  {
   "cell_type": "markdown",
   "id": "0ae24330-2d28-4f31-945f-748b4520a910",
   "metadata": {},
   "source": [
    "## Conclusions\n"
   ]
  },
  {
   "cell_type": "markdown",
   "id": "16c5cb5c-0de2-4986-a5d8-91b53ad1851e",
   "metadata": {},
   "source": [
    "## References\n",
    "It is the list of the sources used throughout the article including published research papers, books, datasets..etc\n",
    "\n",
    "\n",
    "The References section provides a list of all the sources cited throughout the article. These can include:\n",
    "- Published research papers\n",
    "- Books\n",
    "- Datasets\n",
    "\n",
    "This section allows readers to explore the background material or verify the sources used in the study."
   ]
  },
  {
   "cell_type": "code",
   "execution_count": null,
   "id": "1ec5e778-068f-409b-b2cb-fbfdb1f11639",
   "metadata": {},
   "outputs": [],
   "source": []
  }
 ],
 "metadata": {
  "kernelspec": {
   "display_name": "Python 3 (ipykernel)",
   "language": "python",
   "name": "python3"
  },
  "language_info": {
   "codemirror_mode": {
    "name": "ipython",
    "version": 3
   },
   "file_extension": ".py",
   "mimetype": "text/x-python",
   "name": "python",
   "nbconvert_exporter": "python",
   "pygments_lexer": "ipython3",
   "version": "3.11.8"
  }
 },
 "nbformat": 4,
 "nbformat_minor": 5
}
