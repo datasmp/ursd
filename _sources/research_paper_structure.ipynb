{
 "cells": [
  {
   "cell_type": "markdown",
   "id": "d2b3c910-4f86-4979-be2c-32438b24b50f",
   "metadata": {},
   "source": [
    "# Research Article Structure\n",
    "![](title_pict/reserach_article_structure2.png)"
   ]
  },
  {
   "cell_type": "markdown",
   "id": "0f6387c8-7164-49ff-b0df-72b503ae506c",
   "metadata": {},
   "source": [
    "In this section, we will use the following paper:\n",
    "- [A stock time series forecasting approach incorporating candlestick patterns and sequence similarity.](https://www.sciencedirect.com/science/article/pii/S0957417422009071)"
   ]
  },
  {
   "cell_type": "markdown",
   "id": "2f072002-9944-4720-b43e-27a48f4c9db3",
   "metadata": {},
   "source": [
    "### Article Information Page"
   ]
  },
  {
   "cell_type": "markdown",
   "id": "5c503ab7-5f54-46a9-b508-0a74fe8e89f0",
   "metadata": {},
   "source": [
    "The first page of a article typically contains the following information:\n",
    "\n",
    "- Publisher of the journal\n",
    "- Name of the journal\n",
    "- Publishing year and volume of the article\n",
    "- Title of the article\n",
    "- Author information, including affiliations\n",
    "- Keywords\n",
    "- Abstract\n",
    "\n",
    "![](pict/article_first_page.png)"
   ]
  },
  {
   "cell_type": "markdown",
   "id": "5efec558-a5bc-427a-bce8-a09fc8c75168",
   "metadata": {},
   "source": [
    "## Structure of a Research Article"
   ]
  },
  {
   "cell_type": "markdown",
   "id": "bc1b093e-3f00-41b1-a8dd-a170dbfb179e",
   "metadata": {},
   "source": [
    "In general, a research paper consists of the following parts:\n",
    "\n",
    "- Keywords\n",
    "- Abstract\n",
    "- Introduction\n",
    "- Literature Review\n",
    "- Methodology\n",
    "- Experiments, Results, and Discussions\n",
    "- Conclusions\n",
    "- References"
   ]
  },
  {
   "cell_type": "markdown",
   "id": "7887a0d5-06cb-4ac2-9541-a7767e0e5f1b",
   "metadata": {},
   "source": [
    "### Keywords\n",
    "These are the words and phrases that provide information about the topic and focus of the paper. \n",
    "- Keywords help readers and search engines identify the article's subject matter.\n",
    "- Depending on the journal guidelines, 5-7 keywords are typically chosen to best represent the content of the paper."
   ]
  },
  {
   "cell_type": "markdown",
   "id": "6226d990-7410-4086-9d18-2c2163380156",
   "metadata": {},
   "source": [
    "### Abstracts\n",
    "It is the brief summary of the whole paper which typically consists of following parts: \n",
    "- Purpose\n",
    "- Background (General Information)\n",
    "- Problem Statement (Motivation)\n",
    "- Proposed Method\n",
    "- Results\n",
    "- Conclusion\n",
    "\n",
    "\n",
    "![](pict/abstract.png)"
   ]
  },
  {
   "cell_type": "markdown",
   "id": "9f67adb2-76f9-4f6a-825c-57268996edba",
   "metadata": {},
   "source": [
    "### Introduction\n",
    "The Introduction section serves as the starting point of the research paper and typically includes:\n",
    "\n",
    "- **Background Information:** Provides context for the study, often referencing related works and previously conducted research.\n",
    "- **Research Problem:** Clearly states the problem being addressed, emphasizing its importance and the motivation behind the study.\n",
    "- **Objectives and Significance:** Outlines the goals of the research and its potential contributions or impact.\n",
    "- **Organization of the Paper:** The final paragraph usually provides an overview of the structure of the article, describing each section."
   ]
  },
  {
   "cell_type": "markdown",
   "id": "692788e9-f1c3-4d8f-aa76-71b41b4ff889",
   "metadata": {},
   "source": [
    "### Literature Review\n",
    "The Literature Review provides an overview of existing research on the topic and includes two key components:\n",
    "\n",
    "- **Evaluation of Previous Research:** Summarizes and critically assesses past studies related to the subject.\n",
    "- **Identification of Gaps:** Highlights gaps in the existing knowledge or unresolved questions that the current study aims to address.\n",
    "\n",
    "This section also serves as a valuable resource for readers by guiding them to useful references and sources related to the topic. Survey papers, in particular, are excellent for understanding how the subject has been explored from various perspectives."
   ]
  },
  {
   "cell_type": "markdown",
   "id": "0f329bd6-84d5-4a53-ab2f-faf77132e741",
   "metadata": {},
   "source": [
    "### Methodology\n",
    "\n",
    "The Methodology and Experiments, Results, and Discussions sections form the core components of the research work. Together, these sections provide the technical and analytical backbone of the paper.\n",
    "\n",
    "The Methodology section provides a detailed description of the procedures, techniques, and tools used to conduct the research. It also includes definitions of fey terms and concepts that will be used throughout the paper are defined here.\n",
    "\n",
    "This part is a crucial component of the paper, often containing many technical details. A good practice for understanding this section is to start with skimming and gradually delve into the specifics with repeated readings.\n",
    "\n",
    "Additionally, the methodology should be designed to support reproducibility, allowing other researchers to replicate the study.\n"
   ]
  },
  {
   "cell_type": "markdown",
   "id": "6ea3e8a3-1e54-4702-92c7-3b470ff59c57",
   "metadata": {},
   "source": [
    "### Experiments, Results, and Discussions\n",
    "This section provides a comprehensive account of the research process and findings, including:\n",
    "\n",
    "**Experiment Details:**\n",
    "- Description of the experiments, including steps like data preparation (e.g., importing, cleaning, normalizing).\n",
    "- Setup and application of methods to the prepared data.\n",
    "\n",
    "**Analysis and Comparisons:**\n",
    "- Detailed analyses of the results, including the performance of baseline methods to compare and validate the proposed approach.\n",
    "- Demonstration of the efficiency of the current method in relation to previous works.\n",
    "\n",
    "**Presentation of Findings:**\n",
    "- Results are presented using visual aids like graphs, tables, and charts for clarity and comparison with prior research.\n",
    "\n",
    "**Interpretation and Implications:**\n",
    "- Explanation of the results, their significance, and what they imply for the field or potential applications."
   ]
  },
  {
   "cell_type": "markdown",
   "id": "0ae24330-2d28-4f31-945f-748b4520a910",
   "metadata": {},
   "source": [
    "### Conclusions\n",
    "The Conclusions section provides a concise summary of the study, including:\n",
    "- **Methodology Recap:** A brief overview of the methods used in the research.\n",
    "- **Main Findings and Results:** Highlights of the key outcomes and their relevance.\n",
    "\n",
    "Additionally, it includes:\n",
    "\n",
    "- **Significance of the Results:** A discussion of the impact and implications of the findings.\n",
    "- **Recommendations or Future Research Directions:** Suggestions for further exploration or unanswered questions in the field.\n",
    "\n",
    "This section can be a valuable resource for identifying potential research questions or areas to explore further."
   ]
  },
  {
   "cell_type": "markdown",
   "id": "16c5cb5c-0de2-4986-a5d8-91b53ad1851e",
   "metadata": {},
   "source": [
    "### References\n",
    "It is the list of the sources used throughout the article including published research papers, books, datasets..etc\n",
    "\n",
    "\n",
    "The References section provides a list of all the sources cited throughout the article. These can include:\n",
    "- Published research papers\n",
    "- Books\n",
    "- Datasets\n",
    "\n",
    "It allows readers to explore the background material or verify the sources used in the study.\n",
    "\n",
    "\n",
    "This section follows specific formatting styles that vary in terms of the order and presentation of elements such as author names, publication dates, and volumes.\n",
    "- Different journals adopt distinct reference styles, such as APA, MLA, Chicago, or IEEE.\n",
    "- The formatting style includes rules for how to list authors, organize publication details, and structure citations.\n",
    "- Journals specify their required style in their submission guidelines, and authors must adhere to these standards for proper formatting."
   ]
  }
 ],
 "metadata": {
  "kernelspec": {
   "display_name": "Python 3 (ipykernel)",
   "language": "python",
   "name": "python3"
  },
  "language_info": {
   "codemirror_mode": {
    "name": "ipython",
    "version": 3
   },
   "file_extension": ".py",
   "mimetype": "text/x-python",
   "name": "python",
   "nbconvert_exporter": "python",
   "pygments_lexer": "ipython3",
   "version": "3.11.8"
  }
 },
 "nbformat": 4,
 "nbformat_minor": 5
}
