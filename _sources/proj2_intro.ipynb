{
 "cells": [
  {
   "cell_type": "markdown",
   "id": "2ea34382-e847-4b8f-80f7-a4e01479f825",
   "metadata": {},
   "source": [
    "# Project-2: Novel Factors \n",
    "![Title of this section is Novel Factors](title_pict/novel_factors2.png)"
   ]
  },
  {
   "cell_type": "markdown",
   "id": "e68e3ecb-81fe-4fe6-8093-4d0d7414cc1f",
   "metadata": {},
   "source": [
    "\n",
    "In this project, we will follow the methodology described in the following article:\n",
    "- [Forecasting and optimization stock predictions: Varying asset profile, time window, and hyperparameter factors.](https://www.sciencedirect.com/science/article/pii/S2772941923000054)\n",
    "\n",
    "- In this article different values for multi-time windows, training batch size, stopping criteria, training data ratio, and financial technical indicators are used to increase the performance of machine learning models that are built.\n",
    "\n",
    "\n",
    "In this section, we will define key concepts and provide explanations of the tools and techniques referenced in the article.  "
   ]
  },
  {
   "cell_type": "markdown",
   "id": "79e25785-30cc-4f7f-b894-542367947c76",
   "metadata": {},
   "source": [
    "### Cover\n",
    "![Cover of the paper with different parts highligted including volume, year, journal name, title, author.](pict/cover_canada.png)\n"
   ]
  },
  {
   "cell_type": "markdown",
   "id": "9d14cbcc-9ec5-402e-844c-b43ef3b735e5",
   "metadata": {},
   "source": [
    "**General Information About the Article**\n",
    "\n",
    "**Title:** Forecasting and optimization stock predictions: Varying asset profile, time window, and hyperparameter factors\n",
    "\n",
    "**Author:** C. Alzaman\n",
    "\n",
    "**Year of Publication:** 2023\n",
    "\n",
    "**Volume:** 5\n",
    "\n",
    "**Article Number:** 200052\n",
    "\n",
    "**Published In:** Systems and Soft Computing, ScienceDirect (Elsevier) \n",
    "\n",
    "**Focus:** Improving stock prediction models through enhanced hyperparameter tuning\n"
   ]
  },
  {
   "cell_type": "markdown",
   "id": "24880b36-bf19-4679-bb24-73a2cc18353c",
   "metadata": {},
   "source": [
    "### Abstract\n",
    "![Abstract of the paper with different parts highlighted in color.](pict/abstract_canada.png)"
   ]
  },
  {
   "cell_type": "markdown",
   "id": "6dd1713e-1509-4d67-b52e-965a44e96276",
   "metadata": {},
   "source": [
    "**Background**\n",
    "\n",
    "Machine learning (ML) is a powerful tool used in many fields, including finance. Researchers have been trying to use ML to predict stock market behavior.\n",
    "\n",
    "**Problem (Motivation)**\n",
    "\n",
    "However, predicting the stock market is difficult because:\n",
    "\n",
    "- The data is hard to collect and prepare.\n",
    "\n",
    "- Choosing and designing the right algorithm is complex.\n",
    "\n",
    "- Hyperparameters (the settings of ML models) are tricky to optimize.\n",
    "\n",
    "- It’s not always clear which features (inputs) to include.\n",
    "\n",
    "- Stock prices are naturally volatile and unpredictable.\n",
    "\n",
    "**Purpose**\n",
    "\n",
    "This study reviews existing research and also explores new factors that may improve stock prediction models.\n",
    "\n",
    "**Method (Proposed Solution)**\n",
    "\n",
    "The researchers tested several ideas:\n",
    "\n",
    "- Using different time windows (how far back in time the training data goes).\n",
    "\n",
    "- Changing training batch size, stopping criteria, and training data ratio.\n",
    "\n",
    "- Adding financial technical indicators (like moving averages).\n",
    "\n",
    "- Applying genetic algorithms for hyperparameter optimization instead of traditional random-grid search.\n",
    "\n",
    "**Results**\n",
    "\n",
    "- Changing the training time window made a big difference, with statistically significant results (p < 0.0001).\n",
    "\n",
    "- Using genetic-based hyperparameter optimization improved performance by about 40% compared to random-grid search.\n",
    "\n",
    "- Adding technical indicators did not improve prediction accuracy much, but it slightly improved the ability to predict the direction (up or down) of stock movements for some stocks.\n",
    "\n",
    "- The time window and the characteristics of the stock (such as which stock, and which period of time is studied) greatly affected the results.\n",
    "\n",
    "**Conclusion**\n",
    "\n",
    "The study shows that the way data is prepared, especially the time window chosen, has a major impact on stock market prediction. While some methods, like genetic optimization, significantly improve accuracy, others (like technical indicators) have only limited benefits. Predicting stock prices remains challenging because results vary a lot depending on the stock and time period."
   ]
  },
  {
   "cell_type": "markdown",
   "id": "22869985-7083-426e-85ab-68062de95e26",
   "metadata": {},
   "source": [
    "### Table of Contents\n",
    "1. Introduction\n",
    "2. Literature review\n",
    "3. Methods\n",
    "    - 3.1. Background on LSTM  \n",
    "    - 3.2. Background on genetic algorithm\n",
    "    - 3.3. Background on technical indicators\n",
    "5. Results\n",
    "    - 4.1. Random-Grid search\n",
    "    - 4.2. Technical parameters\n",
    "    - 4.3. Genetic hyperparameter optimization\n",
    "    - 4.4. Genetic algorithm and technical indicators\n",
    "    - 4.5. Discussion\n",
    "6. Conclusion "
   ]
  },
  {
   "cell_type": "markdown",
   "id": "b554e961-6126-4046-9377-f7c4302277b3",
   "metadata": {},
   "source": [
    "## Introduction"
   ]
  },
  {
   "cell_type": "markdown",
   "id": "7d083676-16cb-4b77-9482-57e217f1f8ec",
   "metadata": {},
   "source": [
    "**Stock Prediction – Two Main Approaches**\n",
    "\n",
    "- Fundamental Analysis\n",
    "    - Focuses on a company’s overall economic health.\n",
    "    - Looks at things like past performance, assets, and earnings.\n",
    "    - Does not focus directly on the stock price itself.\n",
    "\n",
    "- Technical Analysis\n",
    "    - Focuses on past stock price patterns and charts.\n",
    "    - The idea is that patterns in past movements may help predict future prices."
   ]
  },
  {
   "cell_type": "markdown",
   "id": "b0e18016-917b-4a06-a6a7-369d7d4f8459",
   "metadata": {},
   "source": [
    "**Theories About Stock Prices**\n",
    "\n",
    "- Efficient Market Hypothesis (EMH)\n",
    "    - Says it is impossible to predict stock prices because all available information is already reflected in the current price.\n",
    "\n",
    "- Random Walk Hypothesis (RWH)\n",
    "    - Suggests stock prices move randomly.\n",
    "    - A stock’s future price depends only on new (future) information, not on past prices.\n",
    " \n",
    "- Counterarguments from Research\n",
    "\n",
    "    - Some studies (e.g., Chen et al., Basak et al.) argue that parts of stock behavior may actually be predictable.\n",
    "    - Liu and Yeh showed that the relationship between stock weights and portfolio performance is nonlinear (not a straight-line/simple relationship).\n",
    " \n",
    "- Role of Neural Networks\n",
    "\n",
    "    - Because stock data often show nonlinear patterns,\n",
    "    - Neural networks can be helpful tools for modeling and predicting stock movements."
   ]
  },
  {
   "cell_type": "markdown",
   "id": "20a6a427-09bf-4276-9b79-8c89d18f3aa7",
   "metadata": {},
   "source": [
    "**Artificial Intelligence (AI) and Machine Learning (ML)**\n",
    "\n",
    "- Machine Learning (ML): A branch of Artificial Intelligence.\n",
    "\n",
    "- Goal of ML: Train machines on data --> help them learn patterns --> produce reliable predictions or outputs.\n",
    "\n",
    "- How ML works: Uses algorithms and statistical models."
   ]
  },
  {
   "cell_type": "markdown",
   "id": "906dbf4e-3ed2-4f82-9220-ab10f4fb0a47",
   "metadata": {},
   "source": [
    "**Deep Learning (DL)**\n",
    "- A subset of ML designed for more complex problems (like big data).\n",
    "- Uses Artificial Neural Networks (ANNs) to mimic how the human brain processes information.\n",
    "\n",
    "![The diagram of a perceptron](pict/perceptron_my.png)"
   ]
  },
  {
   "cell_type": "markdown",
   "id": "814d021a-7f0b-4292-8bbc-831cb95ccadc",
   "metadata": {},
   "source": [
    "**LSTM (Long Short-Term Memory)**\n",
    "- A special type of Recurrent Neural Network (RNN).\n",
    "- Works well with sequential data (data that comes in order, step by step).\n",
    "- Stock prices are collected over time (daily, hourly, etc.), which makes them a time series.\n",
    "- Why [LSTM](https://en.wikipedia.org/wiki/Long_short-term_memory) is useful: It can capture patterns in sequences, making it highly applicable to stock price prediction.\n",
    "\n",
    "![LSTM Cell diagram from wikipedia](pict/LSTM_Cell.svg)"
   ]
  },
  {
   "cell_type": "markdown",
   "id": "b1cd48f7-7106-4dfb-88b1-5251a6277cc5",
   "metadata": {},
   "source": [
    "**What is Hyperparameter Optimization?**\n",
    "\n",
    "- Hyperparameters = settings chosen before training a machine learning model.\n",
    "- Examples of hyperparameters:\n",
    "    - Number of neurons in a layer\n",
    "    - Number of hidden layers\n",
    "    - Batch size (how much data is processed at once)\n",
    "    - Learning rate (how fast the model learns)\n",
    "\n",
    "- Hyperparameter optimization = the process of finding the best values for these settings so the model performs well."
   ]
  },
  {
   "cell_type": "markdown",
   "id": "4136dd09-daed-430e-85d5-c8a70a579b0a",
   "metadata": {},
   "source": [
    "**Methods Compared**\n",
    "- Random Grid Search\n",
    "    - Tries different hyperparameter combinations randomly from a set of possibilities.\n",
    "    - Can be inefficient.\n",
    "\n",
    "- Genetic Search Algorithm\n",
    "    - Inspired by biological evolution (selection, mutation, etc.).\n",
    "    - Iteratively improves hyperparameters.\n",
    "    - Found to be better than random grid search in this work."
   ]
  },
  {
   "cell_type": "markdown",
   "id": "9cd50510-079c-4bd6-b6cd-2eba7e744d10",
   "metadata": {},
   "source": [
    "**Key Findings**\n",
    "- The genetic search algorithm produced superior results compared to random grid search.\n",
    "- The choice of time period (the window of data used for training) has a strong effect on how well the model can learn and predict stock behavior."
   ]
  },
  {
   "cell_type": "markdown",
   "id": "7ab00b07-d278-4836-933a-e8444a4d51c6",
   "metadata": {},
   "source": [
    "**Remark:** The last paragraph of the introduction provides a section-by-section summary of the entire paper."
   ]
  },
  {
   "cell_type": "markdown",
   "id": "e1c1d6e0-087c-400c-ad5f-bb9ed84d7b46",
   "metadata": {},
   "source": [
    "## Literature Review\n",
    "**Performance of Different Machine Learning Techniques in Stock Prediction**\n",
    "\n",
    "| Technique / Method                        | Authors                | Key Result / Contribution                                                                 |\n",
    "|-------------------------------------------|------------------------|-------------------------------------------------------------------------------------------|\n",
    "| **XGBoost**                               | Chen & Guestrin [7]    | Low computational cost, strong performance; combines loss function with penalty to reduce variance. |\n",
    "| **LSTM Models**                           | Mehtab et al. [8]      | Proposed 4 LSTM models (3 univariate, 1 multivariate) for stock prediction.               |\n",
    "| **Neural Networks**                       | Liu & Yeh [6]          | Identified patterns and relationships in stock market assets.                             |\n",
    "| **LSTM + Paragraph Vector (Hybrid)**      | Akita et al. [9]       | Combined numerical (LSTM) and textual (Paragraph Vector) data for predictions.            |\n",
    "| **LSTM with Strategies**                  | Nelson et al. [10]     | Predicted stock movements and suggested buying strategies.                                |\n",
    "| **SVM + Reinforcement Learning**          | Shen et al. [11]       | Achieved ~75% accuracy using features from global stock indices + individual stocks.      |\n",
    "| **Effective Transfer Entropy + ML Models**| Kim et al. [12]        | Best results with ANN and LSTM when integrating Effective Transfer Entropy.               |\n"
   ]
  },
  {
   "cell_type": "markdown",
   "id": "cd8cd069-0adc-438d-b19c-1b4f476a5901",
   "metadata": {},
   "source": [
    "**Comparison of Machine Learning Techniques for Stock Prediction**\n",
    "| Authors          | Techniques Compared                                                   | Key Findings                                                                                     |\n",
    "|---------------------------|----------------------------------------------------------------------|--------------------------------------------------------------------------------------------------|\n",
    "| **Patel et al. [13]**    | Naive Bayes + indicator analysis                                     | Conducted thorough indicator analysis; compared multiple techniques for stock prediction.        |\n",
    "| **Ismail et al. [14]**   | Logistic Regression, ANN, SVM, Random Forest                        | Used daily log returns + persistent homology; included features like SMA, WMA, momentum, stochastic, MACD10. Found prediction accuracy ranging **47.41% – 64.29%** (ANN: **52.73% – 63.27%**). |\n",
    "| **Kumar et al. [15]**    | Various ML models                                                   | Found **Random Forest** superior among compared methods.                                         |\n",
    "| **Vijh et al. [16]**     | Random Forest, Neural Networks                                      | Found both **Random Forest** and **Neural Networks** to be adequate for stock prediction.        |"
   ]
  },
  {
   "cell_type": "markdown",
   "id": "f9b949af-7408-4e5a-a7ef-ccf9e44caa9d",
   "metadata": {},
   "source": [
    "**Portfolio Selection with Machine Learning in Stock Prediction**\n",
    "| Authors     | Techniques Used                                        | Key Findings                                                                                  |\n",
    "|----------------------|--------------------------------------------------------|-----------------------------------------------------------------------------------------------|\n",
    "| **Chen et al. [4]** | Hybrid model: XGBoost + Firefly Algorithm + Monte Carlo | Predicted stock prices and used Monte Carlo to allocate capital based on portfolio return/variance. |\n",
    "| **Paiva et al. [17]** | Fusion of SVM + Mean Variance (multi-objective optimization) | Showed significant gains compared to a random model in predicting financial stock performance. |\n"
   ]
  },
  {
   "cell_type": "markdown",
   "id": "91c298ff-1452-40bf-a3f1-f91988029e96",
   "metadata": {},
   "source": [
    "**Contributions of This Work**\n",
    "- Review of Multiple Stocks. Unlike most literature that focuses on single stocks or portfolio trading, this work reviews multiple assets.\n",
    "- Notes that multi-asset studies are less common in stock prediction compared to cryptocurrency studies.\n",
    "\n",
    "\n",
    "**Context from Literature**\n",
    "- Shahriari et al. [23]: Used ordinal partition networks to study variations in 10 cryptocurrencies (e.g., Bitcoin, Binance Coin, XRP).\n",
    "- Sigaki et al. [24]: Focused on market efficiency theory.\n",
    "\n",
    "**This work differs by focusing on technical hyperparameters.**\n",
    "- Focus on Hyperparameters\n",
    "- Table 1 summarizes recent research in machine learning for stock prediction, including important factors integrated into prior works.\n",
    "\n",
    "**Points out gaps**\n",
    "- Little attention given to the effect of time period (size, start and end dates) on model learning and prediction.\n",
    "- Training ratio sensitivity rarely discussed.\n",
    "- Feature selection and analysis largely absent.\n",
    "\n",
    "**Technical Contributions in This Work**\n",
    "- Introduce technical indicators into the model.\n",
    "- Test performance with and without these indicators.\n",
    "- Perform feature selection using grid search.\n",
    "- Eliminate features that are not significant."
   ]
  },
  {
   "cell_type": "markdown",
   "id": "7c0081e2-8108-45d5-b41e-0432fe4a9998",
   "metadata": {},
   "source": [
    "## Methods\n",
    "\n",
    "- Background on Predictive Analytics\n",
    "    - Business analytics has three main categories:\n",
    "        - Descriptive techniques – Describe what has happened in the past. Example: looking at last year’s sales numbers.\n",
    "        - Prescriptive techniques – Suggest actions to take. Example: recommending the best way to invest money.\n",
    "        - Predictive techniques – Use data and math to guess what will happen in the future. Example: predicting tomorrow’s stock price.\n",
    "    - Predictive analytics works by using mathematical algorithms and computer programs to find patterns in data.\n",
    "\n",
    "- Time Series Data and Stocks\n",
    "    - Univariate time series data means numbers recorded over time, like daily stock prices.\n",
    "    - Stock market data is a time series because prices are reported at regular time intervals.\n",
    "    - This makes LSTM (Long Short-Term Memory networks) very useful, because they are designed to handle sequential (time-based) data.\n",
    "\n",
    "- Methods Used in This Study\n",
    "    - This research focuses on finding patterns in financial data and predicting future stock behavior using:\n",
    "    - ANN (Artificial Neural Networks), RNN (Recurrent Neural Networks), and LSTM (Long Short-Term Memory networks) → Machine learning models that learn from data.\n",
    "    - Genetic Algorithm → An optimization method inspired by natural selection.\n",
    "    - Technical Indicators → Stock market signals (like moving averages) that help analyze trends."
   ]
  },
  {
   "cell_type": "code",
   "execution_count": null,
   "id": "5fdd1f0e-4582-4a62-87ae-d79907d4a4fc",
   "metadata": {},
   "outputs": [],
   "source": []
  }
 ],
 "metadata": {
  "kernelspec": {
   "display_name": "Python 3 (ipykernel)",
   "language": "python",
   "name": "python3"
  },
  "language_info": {
   "codemirror_mode": {
    "name": "ipython",
    "version": 3
   },
   "file_extension": ".py",
   "mimetype": "text/x-python",
   "name": "python",
   "nbconvert_exporter": "python",
   "pygments_lexer": "ipython3",
   "version": "3.11.8"
  }
 },
 "nbformat": 4,
 "nbformat_minor": 5
}
