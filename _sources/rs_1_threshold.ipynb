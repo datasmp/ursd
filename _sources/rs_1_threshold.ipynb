{
 "cells": [
  {
   "cell_type": "markdown",
   "id": "505915a3-c97b-4609-a0a8-b727c4dbd37f",
   "metadata": {},
   "source": [
    "# Question-1: Threshold"
   ]
  },
  {
   "cell_type": "markdown",
   "id": "891f735a-bbf0-4689-a1b7-e04878c5fd63",
   "metadata": {},
   "source": [
    "## Title\n",
    "Threshold-Based Pattern Mining for Stock Market Candlestick Analysis"
   ]
  },
  {
   "attachments": {},
   "cell_type": "markdown",
   "id": "e7aea99a-6a75-4d21-bc08-5c23371426f4",
   "metadata": {},
   "source": [
    "## Abstract\n",
    "\n",
    "\n",
    "Pattern mining is an essential method for uncovering meaningful patterns in historical stock data. Among various techniques, candlestick analysis is widely used to capture daily stock price movements—open, high, low, and close—through a coded representation. However, small, insignificant differences in these values can impact the pattern coding and, consequently, predictions\n",
    "\n",
    "  \n",
    "\r\n",
    "This project introduces a threshold-based approach to encoding and pattern mining for candlesticks, aiming to mitigate the influence of minor fluctuations. By optimizing a threshold to exclude minimal price differences, we aim to improve pattern reliability and maximize returns. Performance is evaluated through backtesting, with a focus on determining the ideal threshold for enhanced accuracy in stock price forecasting.\r\n"
   ]
  },
  {
   "cell_type": "code",
   "execution_count": null,
   "id": "b34fd0a0-1baf-491f-b40c-930557e83110",
   "metadata": {},
   "outputs": [],
   "source": []
  }
 ],
 "metadata": {
  "kernelspec": {
   "display_name": "Python 3 (ipykernel)",
   "language": "python",
   "name": "python3"
  },
  "language_info": {
   "codemirror_mode": {
    "name": "ipython",
    "version": 3
   },
   "file_extension": ".py",
   "mimetype": "text/x-python",
   "name": "python",
   "nbconvert_exporter": "python",
   "pygments_lexer": "ipython3",
   "version": "3.11.8"
  }
 },
 "nbformat": 4,
 "nbformat_minor": 5
}
