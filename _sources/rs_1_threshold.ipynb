{
 "cells": [
  {
   "cell_type": "markdown",
   "id": "505915a3-c97b-4609-a0a8-b727c4dbd37f",
   "metadata": {},
   "source": [
    "# Question-1: Threshold"
   ]
  },
  {
   "cell_type": "code",
   "execution_count": 16,
   "id": "bef7a3a3-3509-4891-a9a3-5593f484cd13",
   "metadata": {},
   "outputs": [],
   "source": [
    "import yfinance as yf\n",
    "import numpy as np\n",
    "import matplotlib.pyplot as plt\n",
    "import pandas as pd\n",
    "import statistics\n",
    "from sklearn.metrics import accuracy_score"
   ]
  },
  {
   "cell_type": "markdown",
   "id": "891f735a-bbf0-4689-a1b7-e04878c5fd63",
   "metadata": {},
   "source": [
    "## Title\n",
    "Threshold-Based Pattern Mining for Stock Market Candlestick Analysis"
   ]
  },
  {
   "attachments": {},
   "cell_type": "markdown",
   "id": "e7aea99a-6a75-4d21-bc08-5c23371426f4",
   "metadata": {},
   "source": [
    "## Abstract\n",
    "\n",
    "\n",
    "Pattern mining is an essential method for uncovering meaningful patterns in historical stock data. Among various techniques, candlestick analysis is widely used to capture daily stock price movements—open, high, low, and close—through a coded representation. However, small, insignificant differences in these values can impact the pattern coding and, consequently, predictions\n",
    "\n",
    "  \n",
    "\r\n",
    "This project introduces a threshold-based approach to encoding and pattern mining for candlesticks, aiming to mitigate the influence of minor fluctuations. By optimizing a threshold to exclude minimal price differences, we aim to improve pattern reliability and maximize returns. Performance is evaluated through backtesting, with a focus on determining the ideal threshold for enhanced accuracy in stock price forecasting.\r\n"
   ]
  },
  {
   "cell_type": "markdown",
   "id": "1990c77f-dac2-4b08-bb92-bca0632b9712",
   "metadata": {},
   "source": [
    "## Data"
   ]
  },
  {
   "cell_type": "code",
   "execution_count": 21,
   "id": "130b8e21-1cd0-4a87-a183-f204887b4f8f",
   "metadata": {},
   "outputs": [],
   "source": [
    "def get_training_test_data(stock='AMZN', start='2019-1-1', end='2021-1-31', training_ratio=0.96):\n",
    "    df = yf.Ticker(stock).history(start=start, end=end)\n",
    "    df = df.iloc[:,:-3]\n",
    "    df.reset_index(inplace=True)\n",
    "    df['Date'] = [i.date() for i in df.Date]\n",
    "    df['fcc'] = [np.sign(df.Close.loc[i+1]-df.Close.loc[i]) for i in range(len(df)-1)]+[np.nan]\n",
    "    training_length = int(len(df)*training_ratio)\n",
    "    training_data = df.iloc[:training_length,:] \n",
    "    test_data = df.iloc[training_length:,:]\n",
    "    test_data.reset_index(inplace=True, drop=True)\n",
    "    return (training_data, test_data)"
   ]
  },
  {
   "cell_type": "code",
   "execution_count": 23,
   "id": "52f68543-cd8f-44b3-8271-f2db78b4bbf7",
   "metadata": {},
   "outputs": [
    {
     "data": {
      "text/plain": [
       "((503, 6), (21, 6))"
      ]
     },
     "execution_count": 23,
     "metadata": {},
     "output_type": "execute_result"
    }
   ],
   "source": [
    "df_train, df_test = get_training_test_data()\n",
    "df_train.shape, df_test.shape"
   ]
  },
  {
   "cell_type": "markdown",
   "id": "80b5fe07-3f28-40aa-b3a5-340141af584f",
   "metadata": {},
   "source": [
    "## Encoding with Threshold\n",
    "Encoding can be performed based on the lengths of the lower shadow ($l1$), body ($l2$), and upper shadow ($l3$), while disregarding segments with small sizes. "
   ]
  },
  {
   "cell_type": "markdown",
   "id": "c442388a-562a-4ef8-b387-cef8a79fe4f0",
   "metadata": {},
   "source": [
    "![](pict/threshold_values.png)  "
   ]
  },
  {
   "cell_type": "markdown",
   "id": "6b2624d7-67af-473f-a8aa-a020a38f5f54",
   "metadata": {},
   "source": [
    "- For example, if $l1 = open-low$ is smaller than a defined threshold for a red candlestick with code 'a',  $l1$ can be ignored and set to 0, changing the candlestick's code to 'd'.\n",
    "\n",
    "![](pict/threshold_candlestick.png)  "
   ]
  },
  {
   "cell_type": "code",
   "execution_count": 68,
   "id": "2054dbbf-cf09-462c-9a82-e992f51b5e68",
   "metadata": {},
   "outputs": [],
   "source": [
    "def encoder_threshold(hp, op, cp, lp, threshold_pct=0.01):\n",
    "    threshold = threshold_pct * cp\n",
    "\n",
    "    l1 = min(op,cp) - lp\n",
    "    l2 = max(op,cp) - min(op,cp)\n",
    "    l3 = hp - max(op,cp)\n",
    "\n",
    "    if (l1 > threshold) & (l2 > threshold) & (l3 > threshold):\n",
    "        if op > cp: return 'a'\n",
    "        if cp > op: return 'e'\n",
    "\n",
    "    elif (l1 <= threshold) & (l2 > threshold) & (l3 > threshold):\n",
    "        if op > cp: return 'd'\n",
    "        if cp > op: return 'h'\n",
    "\n",
    "    elif (l1 > threshold) & (l2 > threshold) & (l3 <= threshold):\n",
    "        if op > cp: return 'b'\n",
    "        if cp > op: return 'f'\n",
    "\n",
    "    elif (l1 > threshold) & (l2 <= threshold) & (l3 > threshold):\n",
    "        return 'i'\n",
    "\n",
    "    elif (l1 <= threshold) & (l2 > threshold) & (l3 <= threshold):\n",
    "        if op > cp: return 'c'\n",
    "        if cp > op: return 'g'\n",
    "\n",
    "    elif (l1 > threshold) & (l2 <= threshold) & (l3 > threshold):\n",
    "        return 'i'\n",
    "\n",
    "    elif (l1 > threshold) & (l2 <= threshold) & (l3 <= threshold):\n",
    "        return 'j'\n",
    "\n",
    "    elif (l1 < threshold) & (l2 < threshold) & (l3 < threshold):\n",
    "        return 'k'\n",
    "\n",
    "    elif (l1 < threshold) & (l2 < threshold) & (l3 > threshold):\n",
    "        return 'l'\n",
    "\n",
    "def df_encoder_threshold(data, threshold_pct=0.01):\n",
    "    data_ = data.copy()\n",
    "    encoder_list = []\n",
    "    for i in data_.index:\n",
    "        hp, op, cp, lp = data_[['High','Open', 'Close', 'Low']].loc[i]\n",
    "        encoder_list.append(encoder_threshold(hp, op, cp, lp, threshold_pct))\n",
    "    data_['code'] = encoder_list\n",
    "    return data_"
   ]
  },
  {
   "cell_type": "code",
   "execution_count": 70,
   "id": "0f05278f-6c6a-4ad0-afa5-bfeb3ccd7d61",
   "metadata": {},
   "outputs": [
    {
     "data": {
      "text/html": [
       "<div>\n",
       "<style scoped>\n",
       "    .dataframe tbody tr th:only-of-type {\n",
       "        vertical-align: middle;\n",
       "    }\n",
       "\n",
       "    .dataframe tbody tr th {\n",
       "        vertical-align: top;\n",
       "    }\n",
       "\n",
       "    .dataframe thead th {\n",
       "        text-align: right;\n",
       "    }\n",
       "</style>\n",
       "<table border=\"1\" class=\"dataframe\">\n",
       "  <thead>\n",
       "    <tr style=\"text-align: right;\">\n",
       "      <th></th>\n",
       "      <th>Date</th>\n",
       "      <th>Open</th>\n",
       "      <th>High</th>\n",
       "      <th>Low</th>\n",
       "      <th>Close</th>\n",
       "      <th>fcc</th>\n",
       "      <th>code</th>\n",
       "    </tr>\n",
       "  </thead>\n",
       "  <tbody>\n",
       "    <tr>\n",
       "      <th>0</th>\n",
       "      <td>2019-01-02</td>\n",
       "      <td>73.260002</td>\n",
       "      <td>77.667999</td>\n",
       "      <td>73.046501</td>\n",
       "      <td>76.956497</td>\n",
       "      <td>-1.0</td>\n",
       "      <td>g</td>\n",
       "    </tr>\n",
       "    <tr>\n",
       "      <th>1</th>\n",
       "      <td>2019-01-03</td>\n",
       "      <td>76.000504</td>\n",
       "      <td>76.900002</td>\n",
       "      <td>74.855499</td>\n",
       "      <td>75.014000</td>\n",
       "      <td>1.0</td>\n",
       "      <td>k</td>\n",
       "    </tr>\n",
       "    <tr>\n",
       "      <th>2</th>\n",
       "      <td>2019-01-04</td>\n",
       "      <td>76.500000</td>\n",
       "      <td>79.699997</td>\n",
       "      <td>75.915497</td>\n",
       "      <td>78.769501</td>\n",
       "      <td>1.0</td>\n",
       "      <td>k</td>\n",
       "    </tr>\n",
       "    <tr>\n",
       "      <th>3</th>\n",
       "      <td>2019-01-07</td>\n",
       "      <td>80.115501</td>\n",
       "      <td>81.727997</td>\n",
       "      <td>79.459503</td>\n",
       "      <td>81.475502</td>\n",
       "      <td>1.0</td>\n",
       "      <td>k</td>\n",
       "    </tr>\n",
       "    <tr>\n",
       "      <th>4</th>\n",
       "      <td>2019-01-08</td>\n",
       "      <td>83.234497</td>\n",
       "      <td>83.830498</td>\n",
       "      <td>80.830498</td>\n",
       "      <td>82.829002</td>\n",
       "      <td>1.0</td>\n",
       "      <td>k</td>\n",
       "    </tr>\n",
       "  </tbody>\n",
       "</table>\n",
       "</div>"
      ],
      "text/plain": [
       "         Date       Open       High        Low      Close  fcc code\n",
       "0  2019-01-02  73.260002  77.667999  73.046501  76.956497 -1.0    g\n",
       "1  2019-01-03  76.000504  76.900002  74.855499  75.014000  1.0    k\n",
       "2  2019-01-04  76.500000  79.699997  75.915497  78.769501  1.0    k\n",
       "3  2019-01-07  80.115501  81.727997  79.459503  81.475502  1.0    k\n",
       "4  2019-01-08  83.234497  83.830498  80.830498  82.829002  1.0    k"
      ]
     },
     "execution_count": 70,
     "metadata": {},
     "output_type": "execute_result"
    }
   ],
   "source": [
    "df_train_ext = df_encoder_threshold(df_train, threshold_pct=0.03)\n",
    "df_train_ext.head()"
   ]
  },
  {
   "cell_type": "code",
   "execution_count": 72,
   "id": "98328dd4-37dc-4d91-bb5b-ac068e58df23",
   "metadata": {},
   "outputs": [
    {
     "data": {
      "text/plain": [
       "code\n",
       "k    466\n",
       "g     14\n",
       "c     12\n",
       "j      6\n",
       "l      4\n",
       "d      1\n",
       "Name: count, dtype: int64"
      ]
     },
     "execution_count": 72,
     "metadata": {},
     "output_type": "execute_result"
    }
   ],
   "source": [
    "df_train_ext.code.value_counts()"
   ]
  },
  {
   "cell_type": "code",
   "execution_count": 74,
   "id": "a19d6a62-2c21-46f3-a0c4-f9f125009725",
   "metadata": {},
   "outputs": [
    {
     "data": {
      "text/html": [
       "<div>\n",
       "<style scoped>\n",
       "    .dataframe tbody tr th:only-of-type {\n",
       "        vertical-align: middle;\n",
       "    }\n",
       "\n",
       "    .dataframe tbody tr th {\n",
       "        vertical-align: top;\n",
       "    }\n",
       "\n",
       "    .dataframe thead th {\n",
       "        text-align: right;\n",
       "    }\n",
       "</style>\n",
       "<table border=\"1\" class=\"dataframe\">\n",
       "  <thead>\n",
       "    <tr style=\"text-align: right;\">\n",
       "      <th></th>\n",
       "      <th>Date</th>\n",
       "      <th>Open</th>\n",
       "      <th>High</th>\n",
       "      <th>Low</th>\n",
       "      <th>Close</th>\n",
       "      <th>fcc</th>\n",
       "      <th>code</th>\n",
       "    </tr>\n",
       "  </thead>\n",
       "  <tbody>\n",
       "    <tr>\n",
       "      <th>0</th>\n",
       "      <td>2019-01-02</td>\n",
       "      <td>73.260002</td>\n",
       "      <td>77.667999</td>\n",
       "      <td>73.046501</td>\n",
       "      <td>76.956497</td>\n",
       "      <td>-1.0</td>\n",
       "      <td>g</td>\n",
       "    </tr>\n",
       "    <tr>\n",
       "      <th>1</th>\n",
       "      <td>2019-01-03</td>\n",
       "      <td>76.000504</td>\n",
       "      <td>76.900002</td>\n",
       "      <td>74.855499</td>\n",
       "      <td>75.014000</td>\n",
       "      <td>1.0</td>\n",
       "      <td>d</td>\n",
       "    </tr>\n",
       "    <tr>\n",
       "      <th>2</th>\n",
       "      <td>2019-01-04</td>\n",
       "      <td>76.500000</td>\n",
       "      <td>79.699997</td>\n",
       "      <td>75.915497</td>\n",
       "      <td>78.769501</td>\n",
       "      <td>1.0</td>\n",
       "      <td>h</td>\n",
       "    </tr>\n",
       "    <tr>\n",
       "      <th>3</th>\n",
       "      <td>2019-01-07</td>\n",
       "      <td>80.115501</td>\n",
       "      <td>81.727997</td>\n",
       "      <td>79.459503</td>\n",
       "      <td>81.475502</td>\n",
       "      <td>1.0</td>\n",
       "      <td>g</td>\n",
       "    </tr>\n",
       "    <tr>\n",
       "      <th>4</th>\n",
       "      <td>2019-01-08</td>\n",
       "      <td>83.234497</td>\n",
       "      <td>83.830498</td>\n",
       "      <td>80.830498</td>\n",
       "      <td>82.829002</td>\n",
       "      <td>1.0</td>\n",
       "      <td>j</td>\n",
       "    </tr>\n",
       "  </tbody>\n",
       "</table>\n",
       "</div>"
      ],
      "text/plain": [
       "         Date       Open       High        Low      Close  fcc code\n",
       "0  2019-01-02  73.260002  77.667999  73.046501  76.956497 -1.0    g\n",
       "1  2019-01-03  76.000504  76.900002  74.855499  75.014000  1.0    d\n",
       "2  2019-01-04  76.500000  79.699997  75.915497  78.769501  1.0    h\n",
       "3  2019-01-07  80.115501  81.727997  79.459503  81.475502  1.0    g\n",
       "4  2019-01-08  83.234497  83.830498  80.830498  82.829002  1.0    j"
      ]
     },
     "execution_count": 74,
     "metadata": {},
     "output_type": "execute_result"
    }
   ],
   "source": [
    "df_train_ext = df_encoder_threshold(df_train, threshold_pct=0.01)\n",
    "df_train_ext.head()"
   ]
  },
  {
   "cell_type": "code",
   "execution_count": 76,
   "id": "5f7a9a1e-4047-45ea-9466-970777870dcc",
   "metadata": {},
   "outputs": [
    {
     "data": {
      "text/plain": [
       "code\n",
       "k    210\n",
       "g     81\n",
       "c     71\n",
       "j     47\n",
       "l     29\n",
       "b     14\n",
       "f     13\n",
       "h     12\n",
       "i     10\n",
       "d      8\n",
       "a      6\n",
       "e      2\n",
       "Name: count, dtype: int64"
      ]
     },
     "execution_count": 76,
     "metadata": {},
     "output_type": "execute_result"
    }
   ],
   "source": [
    "df_train_ext.code.value_counts()"
   ]
  }
 ],
 "metadata": {
  "kernelspec": {
   "display_name": "Python 3 (ipykernel)",
   "language": "python",
   "name": "python3"
  },
  "language_info": {
   "codemirror_mode": {
    "name": "ipython",
    "version": 3
   },
   "file_extension": ".py",
   "mimetype": "text/x-python",
   "name": "python",
   "nbconvert_exporter": "python",
   "pygments_lexer": "ipython3",
   "version": "3.11.8"
  }
 },
 "nbformat": 4,
 "nbformat_minor": 5
}
