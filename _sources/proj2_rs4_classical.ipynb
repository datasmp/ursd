{
 "cells": [
  {
   "cell_type": "markdown",
   "id": "505915a3-c97b-4609-a0a8-b727c4dbd37f",
   "metadata": {},
   "source": [
    "# Question-4: Classical ML \n",
    "![](title_pict/Classical_ML_Models2.png)"
   ]
  },
  {
   "cell_type": "markdown",
   "id": "891f735a-bbf0-4689-a1b7-e04878c5fd63",
   "metadata": {},
   "source": [
    "## Title\n",
    "Comparing the Performance of Classical Machine Learning Models with LSTM in Predicting Stock Prices"
   ]
  },
  {
   "attachments": {},
   "cell_type": "markdown",
   "id": "e7aea99a-6a75-4d21-bc08-5c23371426f4",
   "metadata": {},
   "source": [
    "## Abstract\n",
    "\n",
    "Forecasting stock market behavior is particularly challenging due to its inherent volatility and complexity. To address this, a variety of machine learning algorithms have been employed to construct predictive models using historical stock data. These algorithms work by selecting the most appropriate mapping function from a set of candidate functions to fit input–output relationships.\n",
    "\n",
    "In Alzaman, Long Short-Term Memory (LSTM) networks—a type of recurrent neural network well-suited for time series data were applied to predict future stock price values. Building on this work, the present project aims to develop classical machine learning models, including linear, tree-based, and ensemble approaches, and systematically compare their predictive performance with that of LSTM models. This comparison will provide insights into the relative strengths, weaknesses, and practical applicability of classical models versus deep learning methods in financial forecasting."
   ]
  }
 ],
 "metadata": {
  "kernelspec": {
   "display_name": "Python 3 (ipykernel)",
   "language": "python",
   "name": "python3"
  },
  "language_info": {
   "codemirror_mode": {
    "name": "ipython",
    "version": 3
   },
   "file_extension": ".py",
   "mimetype": "text/x-python",
   "name": "python",
   "nbconvert_exporter": "python",
   "pygments_lexer": "ipython3",
   "version": "3.11.8"
  }
 },
 "nbformat": 4,
 "nbformat_minor": 5
}
