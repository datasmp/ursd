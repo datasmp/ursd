{
 "cells": [
  {
   "cell_type": "markdown",
   "id": "505915a3-c97b-4609-a0a8-b727c4dbd37f",
   "metadata": {},
   "source": [
    "# Question-2: Genetic Algorithms\n",
    "![](title_pict/genetic_algorithm2.png)"
   ]
  },
  {
   "cell_type": "markdown",
   "id": "891f735a-bbf0-4689-a1b7-e04878c5fd63",
   "metadata": {},
   "source": [
    "## Title\n",
    "Hyperparameter Optimization for Predicting Stock Market Behavior"
   ]
  },
  {
   "attachments": {},
   "cell_type": "markdown",
   "id": "e7aea99a-6a75-4d21-bc08-5c23371426f4",
   "metadata": {},
   "source": [
    "## Abstract\n",
    "\n",
    "The Efficient Market Hypothesis (EMH) and the Random Walk Theory suggest that stock prices are inherently unpredictable. However, advances in machine learning theory and the rise of computational power have motivated numerous studies that challenge this view, demonstrating potential predictability in stock market behavior.\n",
    "\n",
    "In Alzaman, Long Short-Term Memory (LSTM) networks, neural models well-suited for time-series analysis, were applied to predict both future stock prices and market direction. Predictive machine learning algorithms operate by selecting a mapping function from a set of candidate functions, with hyperparameters constraining or expanding the scope of this function space. Careful hyperparameter selection is essential to prevent overfitting and to promote robust generalization.\n",
    "\n",
    "In Alzaman, a genetic algorithm inspired by natural selection was employed to optimize hyperparameters. Building upon this foundation, the present project aims to evaluate and compare multiple hyperparameter tuning strategies, including grid search, Bayesian optimization, and Hyperband, against the genetic algorithm. The objective is to determine the most effective method for improving model performance and reliability in forecasting stock market behavior.\n"
   ]
  },
  {
   "cell_type": "code",
   "execution_count": null,
   "id": "052375c3-51a0-4f39-8f7a-1bd7083cac85",
   "metadata": {},
   "outputs": [],
   "source": []
  }
 ],
 "metadata": {
  "kernelspec": {
   "display_name": "Python 3 (ipykernel)",
   "language": "python",
   "name": "python3"
  },
  "language_info": {
   "codemirror_mode": {
    "name": "ipython",
    "version": 3
   },
   "file_extension": ".py",
   "mimetype": "text/x-python",
   "name": "python",
   "nbconvert_exporter": "python",
   "pygments_lexer": "ipython3",
   "version": "3.11.8"
  }
 },
 "nbformat": 4,
 "nbformat_minor": 5
}
