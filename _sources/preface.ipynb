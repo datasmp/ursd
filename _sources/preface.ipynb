{
 "cells": [
  {
   "cell_type": "markdown",
   "id": "3c090f13-3664-4411-af64-1ce5e40e0fef",
   "metadata": {},
   "source": [
    "# Preface\n",
    "![](title_pict/undergraduate_reserach_stock_data2.png)"
   ]
  },
  {
   "cell_type": "markdown",
   "id": "3ecb482e-d5e8-4730-b934-86db93aea282",
   "metadata": {},
   "source": [
    "The purpose of this book is to provide research projects for undergraduate students. It includes various projects, each with multiple research questions. These projects are inspired by the \"future work\" sections of published research articles. \n",
    "\n",
    "Each project is based on a published paper, starting with replicating the original work as closely as possible. Then, each research question focuses on improving a specific aspect of the original study.\n",
    "\n",
    "The code examples in this book are written in Python but can be adapted to other programming languages. The projects are suitable for programming courses in Computer Science, Engineering, or Business departments."
   ]
  },
  {
   "cell_type": "code",
   "execution_count": null,
   "id": "a4312ed3-5cb4-401d-8870-ed5b1c894cb7",
   "metadata": {},
   "outputs": [],
   "source": []
  }
 ],
 "metadata": {
  "kernelspec": {
   "display_name": "Python 3 (ipykernel)",
   "language": "python",
   "name": "python3"
  },
  "language_info": {
   "codemirror_mode": {
    "name": "ipython",
    "version": 3
   },
   "file_extension": ".py",
   "mimetype": "text/x-python",
   "name": "python",
   "nbconvert_exporter": "python",
   "pygments_lexer": "ipython3",
   "version": "3.11.8"
  }
 },
 "nbformat": 4,
 "nbformat_minor": 5
}
