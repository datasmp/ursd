{
 "cells": [
  {
   "cell_type": "markdown",
   "id": "3c090f13-3664-4411-af64-1ce5e40e0fef",
   "metadata": {},
   "source": [
    "# Preface\n",
    "![](title_pict/undergraduate_reserach_stock_data2.png)"
   ]
  },
  {
   "cell_type": "markdown",
   "id": "3ecb482e-d5e8-4730-b934-86db93aea282",
   "metadata": {},
   "source": [
    "I have been mentoring undergraduate research projects in data science since 2018, with a focus on stock data. Working with stock data offers several advantages, including easy access to datasets through the Yahoo Finance API and a straightforward understanding of basic terminology, as it aligns closely with real-world knowledge.\n",
    "\n",
    "The purpose of this book is to provide research projects for undergraduate students. It includes various projects, each with multiple research questions. These projects are inspired by the \"future work\" sections of published research articles. \n",
    "\n",
    "Each project is based on a published paper, starting with replicating the original work as closely as possible. Then, each research question focuses on improving a specific aspect of the original study.\n",
    "\n",
    "\n",
    "Sticking to a published article offers several benefits:\n",
    "- It provides students with clear examples of the structure, steps, and components of a research project.\n",
    "- Revisiting the article multiple times throughout the project helps students gain a deeper understanding of the subject.\n",
    "- Future work recommendations in the article suggest potential research questions for further exploration.\n",
    "- The reference section offers a well-organized list of relevant sources, with explanations often found in the Introduction and Literature Review sections.\n",
    "- For any unclear aspects, students can reach out to the authors for clarification.\n",
    "\n",
    "  \n",
    "The code examples in this book are written in Python but can be adapted to other programming languages. The projects are suitable for programming courses in Computer Science, Engineering, or Business departments."
   ]
  },
  {
   "cell_type": "markdown",
   "id": "caf5941b-f59b-42ce-ad43-2110c6d692d8",
   "metadata": {},
   "source": [
    "**Yusuf Danisman**, the author, is a faculty member in the Mathematics and Computer Science Department at Queensborough Community College, CUNY. He obtained his PhD in Mathematics from The Ohio State University and worked at the University of Oklahoma before joining CUNY. He teaches Mathematics, Statistics, Computer Science, and Data Science courses. Dr. Danisman is currently researching Financial Machine Learning and Geometric Deep Learning. He is also a steering committee member of the [Northeast Big Data Innovation Hub](https://nebigdatahub.org/)."
   ]
  },
  {
   "cell_type": "code",
   "execution_count": null,
   "id": "9aab55e5-53f1-4793-9d9d-a0fac0e94ae1",
   "metadata": {},
   "outputs": [],
   "source": []
  }
 ],
 "metadata": {
  "kernelspec": {
   "display_name": "Python 3 (ipykernel)",
   "language": "python",
   "name": "python3"
  },
  "language_info": {
   "codemirror_mode": {
    "name": "ipython",
    "version": 3
   },
   "file_extension": ".py",
   "mimetype": "text/x-python",
   "name": "python",
   "nbconvert_exporter": "python",
   "pygments_lexer": "ipython3",
   "version": "3.11.8"
  }
 },
 "nbformat": 4,
 "nbformat_minor": 5
}
