{
 "cells": [
  {
   "cell_type": "markdown",
   "id": "505915a3-c97b-4609-a0a8-b727c4dbd37f",
   "metadata": {},
   "source": [
    "# Question-4: Genetic Algorithm"
   ]
  },
  {
   "cell_type": "markdown",
   "id": "891f735a-bbf0-4689-a1b7-e04878c5fd63",
   "metadata": {},
   "source": [
    "## Title\n",
    "Genetic Algorithm Based Pattern Mining for Stock Market Candlestick Analysis\n"
   ]
  },
  {
   "attachments": {},
   "cell_type": "markdown",
   "id": "e7aea99a-6a75-4d21-bc08-5c23371426f4",
   "metadata": {},
   "source": [
    "## Abstract\n",
    "\n",
    "\n",
    "\n",
    "Pattern mining plays a crucial role in uncovering significant trends within historical stock data. Among the available methods, candlestick analysis is a popular technique for visualizing daily stock price movements—open, high, low, and close—through a coded representation. However, even small variations in these values can impact the coding process and influence predictions. Additionally, the relative sizes of consecutive candlesticks carry critical information about future stock price movements.\n",
    "\r\n",
    "This project seeks to optimize the encoding of candlesticks by identifying ideal thresholds that enhance prediction accuracy. To achieve this, a genetic algorithm—a bio-inspired optimization technique based on natural selection—will be employed, providing a robust approach to improving pattern mining for stock market analysis.\r\n",
    "\r\n"
   ]
  },
  {
   "cell_type": "code",
   "execution_count": null,
   "id": "b34fd0a0-1baf-491f-b40c-930557e83110",
   "metadata": {},
   "outputs": [],
   "source": []
  }
 ],
 "metadata": {
  "kernelspec": {
   "display_name": "Python 3 (ipykernel)",
   "language": "python",
   "name": "python3"
  },
  "language_info": {
   "codemirror_mode": {
    "name": "ipython",
    "version": 3
   },
   "file_extension": ".py",
   "mimetype": "text/x-python",
   "name": "python",
   "nbconvert_exporter": "python",
   "pygments_lexer": "ipython3",
   "version": "3.11.8"
  }
 },
 "nbformat": 4,
 "nbformat_minor": 5
}
