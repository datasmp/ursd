{
 "cells": [
  {
   "cell_type": "markdown",
   "id": "505915a3-c97b-4609-a0a8-b727c4dbd37f",
   "metadata": {},
   "source": [
    "# Question-1: Technical Indicators\n",
    "![](title_pict/technical_ind.png)"
   ]
  },
  {
   "cell_type": "markdown",
   "id": "891f735a-bbf0-4689-a1b7-e04878c5fd63",
   "metadata": {},
   "source": [
    "## Title\n",
    "The Effects of Technical Indicators on Stock Price Prediction"
   ]
  },
  {
   "attachments": {},
   "cell_type": "markdown",
   "id": "e7aea99a-6a75-4d21-bc08-5c23371426f4",
   "metadata": {},
   "source": [
    "## Abstract\n",
    "Technical indicators are widely used by investors to conduct technical analysis, interpret stock price behavior, and identify potential patterns in financial data. They are often employed to determine optimal entry and exit points for trades. Beyond their role in trading strategies, technical indicators can also serve as input features for machine learning models aimed at predicting future stock prices and market direction.\n",
    "\n",
    "In Alzaman, the author utilized only four indicators, Moving Average (MA), Exponential Moving Average (EMA), Moving Average Convergence Divergence (MACD), and Relative Strength Index (RSI). However, the literature includes a wide range of additional indicators, such as Percentage Price Oscillator (PPO), Stochastic Oscillator, Standard Deviation, On-Balance Volume (OBV), and Williams %R, which may also be leveraged as features.\n",
    "\n",
    "This project will incorporate multiple sets of technical indicators as input features and evaluate their impact on the predictive performance of LSTM models, building upon the framework presented in Alzaman. By systematically comparing different combinations of indicators, the study aims to assess their effectiveness and contribution to improving model accuracy and reliability in stock price forecasting.\r\n"
   ]
  }
 ],
 "metadata": {
  "kernelspec": {
   "display_name": "Python 3 (ipykernel)",
   "language": "python",
   "name": "python3"
  },
  "language_info": {
   "codemirror_mode": {
    "name": "ipython",
    "version": 3
   },
   "file_extension": ".py",
   "mimetype": "text/x-python",
   "name": "python",
   "nbconvert_exporter": "python",
   "pygments_lexer": "ipython3",
   "version": "3.11.8"
  }
 },
 "nbformat": 4,
 "nbformat_minor": 5
}
