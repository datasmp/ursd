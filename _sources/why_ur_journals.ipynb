{
 "cells": [
  {
   "cell_type": "markdown",
   "id": "f7eb8eb8-ccbf-4917-bbf5-b90d8e05e9aa",
   "metadata": {},
   "source": [
    "# UR Journals"
   ]
  },
  {
   "cell_type": "markdown",
   "id": "5ffbcae5-f4ab-4697-94ac-36211ef143f8",
   "metadata": {},
   "source": [
    "- [City Tech Undergraduate Research Journal List](https://libguides.citytech.cuny.edu/undergradjournals/home)\n",
    "- [CUR Undergraduate Research Journal List](https://www.cur.org/resources-publications/student-resources/student-journals/undergraduate-research-journal-listing/)"
   ]
  },
  {
   "cell_type": "code",
   "execution_count": null,
   "id": "d659bfcc-6a80-446b-9acc-fecd15782dbb",
   "metadata": {},
   "outputs": [],
   "source": []
  }
 ],
 "metadata": {
  "kernelspec": {
   "display_name": "Python 3 (ipykernel)",
   "language": "python",
   "name": "python3"
  },
  "language_info": {
   "codemirror_mode": {
    "name": "ipython",
    "version": 3
   },
   "file_extension": ".py",
   "mimetype": "text/x-python",
   "name": "python",
   "nbconvert_exporter": "python",
   "pygments_lexer": "ipython3",
   "version": "3.11.8"
  }
 },
 "nbformat": 4,
 "nbformat_minor": 5
}
