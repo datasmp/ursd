{
 "cells": [
  {
   "cell_type": "markdown",
   "id": "253c6575",
   "metadata": {},
   "source": [
    "# Acknowledgments\n",
    "\n",
    "![](title_pict/acknowledgements2.png)"
   ]
  },
  {
   "cell_type": "markdown",
   "id": "e0ac931b-4445-4b99-b6b9-4313b0eb70d1",
   "metadata": {},
   "source": [
    "I would like to express my gratitude to all my past and current undergraduate students for selecting me as their mentor and providing valuable insights that have helped shape the creation of this resource."
   ]
  },
  {
   "cell_type": "code",
   "execution_count": null,
   "id": "0ffdb120-816c-474a-b37a-e3d1978ae4f9",
   "metadata": {},
   "outputs": [],
   "source": []
  }
 ],
 "metadata": {
  "hide_input": false,
  "kernelspec": {
   "display_name": "Python 3 (ipykernel)",
   "language": "python",
   "name": "python3"
  },
  "language_info": {
   "codemirror_mode": {
    "name": "ipython",
    "version": 3
   },
   "file_extension": ".py",
   "mimetype": "text/x-python",
   "name": "python",
   "nbconvert_exporter": "python",
   "pygments_lexer": "ipython3",
   "version": "3.11.8"
  },
  "toc": {
   "base_numbering": 1,
   "nav_menu": {},
   "number_sections": true,
   "sideBar": true,
   "skip_h1_title": false,
   "title_cell": "Table of Contents",
   "title_sidebar": "Contents",
   "toc_cell": false,
   "toc_position": {},
   "toc_section_display": true,
   "toc_window_display": false
  }
 },
 "nbformat": 4,
 "nbformat_minor": 5
}
