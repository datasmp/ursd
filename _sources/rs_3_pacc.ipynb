{
 "cells": [
  {
   "cell_type": "markdown",
   "id": "505915a3-c97b-4609-a0a8-b727c4dbd37f",
   "metadata": {},
   "source": [
    "# Question-3: PACC\n",
    "![](title_pict/pacc2.png)"
   ]
  },
  {
   "cell_type": "code",
   "execution_count": 17,
   "id": "f059e295-d81a-4d13-9d7b-9fcfe9f032fe",
   "metadata": {},
   "outputs": [],
   "source": [
    "import yfinance as yf\n",
    "import numpy as np\n",
    "import matplotlib.pyplot as plt\n",
    "import pandas as pd\n",
    "import statistics\n",
    "from sklearn.metrics import accuracy_score"
   ]
  },
  {
   "cell_type": "markdown",
   "id": "891f735a-bbf0-4689-a1b7-e04878c5fd63",
   "metadata": {},
   "source": [
    "## Title\n",
    "Enhancing Pattern Accuracy Metric in Candlestick Pattern Mining for Stock Price Forecasting"
   ]
  },
  {
   "attachments": {},
   "cell_type": "markdown",
   "id": "6041f02b-3af4-460d-8961-1ccb2845389d",
   "metadata": {},
   "source": [
    "## Abstract\n",
    "\n",
    "Predicting future stock prices is notoriously challenging due to the influence of numerous variables. However, recent advances in pattern mining and machine learning have yielded promising results in forecasting stock market behavior. Candlestick patterns which are visual representations of stock price movements can be used to identify patterns that may indicate future trends.\n",
    "\r\n",
    "Current prediction methods rely on matching sequences of candlesticks to patterns with the highest \"pattern accuracy\" scores. However, this metric has limitations, as it can yield high scores even when patterns appear only once in historical data, reducing reliability. This project aims to improve predictive accuracy by developing a weighted pattern accuracy metric that considers the frequency and significance of patterns within historical data, ultimately enhancing the robustness of stock price forecasts.\r\n",
    "\n",
    "\n",
    "\r\n",
    "\r\n"
   ]
  },
  {
   "cell_type": "markdown",
   "id": "76426476-618d-4cb3-abe3-ce2d56a881f1",
   "metadata": {},
   "source": [
    "## Definition of PACC"
   ]
  },
  {
   "cell_type": "markdown",
   "id": "b58d86a8-d079-44a2-aaba-01b6a267dab5",
   "metadata": {},
   "source": [
    "Let $PSet = \\{(KTS_i, Trend_i)\\}_{i=1}^n =\\{(KTS_1, Trend_1), (KTS_2, Trend_2),....,(KTS_n, Trend_n)\\}$ be the Pattern Set."
   ]
  },
  {
   "cell_type": "markdown",
   "id": "4084bd78-82f7-4c3f-a078-591d8291d86d",
   "metadata": {},
   "source": [
    "### Subsequence\n",
    "\n",
    "$\\begin{equation}\n",
    "whetherSub(X,Y)=\n",
    "    \\begin{cases}\n",
    "        1 & \\text{if } \\mbox{X is a subsequence of Y} \\\\\n",
    "        0 & \\text{if } \\mbox{otherwise}\n",
    "    \\end{cases}\n",
    "\\end{equation}$"
   ]
  },
  {
   "cell_type": "markdown",
   "id": "5aa25001-4d75-4b12-98a5-4ffed972583c",
   "metadata": {},
   "source": [
    "### oNum"
   ]
  },
  {
   "cell_type": "markdown",
   "id": "2a609a9e-d516-43ae-8efb-a03841a71cad",
   "metadata": {},
   "source": [
    "$\\displaystyle oNum_i = \\sum_{j=1}^nwhetherSub(KTS_i,KTS_j)$"
   ]
  },
  {
   "cell_type": "markdown",
   "id": "2d3b02f8-6b5d-47bd-ac3b-9f13c6a1c2f2",
   "metadata": {},
   "source": [
    "### sameTrendNum\n",
    "\n",
    "$\\begin{equation}\n",
    "sameTrend((KTS_i, Trend_i),(KTS_j, Trend_j))=\n",
    "    \\begin{cases}\n",
    "        1 & \\text{if }  KTS_i \\,\\,\\,\\mbox{is a subsequence of} \\,\\,\\,KTS_j \\\\\n",
    "          &\\,\\,\\,\\,\\,\\,\\,\\,\\, \\mbox{ and }\\,\\,\\,  Trend_i = Trend_j \\\\\\\\\n",
    "        0 & \\text{if } \\mbox{otherwise}\n",
    "    \\end{cases}\n",
    "\\end{equation}$"
   ]
  },
  {
   "cell_type": "markdown",
   "id": "7f8da6cb-8d2b-4ec6-a1d7-fd9765996420",
   "metadata": {},
   "source": [
    "$\\displaystyle sameTrendNum_i = \\sum_{j=1}^nsameTrend(KTS_i,KTS_j)$"
   ]
  },
  {
   "cell_type": "markdown",
   "id": "e5e98cf6-4f38-4e9c-a090-29c951552560",
   "metadata": {},
   "source": [
    "### PACC\n",
    "$\\displaystyle PACC_i = \\frac{sameTrendNum_i}{oNum_i}$"
   ]
  },
  {
   "cell_type": "markdown",
   "id": "a0a4decf-e6bb-4e3d-93f8-38ecbf518223",
   "metadata": {},
   "source": [
    "## Data"
   ]
  },
  {
   "cell_type": "code",
   "execution_count": 22,
   "id": "b34fd0a0-1baf-491f-b40c-930557e83110",
   "metadata": {},
   "outputs": [],
   "source": [
    "def get_training_test_data(stock='AMZN', start='2019-1-1', end='2021-1-31', training_ratio=0.96):\n",
    "    df = yf.Ticker(stock).history(start=start, end=end)\n",
    "    df = df.iloc[:,:-3]\n",
    "    df.reset_index(inplace=True)\n",
    "    df['Date'] = [i.date() for i in df.Date]\n",
    "    df['fcc'] = [np.sign(df.Close.loc[i+1]-df.Close.loc[i]) for i in range(len(df)-1)]+[np.nan]\n",
    "    training_length = int(len(df)*training_ratio)\n",
    "    training_data = df.iloc[:training_length,:] \n",
    "    test_data = df.iloc[training_length:,:]\n",
    "    test_data.reset_index(inplace=True, drop=True)\n",
    "    return (training_data, test_data)"
   ]
  },
  {
   "cell_type": "code",
   "execution_count": 24,
   "id": "8ef8946e-6534-42e0-8d65-cf5a5ac48027",
   "metadata": {},
   "outputs": [
    {
     "data": {
      "text/plain": [
       "((503, 6), (21, 6))"
      ]
     },
     "execution_count": 24,
     "metadata": {},
     "output_type": "execute_result"
    }
   ],
   "source": [
    "df_train, df_test = get_training_test_data()\n",
    "df_train.shape, df_test.shape"
   ]
  },
  {
   "cell_type": "markdown",
   "id": "ed816e5b-fe1b-4a81-9bb2-b5517debb5bd",
   "metadata": {},
   "source": [
    "## Encoding"
   ]
  },
  {
   "cell_type": "code",
   "execution_count": 27,
   "id": "e1d286ad-6d2a-4e0a-b493-d4d40f4f4461",
   "metadata": {},
   "outputs": [],
   "source": [
    "def encoder(hp, op, cp, lp):\n",
    "    if hp  > op > cp  > lp: return 'a'\n",
    "    if hp == op > cp  > lp: return 'b'\n",
    "    if hp == op > cp == lp: return 'c'\n",
    "    if hp  > op > cp == lp: return 'd'\n",
    "        \n",
    "    if hp  > cp > op  > lp: return 'e'\n",
    "    if hp == cp > op  > lp: return 'f'\n",
    "    if hp == cp > op == lp: return 'g'\n",
    "    if hp  > cp > op == lp: return 'h'\n",
    "\n",
    "    if hp  > op == cp  > lp: return 'i'\n",
    "    if hp == op == cp  > lp: return 'j'\n",
    "    if hp == op == cp == lp: return 'k'\n",
    "    if hp  > op == cp == lp: return 'l' \n",
    "\n",
    "def df_encoder(data):\n",
    "    data_ = data.copy()\n",
    "    encoder_list = []\n",
    "    for i in data_.index:\n",
    "        hp, op, cp, lp = data_[['High','Open', 'Close', 'Low']].loc[i]\n",
    "        encoder_list.append(encoder(hp, op, cp, lp))\n",
    "    data_['code'] = encoder_list\n",
    "    return data_"
   ]
  },
  {
   "cell_type": "code",
   "execution_count": 35,
   "id": "c707b7d8-e52e-4b61-a9d0-d0b4715b15ca",
   "metadata": {},
   "outputs": [
    {
     "data": {
      "text/html": [
       "<div>\n",
       "<style scoped>\n",
       "    .dataframe tbody tr th:only-of-type {\n",
       "        vertical-align: middle;\n",
       "    }\n",
       "\n",
       "    .dataframe tbody tr th {\n",
       "        vertical-align: top;\n",
       "    }\n",
       "\n",
       "    .dataframe thead th {\n",
       "        text-align: right;\n",
       "    }\n",
       "</style>\n",
       "<table border=\"1\" class=\"dataframe\">\n",
       "  <thead>\n",
       "    <tr style=\"text-align: right;\">\n",
       "      <th></th>\n",
       "      <th>Date</th>\n",
       "      <th>Open</th>\n",
       "      <th>High</th>\n",
       "      <th>Low</th>\n",
       "      <th>Close</th>\n",
       "      <th>fcc</th>\n",
       "      <th>code</th>\n",
       "    </tr>\n",
       "  </thead>\n",
       "  <tbody>\n",
       "    <tr>\n",
       "      <th>0</th>\n",
       "      <td>2019-01-02</td>\n",
       "      <td>73.260002</td>\n",
       "      <td>77.667999</td>\n",
       "      <td>73.046501</td>\n",
       "      <td>76.956497</td>\n",
       "      <td>-1.0</td>\n",
       "      <td>e</td>\n",
       "    </tr>\n",
       "    <tr>\n",
       "      <th>1</th>\n",
       "      <td>2019-01-03</td>\n",
       "      <td>76.000504</td>\n",
       "      <td>76.900002</td>\n",
       "      <td>74.855499</td>\n",
       "      <td>75.014000</td>\n",
       "      <td>1.0</td>\n",
       "      <td>a</td>\n",
       "    </tr>\n",
       "    <tr>\n",
       "      <th>2</th>\n",
       "      <td>2019-01-04</td>\n",
       "      <td>76.500000</td>\n",
       "      <td>79.699997</td>\n",
       "      <td>75.915497</td>\n",
       "      <td>78.769501</td>\n",
       "      <td>1.0</td>\n",
       "      <td>e</td>\n",
       "    </tr>\n",
       "    <tr>\n",
       "      <th>3</th>\n",
       "      <td>2019-01-07</td>\n",
       "      <td>80.115501</td>\n",
       "      <td>81.727997</td>\n",
       "      <td>79.459503</td>\n",
       "      <td>81.475502</td>\n",
       "      <td>1.0</td>\n",
       "      <td>e</td>\n",
       "    </tr>\n",
       "    <tr>\n",
       "      <th>4</th>\n",
       "      <td>2019-01-08</td>\n",
       "      <td>83.234497</td>\n",
       "      <td>83.830498</td>\n",
       "      <td>80.830498</td>\n",
       "      <td>82.829002</td>\n",
       "      <td>1.0</td>\n",
       "      <td>a</td>\n",
       "    </tr>\n",
       "  </tbody>\n",
       "</table>\n",
       "</div>"
      ],
      "text/plain": [
       "         Date       Open       High        Low      Close  fcc code\n",
       "0  2019-01-02  73.260002  77.667999  73.046501  76.956497 -1.0    e\n",
       "1  2019-01-03  76.000504  76.900002  74.855499  75.014000  1.0    a\n",
       "2  2019-01-04  76.500000  79.699997  75.915497  78.769501  1.0    e\n",
       "3  2019-01-07  80.115501  81.727997  79.459503  81.475502  1.0    e\n",
       "4  2019-01-08  83.234497  83.830498  80.830498  82.829002  1.0    a"
      ]
     },
     "execution_count": 35,
     "metadata": {},
     "output_type": "execute_result"
    }
   ],
   "source": [
    "df_train = df_encoder(df_train)\n",
    "df_test = df_encoder(df_test)\n",
    "df_train.head().round(2)"
   ]
  },
  {
   "cell_type": "markdown",
   "id": "8a520411-90a2-4715-9e9d-1c916ea641c3",
   "metadata": {},
   "source": [
    "## Change Points"
   ]
  },
  {
   "cell_type": "code",
   "execution_count": 40,
   "id": "4af7274c-6915-4eb5-af74-11ac8cbadd55",
   "metadata": {},
   "outputs": [],
   "source": [
    "def change_points(data):\n",
    "    data_ = data.copy()\n",
    "    change_pts, change_types = [True], ['Start']\n",
    "\n",
    "    for i in range(1, len(data_)-1):\n",
    "        \n",
    "        left_change  = int(np.sign(data_['Close'][i]-data_['Close'][i-1]))\n",
    "        right_change = int(np.sign(data_['Close'][i+1]-data_['Close'][i]))\n",
    "        \n",
    "        if left_change != right_change:\n",
    "            change_pts.append(True)\n",
    "        else:\n",
    "            change_pts.append(False)\n",
    "            \n",
    "        change_types.append((left_change, right_change))\n",
    "\n",
    "    change_pts.append(False)\n",
    "    change_types.append('End')\n",
    "\n",
    "    data_['change_points'] = change_pts\n",
    "    data_['change_types'] = change_types\n",
    "    \n",
    "    return data_"
   ]
  },
  {
   "cell_type": "code",
   "execution_count": 42,
   "id": "6e969c68-210c-4a5f-bab6-3ed95c17722a",
   "metadata": {},
   "outputs": [
    {
     "data": {
      "text/html": [
       "<div>\n",
       "<style scoped>\n",
       "    .dataframe tbody tr th:only-of-type {\n",
       "        vertical-align: middle;\n",
       "    }\n",
       "\n",
       "    .dataframe tbody tr th {\n",
       "        vertical-align: top;\n",
       "    }\n",
       "\n",
       "    .dataframe thead th {\n",
       "        text-align: right;\n",
       "    }\n",
       "</style>\n",
       "<table border=\"1\" class=\"dataframe\">\n",
       "  <thead>\n",
       "    <tr style=\"text-align: right;\">\n",
       "      <th></th>\n",
       "      <th>Date</th>\n",
       "      <th>Open</th>\n",
       "      <th>High</th>\n",
       "      <th>Low</th>\n",
       "      <th>Close</th>\n",
       "      <th>fcc</th>\n",
       "      <th>code</th>\n",
       "      <th>change_points</th>\n",
       "      <th>change_types</th>\n",
       "    </tr>\n",
       "  </thead>\n",
       "  <tbody>\n",
       "    <tr>\n",
       "      <th>0</th>\n",
       "      <td>2019-01-02</td>\n",
       "      <td>73.26</td>\n",
       "      <td>77.67</td>\n",
       "      <td>73.05</td>\n",
       "      <td>76.96</td>\n",
       "      <td>-1.0</td>\n",
       "      <td>e</td>\n",
       "      <td>True</td>\n",
       "      <td>Start</td>\n",
       "    </tr>\n",
       "    <tr>\n",
       "      <th>1</th>\n",
       "      <td>2019-01-03</td>\n",
       "      <td>76.00</td>\n",
       "      <td>76.90</td>\n",
       "      <td>74.86</td>\n",
       "      <td>75.01</td>\n",
       "      <td>1.0</td>\n",
       "      <td>a</td>\n",
       "      <td>True</td>\n",
       "      <td>(-1, 1)</td>\n",
       "    </tr>\n",
       "    <tr>\n",
       "      <th>2</th>\n",
       "      <td>2019-01-04</td>\n",
       "      <td>76.50</td>\n",
       "      <td>79.70</td>\n",
       "      <td>75.92</td>\n",
       "      <td>78.77</td>\n",
       "      <td>1.0</td>\n",
       "      <td>e</td>\n",
       "      <td>False</td>\n",
       "      <td>(1, 1)</td>\n",
       "    </tr>\n",
       "    <tr>\n",
       "      <th>3</th>\n",
       "      <td>2019-01-07</td>\n",
       "      <td>80.12</td>\n",
       "      <td>81.73</td>\n",
       "      <td>79.46</td>\n",
       "      <td>81.48</td>\n",
       "      <td>1.0</td>\n",
       "      <td>e</td>\n",
       "      <td>False</td>\n",
       "      <td>(1, 1)</td>\n",
       "    </tr>\n",
       "    <tr>\n",
       "      <th>4</th>\n",
       "      <td>2019-01-08</td>\n",
       "      <td>83.23</td>\n",
       "      <td>83.83</td>\n",
       "      <td>80.83</td>\n",
       "      <td>82.83</td>\n",
       "      <td>1.0</td>\n",
       "      <td>a</td>\n",
       "      <td>False</td>\n",
       "      <td>(1, 1)</td>\n",
       "    </tr>\n",
       "  </tbody>\n",
       "</table>\n",
       "</div>"
      ],
      "text/plain": [
       "         Date   Open   High    Low  Close  fcc code  change_points  \\\n",
       "0  2019-01-02  73.26  77.67  73.05  76.96 -1.0    e           True   \n",
       "1  2019-01-03  76.00  76.90  74.86  75.01  1.0    a           True   \n",
       "2  2019-01-04  76.50  79.70  75.92  78.77  1.0    e          False   \n",
       "3  2019-01-07  80.12  81.73  79.46  81.48  1.0    e          False   \n",
       "4  2019-01-08  83.23  83.83  80.83  82.83  1.0    a          False   \n",
       "\n",
       "  change_types  \n",
       "0        Start  \n",
       "1      (-1, 1)  \n",
       "2       (1, 1)  \n",
       "3       (1, 1)  \n",
       "4       (1, 1)  "
      ]
     },
     "execution_count": 42,
     "metadata": {},
     "output_type": "execute_result"
    }
   ],
   "source": [
    "df_train = change_points(df_train)\n",
    "df_train.head().round(2)"
   ]
  },
  {
   "cell_type": "markdown",
   "id": "ee177534-b934-496c-9fe7-3696e4120541",
   "metadata": {},
   "source": [
    "## Segmentation and Labeling"
   ]
  },
  {
   "cell_type": "code",
   "execution_count": 45,
   "id": "c3743136-c324-41ec-a69f-00a619ac450d",
   "metadata": {},
   "outputs": [],
   "source": [
    "def segmentation(data):\n",
    "    segment_list, trend_list = [], []\n",
    "    pattern = ''\n",
    "    \n",
    "    for i in range(len(data)-1):  \n",
    "        pattern += data.code[i]\n",
    "    \n",
    "        if data.change_points.loc[i]:\n",
    "            segment_list.append(pattern) \n",
    "            j = i\n",
    "            while True:\n",
    "                if data.change_types[j+1][0] != 0:   # first non-equal direction\n",
    "                    trend_list.append(data.change_types[j+1][0]) \n",
    "                    break\n",
    "                j += 1\n",
    "    \n",
    "            pattern = ''\n",
    "\n",
    "    df_seg = pd.DataFrame()\n",
    "    df_seg['kts'] = segment_list\n",
    "    df_seg['trend'] = trend_list\n",
    "\n",
    "    df_seg_unique = pd.DataFrame(df_seg.value_counts()).reset_index()\n",
    "\n",
    "    return df_seg_unique"
   ]
  },
  {
   "cell_type": "code",
   "execution_count": 47,
   "id": "c60790d5-d31d-4a27-a184-8b8a662b23df",
   "metadata": {},
   "outputs": [
    {
     "data": {
      "text/html": [
       "<div>\n",
       "<style scoped>\n",
       "    .dataframe tbody tr th:only-of-type {\n",
       "        vertical-align: middle;\n",
       "    }\n",
       "\n",
       "    .dataframe tbody tr th {\n",
       "        vertical-align: top;\n",
       "    }\n",
       "\n",
       "    .dataframe thead th {\n",
       "        text-align: right;\n",
       "    }\n",
       "</style>\n",
       "<table border=\"1\" class=\"dataframe\">\n",
       "  <thead>\n",
       "    <tr style=\"text-align: right;\">\n",
       "      <th></th>\n",
       "      <th>kts</th>\n",
       "      <th>trend</th>\n",
       "      <th>count</th>\n",
       "    </tr>\n",
       "  </thead>\n",
       "  <tbody>\n",
       "    <tr>\n",
       "      <th>0</th>\n",
       "      <td>a</td>\n",
       "      <td>1</td>\n",
       "      <td>58</td>\n",
       "    </tr>\n",
       "    <tr>\n",
       "      <th>1</th>\n",
       "      <td>e</td>\n",
       "      <td>-1</td>\n",
       "      <td>47</td>\n",
       "    </tr>\n",
       "    <tr>\n",
       "      <th>2</th>\n",
       "      <td>aa</td>\n",
       "      <td>1</td>\n",
       "      <td>23</td>\n",
       "    </tr>\n",
       "    <tr>\n",
       "      <th>3</th>\n",
       "      <td>ee</td>\n",
       "      <td>-1</td>\n",
       "      <td>15</td>\n",
       "    </tr>\n",
       "    <tr>\n",
       "      <th>4</th>\n",
       "      <td>e</td>\n",
       "      <td>1</td>\n",
       "      <td>9</td>\n",
       "    </tr>\n",
       "  </tbody>\n",
       "</table>\n",
       "</div>"
      ],
      "text/plain": [
       "  kts  trend  count\n",
       "0   a      1     58\n",
       "1   e     -1     47\n",
       "2  aa      1     23\n",
       "3  ee     -1     15\n",
       "4   e      1      9"
      ]
     },
     "execution_count": 47,
     "metadata": {},
     "output_type": "execute_result"
    }
   ],
   "source": [
    "PSet = segmentation(df_train)\n",
    "PSet.head()"
   ]
  },
  {
   "cell_type": "markdown",
   "id": "ccc56b1d-9603-40df-9a85-942fa65a30bb",
   "metadata": {},
   "source": [
    "## PACC"
   ]
  },
  {
   "cell_type": "code",
   "execution_count": 50,
   "id": "d92cf07a-9b7d-4293-8b5c-5f7330b828ec",
   "metadata": {},
   "outputs": [],
   "source": [
    "def whethersub(X, Y):\n",
    "    if len(X) > len(Y): return 0\n",
    "    else:\n",
    "        k = 0\n",
    "        for i in range(len(X)):\n",
    "            if X[i] in Y[k:]:\n",
    "                k = Y.find(X[i], k)+1\n",
    "            else:\n",
    "                return 0          \n",
    "    return 1 \n",
    "\n",
    "def onum(pset):\n",
    "    pset_ = pset.copy()\n",
    "    onum_list = []\n",
    "    for i in range(len(pset)):\n",
    "        total = 0\n",
    "        for j in range(len(pset)):\n",
    "            total += whethersub(pset_.loc[i, 'kts'], pset_.loc[j, 'kts'])* pset_.loc[j, 'count']\n",
    "        onum_list.append(total)\n",
    "    pset_['onum'] = onum_list\n",
    "    return pset_\n",
    "\n",
    "def sametrendnum(pset):\n",
    "    pset_ = pset.copy()\n",
    "    sametrendnum_list = []\n",
    "    for i in range(len(pset_)):\n",
    "        total = 0\n",
    "        for j in range(len(pset_)):\n",
    "            if whethersub(pset_.loc[i,'kts'], pset_.loc[j,'kts']) & (pset_.loc[i,'trend'] == pset_.loc[j, 'trend']):\n",
    "                total += pset_.loc[j, 'count']    \n",
    "        sametrendnum_list.append(total)\n",
    "    pset_['sametrendnum'] = sametrendnum_list\n",
    "    return pset_ \n",
    "\n",
    "def pacc(pset):\n",
    "    pset_ = pset.copy()\n",
    "    pset_['pacc'] = pset_['sametrendnum'] / pset_['onum'] \n",
    "    return pset_"
   ]
  },
  {
   "cell_type": "code",
   "execution_count": 62,
   "id": "47d14cf5-f355-407b-a40c-83db6538adda",
   "metadata": {},
   "outputs": [
    {
     "data": {
      "text/html": [
       "<div>\n",
       "<style scoped>\n",
       "    .dataframe tbody tr th:only-of-type {\n",
       "        vertical-align: middle;\n",
       "    }\n",
       "\n",
       "    .dataframe tbody tr th {\n",
       "        vertical-align: top;\n",
       "    }\n",
       "\n",
       "    .dataframe thead th {\n",
       "        text-align: right;\n",
       "    }\n",
       "</style>\n",
       "<table border=\"1\" class=\"dataframe\">\n",
       "  <thead>\n",
       "    <tr style=\"text-align: right;\">\n",
       "      <th></th>\n",
       "      <th>kts</th>\n",
       "      <th>trend</th>\n",
       "      <th>count</th>\n",
       "      <th>onum</th>\n",
       "      <th>sametrendnum</th>\n",
       "      <th>pacc</th>\n",
       "    </tr>\n",
       "  </thead>\n",
       "  <tbody>\n",
       "    <tr>\n",
       "      <th>0</th>\n",
       "      <td>a</td>\n",
       "      <td>1</td>\n",
       "      <td>58</td>\n",
       "      <td>154</td>\n",
       "      <td>111</td>\n",
       "      <td>0.72</td>\n",
       "    </tr>\n",
       "    <tr>\n",
       "      <th>1</th>\n",
       "      <td>e</td>\n",
       "      <td>-1</td>\n",
       "      <td>47</td>\n",
       "      <td>146</td>\n",
       "      <td>115</td>\n",
       "      <td>0.79</td>\n",
       "    </tr>\n",
       "    <tr>\n",
       "      <th>2</th>\n",
       "      <td>aa</td>\n",
       "      <td>1</td>\n",
       "      <td>23</td>\n",
       "      <td>58</td>\n",
       "      <td>47</td>\n",
       "      <td>0.81</td>\n",
       "    </tr>\n",
       "    <tr>\n",
       "      <th>3</th>\n",
       "      <td>ee</td>\n",
       "      <td>-1</td>\n",
       "      <td>15</td>\n",
       "      <td>60</td>\n",
       "      <td>56</td>\n",
       "      <td>0.93</td>\n",
       "    </tr>\n",
       "    <tr>\n",
       "      <th>4</th>\n",
       "      <td>e</td>\n",
       "      <td>1</td>\n",
       "      <td>9</td>\n",
       "      <td>146</td>\n",
       "      <td>31</td>\n",
       "      <td>0.21</td>\n",
       "    </tr>\n",
       "  </tbody>\n",
       "</table>\n",
       "</div>"
      ],
      "text/plain": [
       "  kts  trend  count  onum  sametrendnum  pacc\n",
       "0   a      1     58   154           111  0.72\n",
       "1   e     -1     47   146           115  0.79\n",
       "2  aa      1     23    58            47  0.81\n",
       "3  ee     -1     15    60            56  0.93\n",
       "4   e      1      9   146            31  0.21"
      ]
     },
     "execution_count": 62,
     "metadata": {},
     "output_type": "execute_result"
    }
   ],
   "source": [
    "PRSet = pacc(sametrendnum(onum(PSet)))\n",
    "PRSet.head().round(2)"
   ]
  },
  {
   "cell_type": "code",
   "execution_count": 64,
   "id": "b8877186-6f1c-4fc1-8c4c-e66c9c5c7828",
   "metadata": {},
   "outputs": [
    {
     "data": {
      "text/html": [
       "<div>\n",
       "<style scoped>\n",
       "    .dataframe tbody tr th:only-of-type {\n",
       "        vertical-align: middle;\n",
       "    }\n",
       "\n",
       "    .dataframe tbody tr th {\n",
       "        vertical-align: top;\n",
       "    }\n",
       "\n",
       "    .dataframe thead th {\n",
       "        text-align: right;\n",
       "    }\n",
       "</style>\n",
       "<table border=\"1\" class=\"dataframe\">\n",
       "  <thead>\n",
       "    <tr style=\"text-align: right;\">\n",
       "      <th></th>\n",
       "      <th>kts</th>\n",
       "      <th>trend</th>\n",
       "      <th>count</th>\n",
       "      <th>onum</th>\n",
       "      <th>sametrendnum</th>\n",
       "      <th>pacc</th>\n",
       "    </tr>\n",
       "  </thead>\n",
       "  <tbody>\n",
       "    <tr>\n",
       "      <th>53</th>\n",
       "      <td>aaaea</td>\n",
       "      <td>1</td>\n",
       "      <td>1</td>\n",
       "      <td>1</td>\n",
       "      <td>1</td>\n",
       "      <td>1.00</td>\n",
       "    </tr>\n",
       "    <tr>\n",
       "      <th>54</th>\n",
       "      <td>aaaaa</td>\n",
       "      <td>1</td>\n",
       "      <td>1</td>\n",
       "      <td>3</td>\n",
       "      <td>3</td>\n",
       "      <td>1.00</td>\n",
       "    </tr>\n",
       "    <tr>\n",
       "      <th>55</th>\n",
       "      <td>eaa</td>\n",
       "      <td>1</td>\n",
       "      <td>1</td>\n",
       "      <td>9</td>\n",
       "      <td>4</td>\n",
       "      <td>0.44</td>\n",
       "    </tr>\n",
       "    <tr>\n",
       "      <th>56</th>\n",
       "      <td>aab</td>\n",
       "      <td>1</td>\n",
       "      <td>1</td>\n",
       "      <td>3</td>\n",
       "      <td>3</td>\n",
       "      <td>1.00</td>\n",
       "    </tr>\n",
       "    <tr>\n",
       "      <th>57</th>\n",
       "      <td>hee</td>\n",
       "      <td>-1</td>\n",
       "      <td>1</td>\n",
       "      <td>3</td>\n",
       "      <td>3</td>\n",
       "      <td>1.00</td>\n",
       "    </tr>\n",
       "  </tbody>\n",
       "</table>\n",
       "</div>"
      ],
      "text/plain": [
       "      kts  trend  count  onum  sametrendnum  pacc\n",
       "53  aaaea      1      1     1             1  1.00\n",
       "54  aaaaa      1      1     3             3  1.00\n",
       "55    eaa      1      1     9             4  0.44\n",
       "56    aab      1      1     3             3  1.00\n",
       "57    hee     -1      1     3             3  1.00"
      ]
     },
     "execution_count": 64,
     "metadata": {},
     "output_type": "execute_result"
    }
   ],
   "source": [
    "PRSet.tail().round(2)"
   ]
  },
  {
   "cell_type": "markdown",
   "id": "6fe3927d-4214-432f-99ab-d7e035114139",
   "metadata": {},
   "source": [
    "## Possible Deficiencies\n",
    "1. Index-53: The pattern 'aaaea' appears only once, but its PACC score is perfect (PACC = 1).\n",
    "    - Patterns that appear less than a specified threshold can be removed from the PSet.\n",
    "2. The contribution of 'ab' to the PACC of 'cdab' and 'cafffffbd' is equal, even though 'ab' appears in 'cafffffbd' with many letters in between.\n",
    "3. If 'ab' appears at the end of a sequence, the contribution of that sequence to the PACC of 'ab' should be greater."
   ]
  },
  {
   "cell_type": "code",
   "execution_count": null,
   "id": "74f9b6c7-2a97-414d-ac19-cf1212b28203",
   "metadata": {},
   "outputs": [],
   "source": []
  }
 ],
 "metadata": {
  "kernelspec": {
   "display_name": "Python 3 (ipykernel)",
   "language": "python",
   "name": "python3"
  },
  "language_info": {
   "codemirror_mode": {
    "name": "ipython",
    "version": 3
   },
   "file_extension": ".py",
   "mimetype": "text/x-python",
   "name": "python",
   "nbconvert_exporter": "python",
   "pygments_lexer": "ipython3",
   "version": "3.11.8"
  }
 },
 "nbformat": 4,
 "nbformat_minor": 5
}
