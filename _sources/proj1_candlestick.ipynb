{
 "cells": [
  {
   "cell_type": "markdown",
   "id": "2ea34382-e847-4b8f-80f7-a4e01479f825",
   "metadata": {},
   "source": [
    "# Project-1: Candlestick Patterns\n"
   ]
  },
  {
   "cell_type": "code",
   "execution_count": 2,
   "id": "2b6e778e-5122-4254-937d-df3eb880fbbc",
   "metadata": {},
   "outputs": [],
   "source": [
    "import yfinance as yf\n",
    "import numpy as np\n",
    "import matplotlib.pyplot as plt\n",
    "import pandas as pd\n",
    "import statistics\n",
    "from sklearn.metrics import accuracy_score"
   ]
  },
  {
   "cell_type": "markdown",
   "id": "7761de3f-42c7-4a7a-8b7b-ad41da82a616",
   "metadata": {},
   "source": [
    "## Candlestick Charts\n",
    "\n",
    "Candlestick charts visually represent stock price movements using four key values: **open**, **high**, **low**, and **close**. Each candlestick has two main parts:\n",
    "\n",
    "1. **Body**: A rectangle representing the range between the **open** and **close** prices. \n",
    "   - If the **close** price is higher than the **open** price, it indicates that the stock price increased over the period, and the body is typically colored **green** (or white).\n",
    "   - If the **close** price is lower than the **open** price, it shows that the stock price decreased, and the body is usually colored **red** (or black).\n",
    "\n",
    "2. **Shadow/Wick**: A line extending from the body to represent the **high** and **low** prices.\n",
    "   - The upper shadow extends from the top of the body to the **high** price, indicating the highest price reached within the time period.\n",
    "   - The lower shadow extends from the bottom of the body to the **low** price, showing the lowest price reached.\n",
    "\n",
    "This color-coded format helps investors quickly interpret market trends, with green candles indicating upward momentum and red candles indicating downward momentum."
   ]
  },
  {
   "cell_type": "markdown",
   "id": "8ba98367-bec0-4964-8a0f-d1a1ce28b71d",
   "metadata": {},
   "source": [
    "\n",
    "![](pict/candlestick.png)\n",
    "\n",
    "![](pict/cs_structure.png)"
   ]
  },
  {
   "cell_type": "markdown",
   "id": "8a446f88-507d-4b16-bd01-e67de0ece94d",
   "metadata": {},
   "source": [
    "## Data\n",
    "To identify the candlestick patterns, we will import Amazon's historical stock data for the period from January 1, 2020, to January 31, 2020. This dataset, referred to as training, will be used to identify patterns within it."
   ]
  },
  {
   "cell_type": "code",
   "execution_count": 6,
   "id": "999f8f02-1c25-4b72-988f-e2fd93eb9a81",
   "metadata": {},
   "outputs": [
    {
     "data": {
      "text/html": [
       "<div>\n",
       "<style scoped>\n",
       "    .dataframe tbody tr th:only-of-type {\n",
       "        vertical-align: middle;\n",
       "    }\n",
       "\n",
       "    .dataframe tbody tr th {\n",
       "        vertical-align: top;\n",
       "    }\n",
       "\n",
       "    .dataframe thead th {\n",
       "        text-align: right;\n",
       "    }\n",
       "</style>\n",
       "<table border=\"1\" class=\"dataframe\">\n",
       "  <thead>\n",
       "    <tr style=\"text-align: right;\">\n",
       "      <th></th>\n",
       "      <th>Open</th>\n",
       "      <th>High</th>\n",
       "      <th>Low</th>\n",
       "      <th>Close</th>\n",
       "      <th>Volume</th>\n",
       "      <th>Dividends</th>\n",
       "      <th>Stock Splits</th>\n",
       "    </tr>\n",
       "    <tr>\n",
       "      <th>Date</th>\n",
       "      <th></th>\n",
       "      <th></th>\n",
       "      <th></th>\n",
       "      <th></th>\n",
       "      <th></th>\n",
       "      <th></th>\n",
       "      <th></th>\n",
       "    </tr>\n",
       "  </thead>\n",
       "  <tbody>\n",
       "    <tr>\n",
       "      <th>2020-01-02 00:00:00-05:00</th>\n",
       "      <td>93.75</td>\n",
       "      <td>94.90</td>\n",
       "      <td>93.21</td>\n",
       "      <td>94.90</td>\n",
       "      <td>80580000</td>\n",
       "      <td>0.0</td>\n",
       "      <td>0.0</td>\n",
       "    </tr>\n",
       "    <tr>\n",
       "      <th>2020-01-03 00:00:00-05:00</th>\n",
       "      <td>93.22</td>\n",
       "      <td>94.31</td>\n",
       "      <td>93.22</td>\n",
       "      <td>93.75</td>\n",
       "      <td>75288000</td>\n",
       "      <td>0.0</td>\n",
       "      <td>0.0</td>\n",
       "    </tr>\n",
       "    <tr>\n",
       "      <th>2020-01-06 00:00:00-05:00</th>\n",
       "      <td>93.00</td>\n",
       "      <td>95.18</td>\n",
       "      <td>93.00</td>\n",
       "      <td>95.14</td>\n",
       "      <td>81236000</td>\n",
       "      <td>0.0</td>\n",
       "      <td>0.0</td>\n",
       "    </tr>\n",
       "    <tr>\n",
       "      <th>2020-01-07 00:00:00-05:00</th>\n",
       "      <td>95.22</td>\n",
       "      <td>95.69</td>\n",
       "      <td>94.60</td>\n",
       "      <td>95.34</td>\n",
       "      <td>80898000</td>\n",
       "      <td>0.0</td>\n",
       "      <td>0.0</td>\n",
       "    </tr>\n",
       "    <tr>\n",
       "      <th>2020-01-08 00:00:00-05:00</th>\n",
       "      <td>94.90</td>\n",
       "      <td>95.55</td>\n",
       "      <td>94.32</td>\n",
       "      <td>94.60</td>\n",
       "      <td>70160000</td>\n",
       "      <td>0.0</td>\n",
       "      <td>0.0</td>\n",
       "    </tr>\n",
       "  </tbody>\n",
       "</table>\n",
       "</div>"
      ],
      "text/plain": [
       "                            Open   High    Low  Close    Volume  Dividends  \\\n",
       "Date                                                                         \n",
       "2020-01-02 00:00:00-05:00  93.75  94.90  93.21  94.90  80580000        0.0   \n",
       "2020-01-03 00:00:00-05:00  93.22  94.31  93.22  93.75  75288000        0.0   \n",
       "2020-01-06 00:00:00-05:00  93.00  95.18  93.00  95.14  81236000        0.0   \n",
       "2020-01-07 00:00:00-05:00  95.22  95.69  94.60  95.34  80898000        0.0   \n",
       "2020-01-08 00:00:00-05:00  94.90  95.55  94.32  94.60  70160000        0.0   \n",
       "\n",
       "                           Stock Splits  \n",
       "Date                                     \n",
       "2020-01-02 00:00:00-05:00           0.0  \n",
       "2020-01-03 00:00:00-05:00           0.0  \n",
       "2020-01-06 00:00:00-05:00           0.0  \n",
       "2020-01-07 00:00:00-05:00           0.0  \n",
       "2020-01-08 00:00:00-05:00           0.0  "
      ]
     },
     "execution_count": 6,
     "metadata": {},
     "output_type": "execute_result"
    }
   ],
   "source": [
    "df_train = yf.Ticker('AMZN').history(start='2020-1-1', end='2020-1-31')\n",
    "df_train.head().round(2)"
   ]
  },
  {
   "cell_type": "markdown",
   "id": "d747d0ee-75df-43cc-9de7-04b6b1d212a4",
   "metadata": {},
   "source": [
    "- In this project, the last three columns are not relevant and will therefore be removed."
   ]
  },
  {
   "cell_type": "code",
   "execution_count": 8,
   "id": "0c0006c8-259d-4010-8774-2e26a94c6ce8",
   "metadata": {},
   "outputs": [
    {
     "data": {
      "text/html": [
       "<div>\n",
       "<style scoped>\n",
       "    .dataframe tbody tr th:only-of-type {\n",
       "        vertical-align: middle;\n",
       "    }\n",
       "\n",
       "    .dataframe tbody tr th {\n",
       "        vertical-align: top;\n",
       "    }\n",
       "\n",
       "    .dataframe thead th {\n",
       "        text-align: right;\n",
       "    }\n",
       "</style>\n",
       "<table border=\"1\" class=\"dataframe\">\n",
       "  <thead>\n",
       "    <tr style=\"text-align: right;\">\n",
       "      <th></th>\n",
       "      <th>Open</th>\n",
       "      <th>High</th>\n",
       "      <th>Low</th>\n",
       "      <th>Close</th>\n",
       "    </tr>\n",
       "    <tr>\n",
       "      <th>Date</th>\n",
       "      <th></th>\n",
       "      <th></th>\n",
       "      <th></th>\n",
       "      <th></th>\n",
       "    </tr>\n",
       "  </thead>\n",
       "  <tbody>\n",
       "    <tr>\n",
       "      <th>2020-01-02 00:00:00-05:00</th>\n",
       "      <td>93.75</td>\n",
       "      <td>94.90</td>\n",
       "      <td>93.21</td>\n",
       "      <td>94.90</td>\n",
       "    </tr>\n",
       "    <tr>\n",
       "      <th>2020-01-03 00:00:00-05:00</th>\n",
       "      <td>93.22</td>\n",
       "      <td>94.31</td>\n",
       "      <td>93.22</td>\n",
       "      <td>93.75</td>\n",
       "    </tr>\n",
       "    <tr>\n",
       "      <th>2020-01-06 00:00:00-05:00</th>\n",
       "      <td>93.00</td>\n",
       "      <td>95.18</td>\n",
       "      <td>93.00</td>\n",
       "      <td>95.14</td>\n",
       "    </tr>\n",
       "    <tr>\n",
       "      <th>2020-01-07 00:00:00-05:00</th>\n",
       "      <td>95.22</td>\n",
       "      <td>95.69</td>\n",
       "      <td>94.60</td>\n",
       "      <td>95.34</td>\n",
       "    </tr>\n",
       "    <tr>\n",
       "      <th>2020-01-08 00:00:00-05:00</th>\n",
       "      <td>94.90</td>\n",
       "      <td>95.55</td>\n",
       "      <td>94.32</td>\n",
       "      <td>94.60</td>\n",
       "    </tr>\n",
       "  </tbody>\n",
       "</table>\n",
       "</div>"
      ],
      "text/plain": [
       "                            Open   High    Low  Close\n",
       "Date                                                 \n",
       "2020-01-02 00:00:00-05:00  93.75  94.90  93.21  94.90\n",
       "2020-01-03 00:00:00-05:00  93.22  94.31  93.22  93.75\n",
       "2020-01-06 00:00:00-05:00  93.00  95.18  93.00  95.14\n",
       "2020-01-07 00:00:00-05:00  95.22  95.69  94.60  95.34\n",
       "2020-01-08 00:00:00-05:00  94.90  95.55  94.32  94.60"
      ]
     },
     "execution_count": 8,
     "metadata": {},
     "output_type": "execute_result"
    }
   ],
   "source": [
    "df_train = df_train.iloc[:,:-3]\n",
    "df_train.head().round(2)"
   ]
  },
  {
   "cell_type": "markdown",
   "id": "543133a8-96e3-49c9-a04b-76d9a1975312",
   "metadata": {},
   "source": [
    "- The following code converts the original index (dates) into a separate column named Date and assigns new integer-based indexes starting from 0, 1, 2, and so on"
   ]
  },
  {
   "cell_type": "code",
   "execution_count": 10,
   "id": "eb981f5b-d956-4e0d-b7e1-34f7fdb3fda8",
   "metadata": {},
   "outputs": [
    {
     "data": {
      "text/html": [
       "<div>\n",
       "<style scoped>\n",
       "    .dataframe tbody tr th:only-of-type {\n",
       "        vertical-align: middle;\n",
       "    }\n",
       "\n",
       "    .dataframe tbody tr th {\n",
       "        vertical-align: top;\n",
       "    }\n",
       "\n",
       "    .dataframe thead th {\n",
       "        text-align: right;\n",
       "    }\n",
       "</style>\n",
       "<table border=\"1\" class=\"dataframe\">\n",
       "  <thead>\n",
       "    <tr style=\"text-align: right;\">\n",
       "      <th></th>\n",
       "      <th>Date</th>\n",
       "      <th>Open</th>\n",
       "      <th>High</th>\n",
       "      <th>Low</th>\n",
       "      <th>Close</th>\n",
       "    </tr>\n",
       "  </thead>\n",
       "  <tbody>\n",
       "    <tr>\n",
       "      <th>0</th>\n",
       "      <td>2020-01-02 00:00:00-05:00</td>\n",
       "      <td>93.75</td>\n",
       "      <td>94.90</td>\n",
       "      <td>93.21</td>\n",
       "      <td>94.90</td>\n",
       "    </tr>\n",
       "    <tr>\n",
       "      <th>1</th>\n",
       "      <td>2020-01-03 00:00:00-05:00</td>\n",
       "      <td>93.22</td>\n",
       "      <td>94.31</td>\n",
       "      <td>93.22</td>\n",
       "      <td>93.75</td>\n",
       "    </tr>\n",
       "    <tr>\n",
       "      <th>2</th>\n",
       "      <td>2020-01-06 00:00:00-05:00</td>\n",
       "      <td>93.00</td>\n",
       "      <td>95.18</td>\n",
       "      <td>93.00</td>\n",
       "      <td>95.14</td>\n",
       "    </tr>\n",
       "    <tr>\n",
       "      <th>3</th>\n",
       "      <td>2020-01-07 00:00:00-05:00</td>\n",
       "      <td>95.22</td>\n",
       "      <td>95.69</td>\n",
       "      <td>94.60</td>\n",
       "      <td>95.34</td>\n",
       "    </tr>\n",
       "    <tr>\n",
       "      <th>4</th>\n",
       "      <td>2020-01-08 00:00:00-05:00</td>\n",
       "      <td>94.90</td>\n",
       "      <td>95.55</td>\n",
       "      <td>94.32</td>\n",
       "      <td>94.60</td>\n",
       "    </tr>\n",
       "  </tbody>\n",
       "</table>\n",
       "</div>"
      ],
      "text/plain": [
       "                       Date   Open   High    Low  Close\n",
       "0 2020-01-02 00:00:00-05:00  93.75  94.90  93.21  94.90\n",
       "1 2020-01-03 00:00:00-05:00  93.22  94.31  93.22  93.75\n",
       "2 2020-01-06 00:00:00-05:00  93.00  95.18  93.00  95.14\n",
       "3 2020-01-07 00:00:00-05:00  95.22  95.69  94.60  95.34\n",
       "4 2020-01-08 00:00:00-05:00  94.90  95.55  94.32  94.60"
      ]
     },
     "execution_count": 10,
     "metadata": {},
     "output_type": "execute_result"
    }
   ],
   "source": [
    "# reset index\n",
    "df_train.reset_index(inplace=True)\n",
    "df_train.head().round(2)"
   ]
  },
  {
   "cell_type": "markdown",
   "id": "6604ba10-af3b-48d3-9781-863343b1237e",
   "metadata": {},
   "source": [
    "- Since the time component of the Date column values is not required, it will be removed."
   ]
  },
  {
   "cell_type": "code",
   "execution_count": 12,
   "id": "d8808d1b-f7a6-473c-b6b8-3f85da3b39f0",
   "metadata": {
    "scrolled": true
   },
   "outputs": [
    {
     "data": {
      "text/html": [
       "<div>\n",
       "<style scoped>\n",
       "    .dataframe tbody tr th:only-of-type {\n",
       "        vertical-align: middle;\n",
       "    }\n",
       "\n",
       "    .dataframe tbody tr th {\n",
       "        vertical-align: top;\n",
       "    }\n",
       "\n",
       "    .dataframe thead th {\n",
       "        text-align: right;\n",
       "    }\n",
       "</style>\n",
       "<table border=\"1\" class=\"dataframe\">\n",
       "  <thead>\n",
       "    <tr style=\"text-align: right;\">\n",
       "      <th></th>\n",
       "      <th>Date</th>\n",
       "      <th>Open</th>\n",
       "      <th>High</th>\n",
       "      <th>Low</th>\n",
       "      <th>Close</th>\n",
       "    </tr>\n",
       "  </thead>\n",
       "  <tbody>\n",
       "    <tr>\n",
       "      <th>0</th>\n",
       "      <td>2020-01-02</td>\n",
       "      <td>93.75</td>\n",
       "      <td>94.90</td>\n",
       "      <td>93.21</td>\n",
       "      <td>94.90</td>\n",
       "    </tr>\n",
       "    <tr>\n",
       "      <th>1</th>\n",
       "      <td>2020-01-03</td>\n",
       "      <td>93.22</td>\n",
       "      <td>94.31</td>\n",
       "      <td>93.22</td>\n",
       "      <td>93.75</td>\n",
       "    </tr>\n",
       "    <tr>\n",
       "      <th>2</th>\n",
       "      <td>2020-01-06</td>\n",
       "      <td>93.00</td>\n",
       "      <td>95.18</td>\n",
       "      <td>93.00</td>\n",
       "      <td>95.14</td>\n",
       "    </tr>\n",
       "    <tr>\n",
       "      <th>3</th>\n",
       "      <td>2020-01-07</td>\n",
       "      <td>95.22</td>\n",
       "      <td>95.69</td>\n",
       "      <td>94.60</td>\n",
       "      <td>95.34</td>\n",
       "    </tr>\n",
       "    <tr>\n",
       "      <th>4</th>\n",
       "      <td>2020-01-08</td>\n",
       "      <td>94.90</td>\n",
       "      <td>95.55</td>\n",
       "      <td>94.32</td>\n",
       "      <td>94.60</td>\n",
       "    </tr>\n",
       "  </tbody>\n",
       "</table>\n",
       "</div>"
      ],
      "text/plain": [
       "         Date   Open   High    Low  Close\n",
       "0  2020-01-02  93.75  94.90  93.21  94.90\n",
       "1  2020-01-03  93.22  94.31  93.22  93.75\n",
       "2  2020-01-06  93.00  95.18  93.00  95.14\n",
       "3  2020-01-07  95.22  95.69  94.60  95.34\n",
       "4  2020-01-08  94.90  95.55  94.32  94.60"
      ]
     },
     "execution_count": 12,
     "metadata": {},
     "output_type": "execute_result"
    }
   ],
   "source": [
    "df_train['Date'] = [i.date() for i in df_train.Date]\n",
    "df_train.head().round(2)"
   ]
  },
  {
   "cell_type": "markdown",
   "id": "55e64178-1253-47fc-9cf1-9e3ae6311672",
   "metadata": {},
   "source": [
    "- In the following code, *fcc* represents future close change from the current date to the next day, where:\n",
    "    - $-1$ indicates a downward change (Down),\n",
    "    - $0$ indicates no change (No change), and\n",
    "    - $1$ indicates an upward change (Up)."
   ]
  },
  {
   "cell_type": "code",
   "execution_count": 14,
   "id": "47ae3e2b-0670-40b7-ad9f-2cabc01fdf72",
   "metadata": {},
   "outputs": [
    {
     "data": {
      "text/html": [
       "<div>\n",
       "<style scoped>\n",
       "    .dataframe tbody tr th:only-of-type {\n",
       "        vertical-align: middle;\n",
       "    }\n",
       "\n",
       "    .dataframe tbody tr th {\n",
       "        vertical-align: top;\n",
       "    }\n",
       "\n",
       "    .dataframe thead th {\n",
       "        text-align: right;\n",
       "    }\n",
       "</style>\n",
       "<table border=\"1\" class=\"dataframe\">\n",
       "  <thead>\n",
       "    <tr style=\"text-align: right;\">\n",
       "      <th></th>\n",
       "      <th>Date</th>\n",
       "      <th>Open</th>\n",
       "      <th>High</th>\n",
       "      <th>Low</th>\n",
       "      <th>Close</th>\n",
       "      <th>fcc</th>\n",
       "    </tr>\n",
       "  </thead>\n",
       "  <tbody>\n",
       "    <tr>\n",
       "      <th>0</th>\n",
       "      <td>2020-01-02</td>\n",
       "      <td>93.75</td>\n",
       "      <td>94.90</td>\n",
       "      <td>93.21</td>\n",
       "      <td>94.90</td>\n",
       "      <td>-1.0</td>\n",
       "    </tr>\n",
       "    <tr>\n",
       "      <th>1</th>\n",
       "      <td>2020-01-03</td>\n",
       "      <td>93.22</td>\n",
       "      <td>94.31</td>\n",
       "      <td>93.22</td>\n",
       "      <td>93.75</td>\n",
       "      <td>1.0</td>\n",
       "    </tr>\n",
       "    <tr>\n",
       "      <th>2</th>\n",
       "      <td>2020-01-06</td>\n",
       "      <td>93.00</td>\n",
       "      <td>95.18</td>\n",
       "      <td>93.00</td>\n",
       "      <td>95.14</td>\n",
       "      <td>1.0</td>\n",
       "    </tr>\n",
       "    <tr>\n",
       "      <th>3</th>\n",
       "      <td>2020-01-07</td>\n",
       "      <td>95.22</td>\n",
       "      <td>95.69</td>\n",
       "      <td>94.60</td>\n",
       "      <td>95.34</td>\n",
       "      <td>-1.0</td>\n",
       "    </tr>\n",
       "    <tr>\n",
       "      <th>4</th>\n",
       "      <td>2020-01-08</td>\n",
       "      <td>94.90</td>\n",
       "      <td>95.55</td>\n",
       "      <td>94.32</td>\n",
       "      <td>94.60</td>\n",
       "      <td>1.0</td>\n",
       "    </tr>\n",
       "  </tbody>\n",
       "</table>\n",
       "</div>"
      ],
      "text/plain": [
       "         Date   Open   High    Low  Close  fcc\n",
       "0  2020-01-02  93.75  94.90  93.21  94.90 -1.0\n",
       "1  2020-01-03  93.22  94.31  93.22  93.75  1.0\n",
       "2  2020-01-06  93.00  95.18  93.00  95.14  1.0\n",
       "3  2020-01-07  95.22  95.69  94.60  95.34 -1.0\n",
       "4  2020-01-08  94.90  95.55  94.32  94.60  1.0"
      ]
     },
     "execution_count": 14,
     "metadata": {},
     "output_type": "execute_result"
    }
   ],
   "source": [
    "# future close change\n",
    "df_train['fcc'] = [np.sign(df_train.Close.loc[i+1]-df_train.Close.loc[i]) for i in range(len(df_train)-1)]+[np.nan]\n",
    "df_train.head().round(2)"
   ]
  },
  {
   "cell_type": "markdown",
   "id": "7e555f32-9562-45ba-b5ef-b9ad8696590a",
   "metadata": {},
   "source": [
    "- In the first row, fcc is -1 because the current close value is 94.90, and the next day's close value is 93.75, indicating a decline in the closing price."
   ]
  },
  {
   "cell_type": "markdown",
   "id": "330d0c14-6643-48e2-b811-497ebf02c158",
   "metadata": {},
   "source": [
    "## Visualization"
   ]
  },
  {
   "cell_type": "code",
   "execution_count": 17,
   "id": "ea5fd071-7a3f-4f8b-bd79-40aa47bde137",
   "metadata": {},
   "outputs": [],
   "source": [
    "def cs_visualize(hp, op, cp, lp, x=0, details=False, linewidth=20):\n",
    "    if cp > op: color = 'green'\n",
    "    elif cp < op:  color = 'red'\n",
    "    else: color ='black'\n",
    "\n",
    "    plt.plot([x,x], [lp, hp], c=color)\n",
    "    \n",
    "    if cp != op:\n",
    "        plt.plot([x,x], [op, cp], c=color, linewidth=linewidth)\n",
    "    else:\n",
    "        plt.plot([x-0.1,x+0.1], [op, cp], c=color, linewidth=1)\n",
    "\n",
    "    if details:\n",
    "        plt.text(x+0.01, hp, 'high')\n",
    "        plt.text(x+0.01, lp , 'low')\n",
    "        plt.text(x+0.01, cp, 'close')\n",
    "        plt.text(x+0.01, op, 'open')"
   ]
  },
  {
   "cell_type": "code",
   "execution_count": 18,
   "id": "165369ed-5352-4317-abc0-f7f7cc4a6dd7",
   "metadata": {},
   "outputs": [
    {
     "data": {
      "image/png": "[encoded data removed]",
      "text/plain": [
       "<Figure size 200x400 with 1 Axes>"
      ]
     },
     "metadata": {},
     "output_type": "display_data"
    }
   ],
   "source": [
    "plt.figure(figsize=(2,4))\n",
    "cs_visualize(hp=10, op=3, cp=7, lp=1, details=False, linewidth=20)"
   ]
  },
  {
   "cell_type": "code",
   "execution_count": 19,
   "id": "f4f1bd91-3ced-42f5-8709-8662dfc23226",
   "metadata": {},
   "outputs": [
    {
     "data": {
      "image/png": "[encoded data removed]",
      "text/plain": [
       "<Figure size 200x400 with 1 Axes>"
      ]
     },
     "metadata": {},
     "output_type": "display_data"
    }
   ],
   "source": [
    "plt.figure(figsize=(2,4))\n",
    "cs_visualize(hp=10, op=3, cp=7, lp=1, details=False, linewidth=20)"
   ]
  },
  {
   "cell_type": "code",
   "execution_count": 20,
   "id": "9228fbd1-eeb1-42ad-a8e1-e6698281562f",
   "metadata": {},
   "outputs": [
    {
     "data": {
      "image/png": "[encoded data removed]",
      "text/plain": [
       "<Figure size 200x400 with 1 Axes>"
      ]
     },
     "metadata": {},
     "output_type": "display_data"
    }
   ],
   "source": [
    "plt.figure(figsize=(2,4))\n",
    "cs_visualize(hp=10, op=7, cp=3, lp=1, details=True, linewidth=20)"
   ]
  },
  {
   "cell_type": "code",
   "execution_count": 21,
   "id": "14b76b18-7284-4dc1-b432-488d389f2d08",
   "metadata": {},
   "outputs": [
    {
     "data": {
      "image/png": "[encoded data removed]",
      "text/plain": [
       "<Figure size 200x400 with 1 Axes>"
      ]
     },
     "metadata": {},
     "output_type": "display_data"
    }
   ],
   "source": [
    "plt.figure(figsize=(2,4))\n",
    "cs_visualize(hp=10, op=5, cp=5, lp=1)"
   ]
  },
  {
   "cell_type": "code",
   "execution_count": 22,
   "id": "51228b45-fa8d-4005-9488-5aa7933fd7e9",
   "metadata": {},
   "outputs": [
    {
     "data": {
      "image/png": "[encoded data removed]",
      "text/plain": [
       "<Figure size 200x400 with 1 Axes>"
      ]
     },
     "metadata": {},
     "output_type": "display_data"
    }
   ],
   "source": [
    "plt.figure(figsize=(2,4))\n",
    "cs_visualize(hp=5, op=5, cp=5, lp=5)"
   ]
  },
  {
   "cell_type": "code",
   "execution_count": 23,
   "id": "24aa5ac1-5c24-42cf-b533-2dc0e037ab02",
   "metadata": {},
   "outputs": [],
   "source": [
    "def cs_visualize_df(data, M=0, N=None):\n",
    "    plt.figure(figsize=(20,5))\n",
    "    for i in data.index[M:N]:\n",
    "        hp, op, cp, lp = data[['High','Open', 'Close', 'Low']].loc[i]\n",
    "        cs_visualize(hp, op, cp, lp, x=i)"
   ]
  },
  {
   "cell_type": "code",
   "execution_count": 24,
   "id": "e77a8e3a-be15-41dc-a650-290fa509b98c",
   "metadata": {},
   "outputs": [
    {
     "data": {
      "image/png": "[encoded data removed]",
      "text/plain": [
       "<Figure size 2000x500 with 1 Axes>"
      ]
     },
     "metadata": {},
     "output_type": "display_data"
    }
   ],
   "source": [
    "cs_visualize_df(df_train, M=0, N=None)"
   ]
  },
  {
   "cell_type": "markdown",
   "id": "aed4e040-1eb6-4cf0-acbc-5c29f8e7b945",
   "metadata": {},
   "source": [
    "## Encoding\n",
    "We will use the table below to encode the candlestick charts. If the open and close values are equal, the candlestick is referred to as a Doji."
   ]
  },
  {
   "cell_type": "markdown",
   "id": "3739b8a5-eede-48a1-8a0b-a83a0d6d34d6",
   "metadata": {},
   "source": [
    "|Condition|Code|Type|\n",
    "|:-:|:-:|:-:|\n",
    "|hp  >  op > cp  >  lp|a|Decreasing|  \n",
    "|hp  =  op > cp  >  lp|b|Decreasing|\n",
    "|hp  =  op > cp  =  lp|b|Decreasing|\n",
    "|hp  >  op > cp  =  lp|d|Decreasing|\n",
    "|hp  >  cp > op  >  lp|e|Increasing|\n",
    "|hp  =  cp > op  >  lp|f|Increasing|\n",
    "|hp  =  cp > op  =  lp|g|Increasing| \n",
    "|hp  >  cp > op  =  lp|h|Increasing| \n",
    "|hp  >  op = cp  >  lp|i|Doji| \n",
    "|hp  =  op = cp  >  lp|j|Doji|\n",
    "|hp  =  op = cp  =  lp|k|Doji| \n",
    "|hp  >  op = cp  =  lp|l|Doji|\n"
   ]
  },
  {
   "cell_type": "markdown",
   "id": "673850db-4653-4d07-b705-42defc505135",
   "metadata": {},
   "source": [
    "![](pict/encoding.png)"
   ]
  },
  {
   "cell_type": "markdown",
   "id": "7976bf93-95d8-4050-aab4-27eac9dad9a0",
   "metadata": {},
   "source": [
    "The code below generates an encoding for the given high, open, close, and low price values."
   ]
  },
  {
   "cell_type": "code",
   "execution_count": 29,
   "id": "c3eca617-87d7-4c91-b7ba-85106c58acc7",
   "metadata": {},
   "outputs": [],
   "source": [
    "def encoder(hp, op, cp, lp):\n",
    "    if hp  > op > cp  > lp: return 'a'\n",
    "    if hp == op > cp  > lp: return 'b'\n",
    "    if hp == op > cp == lp: return 'c'\n",
    "    if hp  > op > cp == lp: return 'd'\n",
    "        \n",
    "    if hp  > cp > op  > lp: return 'e'\n",
    "    if hp == cp > op  > lp: return 'f'\n",
    "    if hp == cp > op == lp: return 'g'\n",
    "    if hp  > cp > op == lp: return 'h'\n",
    "\n",
    "    if hp  > op == cp  > lp: return 'i'\n",
    "    if hp == op == cp  > lp: return 'j'\n",
    "    if hp == op == cp == lp: return 'k'\n",
    "    if hp  > op == cp == lp: return 'l' "
   ]
  },
  {
   "cell_type": "code",
   "execution_count": 30,
   "id": "80441b3c-5182-4ad4-b33f-4caaa54cb842",
   "metadata": {},
   "outputs": [
    {
     "data": {
      "text/plain": [
       "'e'"
      ]
     },
     "execution_count": 30,
     "metadata": {},
     "output_type": "execute_result"
    }
   ],
   "source": [
    "encoder(hp=10, op=4, cp=6, lp=1)"
   ]
  },
  {
   "cell_type": "code",
   "execution_count": 31,
   "id": "d0eb57dd-e254-481a-94ae-a6b44657c677",
   "metadata": {},
   "outputs": [
    {
     "data": {
      "text/plain": [
       "'a'"
      ]
     },
     "execution_count": 31,
     "metadata": {},
     "output_type": "execute_result"
    }
   ],
   "source": [
    "encoder(hp=10, op=6, cp=4, lp=1)"
   ]
  },
  {
   "cell_type": "markdown",
   "id": "a292b07f-0c1e-43f2-af4f-8acfa75c0ca2",
   "metadata": {},
   "source": [
    "The following code takes a DataFrame as input and returns a new DataFrame with same data and an additional column that contains the encoded values for each corresponding row."
   ]
  },
  {
   "cell_type": "code",
   "execution_count": 33,
   "id": "15298f95-30e4-4472-a3d4-7387904370b2",
   "metadata": {},
   "outputs": [],
   "source": [
    "def df_encoder(data):\n",
    "    data_ = data.copy()\n",
    "    encoder_list = []\n",
    "    for i in data_.index:\n",
    "        hp, op, cp, lp = data_[['High','Open', 'Close', 'Low']].loc[i]\n",
    "        encoder_list.append(encoder(hp, op, cp, lp))\n",
    "    data_['code'] = encoder_list\n",
    "    return data_"
   ]
  },
  {
   "cell_type": "code",
   "execution_count": 34,
   "id": "871f2d01-2d19-4e53-bb10-7a7d43858774",
   "metadata": {},
   "outputs": [
    {
     "data": {
      "text/html": [
       "<div>\n",
       "<style scoped>\n",
       "    .dataframe tbody tr th:only-of-type {\n",
       "        vertical-align: middle;\n",
       "    }\n",
       "\n",
       "    .dataframe tbody tr th {\n",
       "        vertical-align: top;\n",
       "    }\n",
       "\n",
       "    .dataframe thead th {\n",
       "        text-align: right;\n",
       "    }\n",
       "</style>\n",
       "<table border=\"1\" class=\"dataframe\">\n",
       "  <thead>\n",
       "    <tr style=\"text-align: right;\">\n",
       "      <th></th>\n",
       "      <th>Date</th>\n",
       "      <th>Open</th>\n",
       "      <th>High</th>\n",
       "      <th>Low</th>\n",
       "      <th>Close</th>\n",
       "      <th>fcc</th>\n",
       "      <th>code</th>\n",
       "    </tr>\n",
       "  </thead>\n",
       "  <tbody>\n",
       "    <tr>\n",
       "      <th>0</th>\n",
       "      <td>2020-01-02</td>\n",
       "      <td>93.75</td>\n",
       "      <td>94.90</td>\n",
       "      <td>93.21</td>\n",
       "      <td>94.90</td>\n",
       "      <td>-1.0</td>\n",
       "      <td>f</td>\n",
       "    </tr>\n",
       "    <tr>\n",
       "      <th>1</th>\n",
       "      <td>2020-01-03</td>\n",
       "      <td>93.22</td>\n",
       "      <td>94.31</td>\n",
       "      <td>93.22</td>\n",
       "      <td>93.75</td>\n",
       "      <td>1.0</td>\n",
       "      <td>h</td>\n",
       "    </tr>\n",
       "    <tr>\n",
       "      <th>2</th>\n",
       "      <td>2020-01-06</td>\n",
       "      <td>93.00</td>\n",
       "      <td>95.18</td>\n",
       "      <td>93.00</td>\n",
       "      <td>95.14</td>\n",
       "      <td>1.0</td>\n",
       "      <td>h</td>\n",
       "    </tr>\n",
       "    <tr>\n",
       "      <th>3</th>\n",
       "      <td>2020-01-07</td>\n",
       "      <td>95.22</td>\n",
       "      <td>95.69</td>\n",
       "      <td>94.60</td>\n",
       "      <td>95.34</td>\n",
       "      <td>-1.0</td>\n",
       "      <td>e</td>\n",
       "    </tr>\n",
       "    <tr>\n",
       "      <th>4</th>\n",
       "      <td>2020-01-08</td>\n",
       "      <td>94.90</td>\n",
       "      <td>95.55</td>\n",
       "      <td>94.32</td>\n",
       "      <td>94.60</td>\n",
       "      <td>1.0</td>\n",
       "      <td>a</td>\n",
       "    </tr>\n",
       "  </tbody>\n",
       "</table>\n",
       "</div>"
      ],
      "text/plain": [
       "         Date   Open   High    Low  Close  fcc code\n",
       "0  2020-01-02  93.75  94.90  93.21  94.90 -1.0    f\n",
       "1  2020-01-03  93.22  94.31  93.22  93.75  1.0    h\n",
       "2  2020-01-06  93.00  95.18  93.00  95.14  1.0    h\n",
       "3  2020-01-07  95.22  95.69  94.60  95.34 -1.0    e\n",
       "4  2020-01-08  94.90  95.55  94.32  94.60  1.0    a"
      ]
     },
     "execution_count": 34,
     "metadata": {},
     "output_type": "execute_result"
    }
   ],
   "source": [
    "df_train = df_encoder(df_train)\n",
    "df_train.head().round(2)"
   ]
  },
  {
   "cell_type": "markdown",
   "id": "f18dad1f-2b02-4fdb-8d5a-104502fe9d4c",
   "metadata": {},
   "source": [
    "The chart below illustrates the candlestick charts along with their corresponding codes."
   ]
  },
  {
   "cell_type": "code",
   "execution_count": 36,
   "id": "4722b72d-9b49-47b5-ab29-4a152d7c73cc",
   "metadata": {},
   "outputs": [
    {
     "data": {
      "image/png": "[encoded data removed]",
      "text/plain": [
       "<Figure size 2000x500 with 1 Axes>"
      ]
     },
     "metadata": {},
     "output_type": "display_data"
    }
   ],
   "source": [
    "cs_visualize_df(df_train, M=0, N=None)\n",
    "plt.xticks(range(len(df_train)), df_train.code)\n",
    "plt.grid(axis='x');"
   ]
  },
  {
   "cell_type": "markdown",
   "id": "023efcf1-8e34-4388-bee2-99056b4130d4",
   "metadata": {},
   "source": [
    "## Change Points"
   ]
  },
  {
   "cell_type": "markdown",
   "id": "72374a3d-d221-47d5-8842-b9b39ea39124",
   "metadata": {},
   "source": [
    "Change points are the moments when the Close value changes its behavior. The six possible cases of behavior shifts are as follows:\n",
    "- Up to Down\n",
    "- Up to Equal\n",
    "- Equal to Down\n",
    "- Equal to Up\n",
    "- Down to Equal\n",
    "- Down to Up\n",
    "\n",
    "**Remark:** The first day is also considered a change point."
   ]
  },
  {
   "cell_type": "markdown",
   "id": "332dda76-17dc-45fd-ba70-ecb292ad951b",
   "metadata": {},
   "source": [
    "The chart below displays 14 Close values. Points 1, 2, 3, 6, 9, 11, and 12 are identified as change points for the following reasons.\n",
    "- 1: Starting point\n",
    "- 2: Up to Equal\n",
    "- 3: Equal to Up\n",
    "- 6: Up to Down\n",
    "- 9: Down to Up\n",
    "- 11: Up to Down\n",
    "- 12: Down to Up"
   ]
  },
  {
   "cell_type": "markdown",
   "id": "b976775c-9124-4190-a606-4a977f5aa3f3",
   "metadata": {},
   "source": [
    "![](pict/change_points.png)"
   ]
  },
  {
   "cell_type": "markdown",
   "id": "df4f5409-3de9-42fe-847e-d01b514e428c",
   "metadata": {},
   "source": [
    "In the following code:\n",
    "- The change_points column holds boolean values (True for a change point and False for non-change points).\n",
    "- The change_types column reflects the behavior of the Close value between consecutive days:\n",
    "    - -1 indicates a \"Down\" movement (from the previous day to the current day).\n",
    "    - 1 indicates an \"Up\" movement (from the previous day to the current day).\n",
    "    - 0 indicates no change (the Close value stays equal from the previous day to the current day).\n",
    "\n",
    "- A pair like (-1, -1) would mean the Close value has moved down from the previous day to the current day and continued to move down from the current day to the next day."
   ]
  },
  {
   "cell_type": "code",
   "execution_count": 42,
   "id": "f3905b1d-1ed2-4c83-bd70-2105a013294c",
   "metadata": {},
   "outputs": [],
   "source": [
    "def change_points(data):\n",
    "    data_ = data.copy()\n",
    "    change_pts, change_types = [True], ['Start']\n",
    "\n",
    "    for i in range(1, len(data_)-1):\n",
    "        \n",
    "        left_change  = int(np.sign(data_['Close'][i]-data_['Close'][i-1]))\n",
    "        right_change = int(np.sign(data_['Close'][i+1]-data_['Close'][i]))\n",
    "        \n",
    "        if left_change != right_change:\n",
    "            change_pts.append(True)\n",
    "        else:\n",
    "            change_pts.append(False)\n",
    "            \n",
    "        change_types.append((left_change, right_change))\n",
    "\n",
    "    change_pts.append(False)\n",
    "    change_types.append('End')\n",
    "\n",
    "    data_['change_points'] = change_pts\n",
    "    data_['change_types'] = change_types\n",
    "    \n",
    "    return data_"
   ]
  },
  {
   "cell_type": "code",
   "execution_count": 43,
   "id": "2a8617cd-86ca-4874-bbad-9b7548ffa873",
   "metadata": {},
   "outputs": [
    {
     "data": {
      "text/html": [
       "<div>\n",
       "<style scoped>\n",
       "    .dataframe tbody tr th:only-of-type {\n",
       "        vertical-align: middle;\n",
       "    }\n",
       "\n",
       "    .dataframe tbody tr th {\n",
       "        vertical-align: top;\n",
       "    }\n",
       "\n",
       "    .dataframe thead th {\n",
       "        text-align: right;\n",
       "    }\n",
       "</style>\n",
       "<table border=\"1\" class=\"dataframe\">\n",
       "  <thead>\n",
       "    <tr style=\"text-align: right;\">\n",
       "      <th></th>\n",
       "      <th>Date</th>\n",
       "      <th>Open</th>\n",
       "      <th>High</th>\n",
       "      <th>Low</th>\n",
       "      <th>Close</th>\n",
       "      <th>fcc</th>\n",
       "      <th>code</th>\n",
       "      <th>change_points</th>\n",
       "      <th>change_types</th>\n",
       "    </tr>\n",
       "  </thead>\n",
       "  <tbody>\n",
       "    <tr>\n",
       "      <th>0</th>\n",
       "      <td>2020-01-02</td>\n",
       "      <td>93.75</td>\n",
       "      <td>94.90</td>\n",
       "      <td>93.21</td>\n",
       "      <td>94.90</td>\n",
       "      <td>-1.0</td>\n",
       "      <td>f</td>\n",
       "      <td>True</td>\n",
       "      <td>Start</td>\n",
       "    </tr>\n",
       "    <tr>\n",
       "      <th>1</th>\n",
       "      <td>2020-01-03</td>\n",
       "      <td>93.22</td>\n",
       "      <td>94.31</td>\n",
       "      <td>93.22</td>\n",
       "      <td>93.75</td>\n",
       "      <td>1.0</td>\n",
       "      <td>h</td>\n",
       "      <td>True</td>\n",
       "      <td>(-1, 1)</td>\n",
       "    </tr>\n",
       "    <tr>\n",
       "      <th>2</th>\n",
       "      <td>2020-01-06</td>\n",
       "      <td>93.00</td>\n",
       "      <td>95.18</td>\n",
       "      <td>93.00</td>\n",
       "      <td>95.14</td>\n",
       "      <td>1.0</td>\n",
       "      <td>h</td>\n",
       "      <td>False</td>\n",
       "      <td>(1, 1)</td>\n",
       "    </tr>\n",
       "    <tr>\n",
       "      <th>3</th>\n",
       "      <td>2020-01-07</td>\n",
       "      <td>95.22</td>\n",
       "      <td>95.69</td>\n",
       "      <td>94.60</td>\n",
       "      <td>95.34</td>\n",
       "      <td>-1.0</td>\n",
       "      <td>e</td>\n",
       "      <td>True</td>\n",
       "      <td>(1, -1)</td>\n",
       "    </tr>\n",
       "    <tr>\n",
       "      <th>4</th>\n",
       "      <td>2020-01-08</td>\n",
       "      <td>94.90</td>\n",
       "      <td>95.55</td>\n",
       "      <td>94.32</td>\n",
       "      <td>94.60</td>\n",
       "      <td>1.0</td>\n",
       "      <td>a</td>\n",
       "      <td>True</td>\n",
       "      <td>(-1, 1)</td>\n",
       "    </tr>\n",
       "  </tbody>\n",
       "</table>\n",
       "</div>"
      ],
      "text/plain": [
       "         Date   Open   High    Low  Close  fcc code  change_points  \\\n",
       "0  2020-01-02  93.75  94.90  93.21  94.90 -1.0    f           True   \n",
       "1  2020-01-03  93.22  94.31  93.22  93.75  1.0    h           True   \n",
       "2  2020-01-06  93.00  95.18  93.00  95.14  1.0    h          False   \n",
       "3  2020-01-07  95.22  95.69  94.60  95.34 -1.0    e           True   \n",
       "4  2020-01-08  94.90  95.55  94.32  94.60  1.0    a           True   \n",
       "\n",
       "  change_types  \n",
       "0        Start  \n",
       "1      (-1, 1)  \n",
       "2       (1, 1)  \n",
       "3      (1, -1)  \n",
       "4      (-1, 1)  "
      ]
     },
     "execution_count": 43,
     "metadata": {},
     "output_type": "execute_result"
    }
   ],
   "source": [
    "df_train = change_points(df_train)\n",
    "df_train.head().round(2)"
   ]
  },
  {
   "cell_type": "code",
   "execution_count": 44,
   "id": "9e39f963-a098-432d-b4a0-8526e3e0fe0d",
   "metadata": {},
   "outputs": [
    {
     "data": {
      "text/html": [
       "<div>\n",
       "<style scoped>\n",
       "    .dataframe tbody tr th:only-of-type {\n",
       "        vertical-align: middle;\n",
       "    }\n",
       "\n",
       "    .dataframe tbody tr th {\n",
       "        vertical-align: top;\n",
       "    }\n",
       "\n",
       "    .dataframe thead th {\n",
       "        text-align: right;\n",
       "    }\n",
       "</style>\n",
       "<table border=\"1\" class=\"dataframe\">\n",
       "  <thead>\n",
       "    <tr style=\"text-align: right;\">\n",
       "      <th></th>\n",
       "      <th>Date</th>\n",
       "      <th>Open</th>\n",
       "      <th>High</th>\n",
       "      <th>Low</th>\n",
       "      <th>Close</th>\n",
       "      <th>fcc</th>\n",
       "      <th>code</th>\n",
       "      <th>change_points</th>\n",
       "      <th>change_types</th>\n",
       "    </tr>\n",
       "  </thead>\n",
       "  <tbody>\n",
       "    <tr>\n",
       "      <th>15</th>\n",
       "      <td>2020-01-24</td>\n",
       "      <td>94.57</td>\n",
       "      <td>94.75</td>\n",
       "      <td>92.37</td>\n",
       "      <td>93.08</td>\n",
       "      <td>-1.0</td>\n",
       "      <td>a</td>\n",
       "      <td>False</td>\n",
       "      <td>(-1, -1)</td>\n",
       "    </tr>\n",
       "    <tr>\n",
       "      <th>16</th>\n",
       "      <td>2020-01-27</td>\n",
       "      <td>91.00</td>\n",
       "      <td>92.05</td>\n",
       "      <td>90.77</td>\n",
       "      <td>91.42</td>\n",
       "      <td>1.0</td>\n",
       "      <td>e</td>\n",
       "      <td>True</td>\n",
       "      <td>(-1, 1)</td>\n",
       "    </tr>\n",
       "    <tr>\n",
       "      <th>17</th>\n",
       "      <td>2020-01-28</td>\n",
       "      <td>92.03</td>\n",
       "      <td>92.91</td>\n",
       "      <td>91.50</td>\n",
       "      <td>92.66</td>\n",
       "      <td>1.0</td>\n",
       "      <td>e</td>\n",
       "      <td>False</td>\n",
       "      <td>(1, 1)</td>\n",
       "    </tr>\n",
       "    <tr>\n",
       "      <th>18</th>\n",
       "      <td>2020-01-29</td>\n",
       "      <td>93.20</td>\n",
       "      <td>93.74</td>\n",
       "      <td>92.75</td>\n",
       "      <td>92.90</td>\n",
       "      <td>1.0</td>\n",
       "      <td>a</td>\n",
       "      <td>False</td>\n",
       "      <td>(1, 1)</td>\n",
       "    </tr>\n",
       "    <tr>\n",
       "      <th>19</th>\n",
       "      <td>2020-01-30</td>\n",
       "      <td>92.90</td>\n",
       "      <td>93.64</td>\n",
       "      <td>92.53</td>\n",
       "      <td>93.53</td>\n",
       "      <td>NaN</td>\n",
       "      <td>e</td>\n",
       "      <td>False</td>\n",
       "      <td>End</td>\n",
       "    </tr>\n",
       "  </tbody>\n",
       "</table>\n",
       "</div>"
      ],
      "text/plain": [
       "          Date   Open   High    Low  Close  fcc code  change_points  \\\n",
       "15  2020-01-24  94.57  94.75  92.37  93.08 -1.0    a          False   \n",
       "16  2020-01-27  91.00  92.05  90.77  91.42  1.0    e           True   \n",
       "17  2020-01-28  92.03  92.91  91.50  92.66  1.0    e          False   \n",
       "18  2020-01-29  93.20  93.74  92.75  92.90  1.0    a          False   \n",
       "19  2020-01-30  92.90  93.64  92.53  93.53  NaN    e          False   \n",
       "\n",
       "   change_types  \n",
       "15     (-1, -1)  \n",
       "16      (-1, 1)  \n",
       "17       (1, 1)  \n",
       "18       (1, 1)  \n",
       "19          End  "
      ]
     },
     "execution_count": 44,
     "metadata": {},
     "output_type": "execute_result"
    }
   ],
   "source": [
    "df_train = change_points(df_train)\n",
    "df_train.tail().round(2)"
   ]
  },
  {
   "cell_type": "code",
   "execution_count": 45,
   "id": "ffb82877-08aa-4f4b-8fce-2d54f59a63b4",
   "metadata": {},
   "outputs": [],
   "source": [
    "def cp_visualizer(data, M=0, N=None):\n",
    "    plt.figure(figsize=(20,5))\n",
    "    plt.plot(data.index[M:N], data.Close[M:N], alpha=0.2)\n",
    "    color_list = ['black', 'red']\n",
    "    plt.scatter(data.index[M:N], data.Close[M:N], c=[color_list[i] for i in data.change_points[M:N]])\n",
    "    plt.xticks(data.index[M:N], data.code[M:N], fontsize=12)\n",
    "    plt.grid();"
   ]
  },
  {
   "cell_type": "markdown",
   "id": "c14af520-3bf1-4ce4-9d52-3ccbd6f0bbad",
   "metadata": {},
   "source": [
    "- In the graph of Close values below, the red points indicate the change points, while the x-values correspond to the candlestick code for each corresponding day."
   ]
  },
  {
   "cell_type": "code",
   "execution_count": 47,
   "id": "0e9f762a-2174-420c-a30f-6b360b001993",
   "metadata": {},
   "outputs": [
    {
     "data": {
      "image/png": "[encoded data removed]",
      "text/plain": [
       "<Figure size 2000x500 with 1 Axes>"
      ]
     },
     "metadata": {},
     "output_type": "display_data"
    }
   ],
   "source": [
    "cp_visualizer(df_train, M=0, N=None)"
   ]
  },
  {
   "cell_type": "markdown",
   "id": "93333d0e-7aab-4492-b080-1c339eb122cb",
   "metadata": {},
   "source": [
    "## Segmentation and Labeling\n",
    "The segmentation and labeling are based on the change points. \n",
    "- Each segment ends with a change point, and the chart below contains 7 segments.\n",
    "    - Segment S-1 consists of only one point: 1.\n",
    "    - Segment S-2 consists of only one point: 2.\n",
    "    - Segment S-3 consists of only one point: 3.\n",
    "    - Segment S-4 consists of three points: 4, 5, and 6 (change point).\n",
    "    - Segment S-5 consists of three points: 7, 8, and 9 (change point).\n",
    "    - Segment S-6 consists of two points: 10 and 11 (change point).\n",
    "    - The last segment, S-7, consists of only one point: 12.\n"
   ]
  },
  {
   "cell_type": "markdown",
   "id": "22f8d527-1b72-41a1-ad9e-248349ca8e46",
   "metadata": {},
   "source": [
    "The label (called Trend in the paper) for each segment represents the direction of the next segment, as it reflects the future behavior that we aim to predict. Additionally, this label can be considered as the behavior immediately following the change point, representing the direction of movement after the change\n",
    "\n",
    "- The Equal direction is not considered as a label, and instead, the first non-equal direction is taken as the label (or trend) for the segment. This applies to the second segment below:\n",
    "    - The trend of S-1 is the direction from Point-1 to Point-2: Up (+1).\n",
    "    - The trend of S-2 is the direction from Point-3 to Point-4, or the direction of S-4: Up (+1).\n",
    "    - The trend of S-3 is the direction from Point-3 to Point-4, or the direction of S-4: Up (+1).\n",
    "    - The trend of S-4 is the direction from Point-6 to Point-7, or the direction of S-5: Down (-1).\n",
    "    - The trend of S-5 is the direction from Point-9 to Point-10, or the direction of S-6: Up (+1).\n",
    "    - The trend of S-6 is the direction from Point-11 to Point-12: Down (-1).\n",
    "    - The trend of S-7 is the direction from Point-12 to Point-13: Up (+1)."
   ]
  },
  {
   "cell_type": "markdown",
   "id": "a26ab73a-c127-4638-ab9a-93208a368235",
   "metadata": {},
   "source": [
    "![](pict/segmentation.png)"
   ]
  },
  {
   "cell_type": "markdown",
   "id": "2a54bdae-17de-4f17-b0e5-d79acbba64f7",
   "metadata": {},
   "source": [
    "### Terminology\n",
    "\n",
    "- **K-line (k)**: Represents a single candlestick identified by its date, high, open, close, and low price values. It corresponds to a single letter in the coding system.  \n",
    "  - Example: 'c'  and 'a' are examples of K-lines.\n",
    "\n",
    "- **K-line Time Series (KTS)**: An ordered sequence of candlesticks, which can also consist of a single candlestick.  \n",
    "  - Example: 'a', 'bbc', 'dd' are examples of K-Line Time Series.\n",
    "\n",
    "- **K-line Pattern**: A pair consisting of a K-line Time Series (KTS) and its corresponding trend.  \n",
    "  - Example: ('a', 1), ('bbc', -1), ('dd', -1) are examples of K-line patterns.\n",
    "\n",
    "- **Pattern Set**: The collection of all K-line patterns within the training data."
   ]
  },
  {
   "cell_type": "markdown",
   "id": "8d687834-0844-49b5-b1f4-2826f606cc06",
   "metadata": {},
   "source": [
    "### Coding"
   ]
  },
  {
   "cell_type": "code",
   "execution_count": 129,
   "id": "20f1f48b-9b73-4c7d-ac41-ea264bb172bc",
   "metadata": {},
   "outputs": [],
   "source": [
    "def segmentation(data):\n",
    "    segment_list, trend_list = [], []\n",
    "    pattern = ''\n",
    "    \n",
    "    for i in range(len(data)-1):  \n",
    "        pattern += data.code[i]\n",
    "    \n",
    "        if data.change_points.loc[i]:\n",
    "            segment_list.append(pattern) \n",
    "            j = i\n",
    "            while True:\n",
    "                if data.change_types[j+1][0] != 0:   # first non-equal direction\n",
    "                    trend_list.append(data.change_types[j+1][0]) \n",
    "                    break\n",
    "                j += 1\n",
    "    \n",
    "            pattern = ''\n",
    "\n",
    "    df_seg = pd.DataFrame()\n",
    "    df_seg['kts'] = segment_list\n",
    "    df_seg['trend'] = trend_list\n",
    "\n",
    "    df_seg_unique = pd.DataFrame(df_seg.value_counts()).reset_index()\n",
    "\n",
    "    return df_seg_unique"
   ]
  },
  {
   "cell_type": "code",
   "execution_count": 51,
   "id": "e48f957d-80b1-4e46-81de-5ead2ca21104",
   "metadata": {},
   "outputs": [
    {
     "data": {
      "text/html": [
       "<div>\n",
       "<style scoped>\n",
       "    .dataframe tbody tr th:only-of-type {\n",
       "        vertical-align: middle;\n",
       "    }\n",
       "\n",
       "    .dataframe tbody tr th {\n",
       "        vertical-align: top;\n",
       "    }\n",
       "\n",
       "    .dataframe thead th {\n",
       "        text-align: right;\n",
       "    }\n",
       "</style>\n",
       "<table border=\"1\" class=\"dataframe\">\n",
       "  <thead>\n",
       "    <tr style=\"text-align: right;\">\n",
       "      <th></th>\n",
       "      <th>kts</th>\n",
       "      <th>trend</th>\n",
       "      <th>count</th>\n",
       "    </tr>\n",
       "  </thead>\n",
       "  <tbody>\n",
       "    <tr>\n",
       "      <th>0</th>\n",
       "      <td>a</td>\n",
       "      <td>-1</td>\n",
       "      <td>3</td>\n",
       "    </tr>\n",
       "    <tr>\n",
       "      <th>1</th>\n",
       "      <td>a</td>\n",
       "      <td>1</td>\n",
       "      <td>3</td>\n",
       "    </tr>\n",
       "    <tr>\n",
       "      <th>2</th>\n",
       "      <td>aa</td>\n",
       "      <td>1</td>\n",
       "      <td>1</td>\n",
       "    </tr>\n",
       "    <tr>\n",
       "      <th>3</th>\n",
       "      <td>aaae</td>\n",
       "      <td>1</td>\n",
       "      <td>1</td>\n",
       "    </tr>\n",
       "    <tr>\n",
       "      <th>4</th>\n",
       "      <td>e</td>\n",
       "      <td>-1</td>\n",
       "      <td>1</td>\n",
       "    </tr>\n",
       "  </tbody>\n",
       "</table>\n",
       "</div>"
      ],
      "text/plain": [
       "    kts  trend  count\n",
       "0     a     -1      3\n",
       "1     a      1      3\n",
       "2    aa      1      1\n",
       "3  aaae      1      1\n",
       "4     e     -1      1"
      ]
     },
     "execution_count": 51,
     "metadata": {},
     "output_type": "execute_result"
    }
   ],
   "source": [
    "PSet = segmentation(df_train)\n",
    "PSet.head()"
   ]
  },
  {
   "cell_type": "markdown",
   "id": "3db267a6-21e9-4584-9cff-495f07276a28",
   "metadata": {},
   "source": [
    "## Subsequence"
   ]
  },
  {
   "cell_type": "code",
   "execution_count": 53,
   "id": "68bec025-0267-45dd-aeca-c9a5b7ba8c54",
   "metadata": {},
   "outputs": [],
   "source": [
    "def whethersub(X, Y):\n",
    "    if len(X) > len(Y): return 0\n",
    "    else:\n",
    "        k = 0\n",
    "        for i in range(len(X)):\n",
    "            if X[i] in Y[k:]:\n",
    "                k = Y.find(X[i], k)+1\n",
    "            else:\n",
    "                return 0          \n",
    "    return 1 "
   ]
  },
  {
   "cell_type": "code",
   "execution_count": 54,
   "id": "50967f03-62c8-41ff-ae65-c0fe2f47fd4e",
   "metadata": {},
   "outputs": [
    {
     "data": {
      "text/plain": [
       "0"
      ]
     },
     "execution_count": 54,
     "metadata": {},
     "output_type": "execute_result"
    }
   ],
   "source": [
    "whethersub('aec', 'abcde')"
   ]
  },
  {
   "cell_type": "code",
   "execution_count": 55,
   "id": "5ccf2961-6f88-41c5-bd01-a47b9b645e43",
   "metadata": {},
   "outputs": [
    {
     "data": {
      "text/plain": [
       "1"
      ]
     },
     "execution_count": 55,
     "metadata": {},
     "output_type": "execute_result"
    }
   ],
   "source": [
    "whethersub('ace', 'abcde')"
   ]
  },
  {
   "cell_type": "code",
   "execution_count": 56,
   "id": "27ae31ff-7b5b-4a55-8cc4-c80c17dff69f",
   "metadata": {},
   "outputs": [
    {
     "data": {
      "text/plain": [
       "1"
      ]
     },
     "execution_count": 56,
     "metadata": {},
     "output_type": "execute_result"
    }
   ],
   "source": [
    "whethersub('cd', 'abcde')"
   ]
  },
  {
   "cell_type": "markdown",
   "id": "f1677646-dff0-48b9-8005-e680697fec41",
   "metadata": {},
   "source": [
    "## oNum"
   ]
  },
  {
   "cell_type": "code",
   "execution_count": 58,
   "id": "7a497afb-1a2c-4391-82e3-18bfe2cbf39d",
   "metadata": {},
   "outputs": [],
   "source": [
    "def onum(pset):\n",
    "    pset_ = pset.copy()\n",
    "    onum_list = []\n",
    "    for i in range(len(pset)):\n",
    "        total = 0\n",
    "        for j in range(len(pset)):\n",
    "            total += whethersub(pset_.loc[i, 'kts'], pset_.loc[j, 'kts'])* pset_.loc[j, 'count']\n",
    "        onum_list.append(total)\n",
    "    pset_['onum'] = onum_list\n",
    "    return pset_"
   ]
  },
  {
   "cell_type": "code",
   "execution_count": 59,
   "id": "627c0bbe-8dce-4015-9060-d5b30d7419c7",
   "metadata": {},
   "outputs": [
    {
     "data": {
      "text/html": [
       "<div>\n",
       "<style scoped>\n",
       "    .dataframe tbody tr th:only-of-type {\n",
       "        vertical-align: middle;\n",
       "    }\n",
       "\n",
       "    .dataframe tbody tr th {\n",
       "        vertical-align: top;\n",
       "    }\n",
       "\n",
       "    .dataframe thead th {\n",
       "        text-align: right;\n",
       "    }\n",
       "</style>\n",
       "<table border=\"1\" class=\"dataframe\">\n",
       "  <thead>\n",
       "    <tr style=\"text-align: right;\">\n",
       "      <th></th>\n",
       "      <th>kts</th>\n",
       "      <th>trend</th>\n",
       "      <th>count</th>\n",
       "      <th>onum</th>\n",
       "    </tr>\n",
       "  </thead>\n",
       "  <tbody>\n",
       "    <tr>\n",
       "      <th>0</th>\n",
       "      <td>a</td>\n",
       "      <td>-1</td>\n",
       "      <td>3</td>\n",
       "      <td>8</td>\n",
       "    </tr>\n",
       "    <tr>\n",
       "      <th>1</th>\n",
       "      <td>a</td>\n",
       "      <td>1</td>\n",
       "      <td>3</td>\n",
       "      <td>8</td>\n",
       "    </tr>\n",
       "    <tr>\n",
       "      <th>2</th>\n",
       "      <td>aa</td>\n",
       "      <td>1</td>\n",
       "      <td>1</td>\n",
       "      <td>2</td>\n",
       "    </tr>\n",
       "    <tr>\n",
       "      <th>3</th>\n",
       "      <td>aaae</td>\n",
       "      <td>1</td>\n",
       "      <td>1</td>\n",
       "      <td>1</td>\n",
       "    </tr>\n",
       "    <tr>\n",
       "      <th>4</th>\n",
       "      <td>e</td>\n",
       "      <td>-1</td>\n",
       "      <td>1</td>\n",
       "      <td>3</td>\n",
       "    </tr>\n",
       "  </tbody>\n",
       "</table>\n",
       "</div>"
      ],
      "text/plain": [
       "    kts  trend  count  onum\n",
       "0     a     -1      3     8\n",
       "1     a      1      3     8\n",
       "2    aa      1      1     2\n",
       "3  aaae      1      1     1\n",
       "4     e     -1      1     3"
      ]
     },
     "execution_count": 59,
     "metadata": {},
     "output_type": "execute_result"
    }
   ],
   "source": [
    "PRSet = onum(PSet)\n",
    "PRSet.head()"
   ]
  },
  {
   "cell_type": "markdown",
   "id": "6110e92d-adc7-4502-86ef-77dd32754abd",
   "metadata": {},
   "source": [
    "## sameTrendNum"
   ]
  },
  {
   "cell_type": "code",
   "execution_count": 61,
   "id": "1a6ff227-7c6e-4668-901f-aec4129dcda9",
   "metadata": {},
   "outputs": [],
   "source": [
    "def sametrendnum(pset):\n",
    "    pset_ = pset.copy()\n",
    "    sametrendnum_list = []\n",
    "    for i in range(len(pset_)):\n",
    "        total = 0\n",
    "        for j in range(len(pset_)):\n",
    "            if whethersub(pset_.loc[i,'kts'], pset_.loc[j,'kts']) & (pset_.loc[i,'trend'] == pset_.loc[j, 'trend']):\n",
    "                total += pset_.loc[j, 'count']    \n",
    "        sametrendnum_list.append(total)\n",
    "    pset_['sametrendnum'] = sametrendnum_list\n",
    "    return pset_  "
   ]
  },
  {
   "cell_type": "code",
   "execution_count": 62,
   "id": "367a6cb0-0deb-42ee-a6c4-6aa452c2bbf9",
   "metadata": {},
   "outputs": [
    {
     "data": {
      "text/html": [
       "<div>\n",
       "<style scoped>\n",
       "    .dataframe tbody tr th:only-of-type {\n",
       "        vertical-align: middle;\n",
       "    }\n",
       "\n",
       "    .dataframe tbody tr th {\n",
       "        vertical-align: top;\n",
       "    }\n",
       "\n",
       "    .dataframe thead th {\n",
       "        text-align: right;\n",
       "    }\n",
       "</style>\n",
       "<table border=\"1\" class=\"dataframe\">\n",
       "  <thead>\n",
       "    <tr style=\"text-align: right;\">\n",
       "      <th></th>\n",
       "      <th>kts</th>\n",
       "      <th>trend</th>\n",
       "      <th>count</th>\n",
       "      <th>onum</th>\n",
       "      <th>sametrendnum</th>\n",
       "    </tr>\n",
       "  </thead>\n",
       "  <tbody>\n",
       "    <tr>\n",
       "      <th>0</th>\n",
       "      <td>a</td>\n",
       "      <td>-1</td>\n",
       "      <td>3</td>\n",
       "      <td>8</td>\n",
       "      <td>3</td>\n",
       "    </tr>\n",
       "    <tr>\n",
       "      <th>1</th>\n",
       "      <td>a</td>\n",
       "      <td>1</td>\n",
       "      <td>3</td>\n",
       "      <td>8</td>\n",
       "      <td>5</td>\n",
       "    </tr>\n",
       "    <tr>\n",
       "      <th>2</th>\n",
       "      <td>aa</td>\n",
       "      <td>1</td>\n",
       "      <td>1</td>\n",
       "      <td>2</td>\n",
       "      <td>2</td>\n",
       "    </tr>\n",
       "    <tr>\n",
       "      <th>3</th>\n",
       "      <td>aaae</td>\n",
       "      <td>1</td>\n",
       "      <td>1</td>\n",
       "      <td>1</td>\n",
       "      <td>1</td>\n",
       "    </tr>\n",
       "    <tr>\n",
       "      <th>4</th>\n",
       "      <td>e</td>\n",
       "      <td>-1</td>\n",
       "      <td>1</td>\n",
       "      <td>3</td>\n",
       "      <td>2</td>\n",
       "    </tr>\n",
       "  </tbody>\n",
       "</table>\n",
       "</div>"
      ],
      "text/plain": [
       "    kts  trend  count  onum  sametrendnum\n",
       "0     a     -1      3     8             3\n",
       "1     a      1      3     8             5\n",
       "2    aa      1      1     2             2\n",
       "3  aaae      1      1     1             1\n",
       "4     e     -1      1     3             2"
      ]
     },
     "execution_count": 62,
     "metadata": {},
     "output_type": "execute_result"
    }
   ],
   "source": [
    "PRSet = sametrendnum(PRSet)\n",
    "PRSet.head()"
   ]
  },
  {
   "cell_type": "markdown",
   "id": "96b480ff-a4ae-4e80-bc75-55e7a5b51df6",
   "metadata": {},
   "source": [
    "## PACC"
   ]
  },
  {
   "cell_type": "code",
   "execution_count": 64,
   "id": "59d4377d-79dc-414e-9ef1-7556c3fcf19e",
   "metadata": {},
   "outputs": [],
   "source": [
    "def pacc(pset):\n",
    "    pset_ = pset.copy()\n",
    "    pset_['pacc'] = pset_['sametrendnum'] / pset_['onum'] \n",
    "    return pset_"
   ]
  },
  {
   "cell_type": "code",
   "execution_count": 65,
   "id": "12f23030-3cc5-4fdb-9df2-3437e53acbe9",
   "metadata": {},
   "outputs": [
    {
     "data": {
      "text/html": [
       "<div>\n",
       "<style scoped>\n",
       "    .dataframe tbody tr th:only-of-type {\n",
       "        vertical-align: middle;\n",
       "    }\n",
       "\n",
       "    .dataframe tbody tr th {\n",
       "        vertical-align: top;\n",
       "    }\n",
       "\n",
       "    .dataframe thead th {\n",
       "        text-align: right;\n",
       "    }\n",
       "</style>\n",
       "<table border=\"1\" class=\"dataframe\">\n",
       "  <thead>\n",
       "    <tr style=\"text-align: right;\">\n",
       "      <th></th>\n",
       "      <th>kts</th>\n",
       "      <th>trend</th>\n",
       "      <th>count</th>\n",
       "      <th>onum</th>\n",
       "      <th>sametrendnum</th>\n",
       "      <th>pacc</th>\n",
       "    </tr>\n",
       "  </thead>\n",
       "  <tbody>\n",
       "    <tr>\n",
       "      <th>0</th>\n",
       "      <td>a</td>\n",
       "      <td>-1</td>\n",
       "      <td>3</td>\n",
       "      <td>8</td>\n",
       "      <td>3</td>\n",
       "      <td>0.375000</td>\n",
       "    </tr>\n",
       "    <tr>\n",
       "      <th>1</th>\n",
       "      <td>a</td>\n",
       "      <td>1</td>\n",
       "      <td>3</td>\n",
       "      <td>8</td>\n",
       "      <td>5</td>\n",
       "      <td>0.625000</td>\n",
       "    </tr>\n",
       "    <tr>\n",
       "      <th>2</th>\n",
       "      <td>aa</td>\n",
       "      <td>1</td>\n",
       "      <td>1</td>\n",
       "      <td>2</td>\n",
       "      <td>2</td>\n",
       "      <td>1.000000</td>\n",
       "    </tr>\n",
       "    <tr>\n",
       "      <th>3</th>\n",
       "      <td>aaae</td>\n",
       "      <td>1</td>\n",
       "      <td>1</td>\n",
       "      <td>1</td>\n",
       "      <td>1</td>\n",
       "      <td>1.000000</td>\n",
       "    </tr>\n",
       "    <tr>\n",
       "      <th>4</th>\n",
       "      <td>e</td>\n",
       "      <td>-1</td>\n",
       "      <td>1</td>\n",
       "      <td>3</td>\n",
       "      <td>2</td>\n",
       "      <td>0.666667</td>\n",
       "    </tr>\n",
       "  </tbody>\n",
       "</table>\n",
       "</div>"
      ],
      "text/plain": [
       "    kts  trend  count  onum  sametrendnum      pacc\n",
       "0     a     -1      3     8             3  0.375000\n",
       "1     a      1      3     8             5  0.625000\n",
       "2    aa      1      1     2             2  1.000000\n",
       "3  aaae      1      1     1             1  1.000000\n",
       "4     e     -1      1     3             2  0.666667"
      ]
     },
     "execution_count": 65,
     "metadata": {},
     "output_type": "execute_result"
    }
   ],
   "source": [
    "PRSet = pacc(PRSet)\n",
    "PRSet.head()"
   ]
  },
  {
   "cell_type": "markdown",
   "id": "3d23db62-a23b-4c8c-8788-54e63c19c4a5",
   "metadata": {},
   "source": [
    "## Subsequence Model"
   ]
  },
  {
   "cell_type": "code",
   "execution_count": 67,
   "id": "9ed80579-07ab-4926-83b3-645593a30d1e",
   "metadata": {},
   "outputs": [],
   "source": [
    "def subsequence_model_predict(kts, prset):\n",
    "    best_pattern = []\n",
    "    best_pacc = [0]\n",
    "    best_trend = []\n",
    "    for i in range(len(prset)):\n",
    "        if (whethersub(prset.loc[i, 'kts'], kts)):\n",
    "            if prset.loc[i, 'pacc'] > best_pacc[-1]:\n",
    "                best_pattern = [prset.loc[i, 'kts']] \n",
    "                best_pacc = [prset.loc[i, 'pacc']]\n",
    "                best_trend = [ prset.loc[i, 'trend']]\n",
    "            elif prset.loc[i, 'pacc'] == best_pacc[-1]:\n",
    "                best_pattern.append(prset.loc[i, 'kts'])\n",
    "                best_pacc.append(prset.loc[i, 'pacc'])\n",
    "                best_trend.append(prset.loc[i, 'trend'])\n",
    "\n",
    "    if len(best_trend) == 0:\n",
    "        pred = statistics.mode(prset.trend)\n",
    "    elif len(best_trend) == 1:\n",
    "        pred = best_trend[0]\n",
    "    else:\n",
    "        pred = statistics.mode(best_trend)\n",
    "        \n",
    "    return {'Best Pattern':best_pattern, 'Best PACC': best_pacc, 'Best Trend': best_trend, 'Prediction':pred}"
   ]
  },
  {
   "cell_type": "code",
   "execution_count": 68,
   "id": "c978d0fa-8378-418b-9b55-21f6ec9130f8",
   "metadata": {},
   "outputs": [
    {
     "data": {
      "text/plain": [
       "{'Best Pattern': ['aa'],\n",
       " 'Best PACC': [1.0],\n",
       " 'Best Trend': [1],\n",
       " 'Prediction': 1}"
      ]
     },
     "execution_count": 68,
     "metadata": {},
     "output_type": "execute_result"
    }
   ],
   "source": [
    "subsequence_model_predict('aaee', PRSet)"
   ]
  },
  {
   "cell_type": "code",
   "execution_count": 69,
   "id": "a521614f-8ddb-45d4-81e3-db1542346158",
   "metadata": {},
   "outputs": [
    {
     "data": {
      "text/plain": [
       "{'Best Pattern': ['a'],\n",
       " 'Best PACC': [0.625],\n",
       " 'Best Trend': [1],\n",
       " 'Prediction': 1}"
      ]
     },
     "execution_count": 69,
     "metadata": {},
     "output_type": "execute_result"
    }
   ],
   "source": [
    "subsequence_model_predict('acd', PRSet)"
   ]
  },
  {
   "cell_type": "markdown",
   "id": "04df2753-aa4f-4524-afba-906ffd85ee9e",
   "metadata": {},
   "source": [
    "## Test Set"
   ]
  },
  {
   "cell_type": "code",
   "execution_count": 71,
   "id": "23625459-4f5b-4f79-b313-056f0f4cc5cd",
   "metadata": {},
   "outputs": [
    {
     "data": {
      "text/html": [
       "<div>\n",
       "<style scoped>\n",
       "    .dataframe tbody tr th:only-of-type {\n",
       "        vertical-align: middle;\n",
       "    }\n",
       "\n",
       "    .dataframe tbody tr th {\n",
       "        vertical-align: top;\n",
       "    }\n",
       "\n",
       "    .dataframe thead th {\n",
       "        text-align: right;\n",
       "    }\n",
       "</style>\n",
       "<table border=\"1\" class=\"dataframe\">\n",
       "  <thead>\n",
       "    <tr style=\"text-align: right;\">\n",
       "      <th></th>\n",
       "      <th>Date</th>\n",
       "      <th>Open</th>\n",
       "      <th>High</th>\n",
       "      <th>Low</th>\n",
       "      <th>Close</th>\n",
       "      <th>code</th>\n",
       "      <th>change_points</th>\n",
       "      <th>change_types</th>\n",
       "      <th>fcc</th>\n",
       "    </tr>\n",
       "  </thead>\n",
       "  <tbody>\n",
       "    <tr>\n",
       "      <th>0</th>\n",
       "      <td>2020-02-03</td>\n",
       "      <td>100.529999</td>\n",
       "      <td>102.425003</td>\n",
       "      <td>100.012497</td>\n",
       "      <td>100.209999</td>\n",
       "      <td>a</td>\n",
       "      <td>True</td>\n",
       "      <td>Start</td>\n",
       "      <td>1.0</td>\n",
       "    </tr>\n",
       "    <tr>\n",
       "      <th>1</th>\n",
       "      <td>2020-02-04</td>\n",
       "      <td>101.494003</td>\n",
       "      <td>102.989998</td>\n",
       "      <td>100.768501</td>\n",
       "      <td>102.483498</td>\n",
       "      <td>e</td>\n",
       "      <td>True</td>\n",
       "      <td>(1, -1)</td>\n",
       "      <td>-1.0</td>\n",
       "    </tr>\n",
       "    <tr>\n",
       "      <th>2</th>\n",
       "      <td>2020-02-05</td>\n",
       "      <td>103.551003</td>\n",
       "      <td>103.551003</td>\n",
       "      <td>101.599998</td>\n",
       "      <td>101.993500</td>\n",
       "      <td>b</td>\n",
       "      <td>True</td>\n",
       "      <td>(-1, 1)</td>\n",
       "      <td>1.0</td>\n",
       "    </tr>\n",
       "    <tr>\n",
       "      <th>3</th>\n",
       "      <td>2020-02-06</td>\n",
       "      <td>102.051003</td>\n",
       "      <td>102.815002</td>\n",
       "      <td>101.239998</td>\n",
       "      <td>102.511497</td>\n",
       "      <td>e</td>\n",
       "      <td>False</td>\n",
       "      <td>(1, 1)</td>\n",
       "      <td>1.0</td>\n",
       "    </tr>\n",
       "    <tr>\n",
       "      <th>4</th>\n",
       "      <td>2020-02-07</td>\n",
       "      <td>102.099503</td>\n",
       "      <td>104.926498</td>\n",
       "      <td>101.904999</td>\n",
       "      <td>103.963997</td>\n",
       "      <td>e</td>\n",
       "      <td>False</td>\n",
       "      <td>(1, 1)</td>\n",
       "      <td>1.0</td>\n",
       "    </tr>\n",
       "  </tbody>\n",
       "</table>\n",
       "</div>"
      ],
      "text/plain": [
       "         Date        Open        High         Low       Close code  \\\n",
       "0  2020-02-03  100.529999  102.425003  100.012497  100.209999    a   \n",
       "1  2020-02-04  101.494003  102.989998  100.768501  102.483498    e   \n",
       "2  2020-02-05  103.551003  103.551003  101.599998  101.993500    b   \n",
       "3  2020-02-06  102.051003  102.815002  101.239998  102.511497    e   \n",
       "4  2020-02-07  102.099503  104.926498  101.904999  103.963997    e   \n",
       "\n",
       "   change_points change_types  fcc  \n",
       "0           True        Start  1.0  \n",
       "1           True      (1, -1) -1.0  \n",
       "2           True      (-1, 1)  1.0  \n",
       "3          False       (1, 1)  1.0  \n",
       "4          False       (1, 1)  1.0  "
      ]
     },
     "execution_count": 71,
     "metadata": {},
     "output_type": "execute_result"
    }
   ],
   "source": [
    "df_test = yf.Ticker('AMZN').history(start='2020-2-1', end='2020-2-28')\n",
    "df_test.reset_index(inplace=True)\n",
    "df_test = df_test.iloc[:,:-3]\n",
    "df_test['Date'] = [i.date() for i in df_test.Date]\n",
    "df_test = df_encoder(df_test)\n",
    "df_test = change_points(df_test)\n",
    "df_test['fcc'] = [np.sign(df_test.Close.loc[i+1]-df_test.Close.loc[i]) for i in range(len(df_test)-1)]+[np.nan]\n",
    "df_test.head()"
   ]
  },
  {
   "cell_type": "code",
   "execution_count": 72,
   "id": "82dd2cba-af8f-4996-8e5a-7f635ac4d8e8",
   "metadata": {},
   "outputs": [],
   "source": [
    "def test_data_prep(data, N=5):\n",
    "    test_data = []\n",
    "    for i in range(len(data)-N):\n",
    "        kts = ''\n",
    "        for j in range(N):\n",
    "            kts += data.code.loc[i+j]\n",
    "        test_data.append((kts, data.fcc.loc[i+j]))\n",
    "        \n",
    "    if type(test_data[-1][-1]) != float:\n",
    "        test_data.pop()\n",
    "    \n",
    "    return test_data"
   ]
  },
  {
   "cell_type": "code",
   "execution_count": 73,
   "id": "c5b8781a-2331-4c36-9e10-f53424ffbf17",
   "metadata": {},
   "outputs": [
    {
     "data": {
      "text/plain": [
       "[('aebee', 1.0),\n",
       " ('ebeee', 1.0),\n",
       " ('beeea', 1.0),\n",
       " ('eeeaa', -1.0),\n",
       " ('eeaae', -1.0),\n",
       " ('eaaea', 1.0),\n",
       " ('aaeae', 1.0),\n",
       " ('aeaee', -1.0),\n",
       " ('eaeea', -1.0),\n",
       " ('aeeaa', -1.0),\n",
       " ('eeaae', -1.0),\n",
       " ('eaaea', 1.0)]"
      ]
     },
     "execution_count": 73,
     "metadata": {},
     "output_type": "execute_result"
    }
   ],
   "source": [
    "test_data = test_data_prep(df_test)\n",
    "test_data"
   ]
  },
  {
   "cell_type": "markdown",
   "id": "9cb587b8-220b-4172-b75b-3766da8526b2",
   "metadata": {},
   "source": [
    "## Prediction"
   ]
  },
  {
   "cell_type": "code",
   "execution_count": 75,
   "id": "09118602-0253-4097-9391-27353bb998c7",
   "metadata": {},
   "outputs": [],
   "source": [
    "def subsequence_model_score(data, prset):\n",
    "    pred_test = [subsequence_model_predict(kts, prset)['Prediction'] for (kts,trend) in data]\n",
    "    return accuracy_score(pred_test, [trend for (kts,trend) in data])"
   ]
  },
  {
   "cell_type": "code",
   "execution_count": 76,
   "id": "1dd0d67e-0f69-4515-b9a8-1eaa4ab4df07",
   "metadata": {},
   "outputs": [
    {
     "data": {
      "text/plain": [
       "0.25"
      ]
     },
     "execution_count": 76,
     "metadata": {},
     "output_type": "execute_result"
    }
   ],
   "source": [
    "subsequence_model_score(test_data, PRSet)"
   ]
  },
  {
   "cell_type": "code",
   "execution_count": null,
   "id": "50ce5ca4-e46d-4793-95df-f7ba31bb1e3f",
   "metadata": {},
   "outputs": [],
   "source": []
  }
 ],
 "metadata": {
  "kernelspec": {
   "display_name": "Python 3 (ipykernel)",
   "language": "python",
   "name": "python3"
  },
  "language_info": {
   "codemirror_mode": {
    "name": "ipython",
    "version": 3
   },
   "file_extension": ".py",
   "mimetype": "text/x-python",
   "name": "python",
   "nbconvert_exporter": "python",
   "pygments_lexer": "ipython3",
   "version": "3.11.8"
  }
 },
 "nbformat": 4,
 "nbformat_minor": 5
}
