{
 "cells": [
  {
   "cell_type": "markdown",
   "id": "2ea34382-e847-4b8f-80f7-a4e01479f825",
   "metadata": {},
   "source": [
    "# Coding\n",
    "![](title_pict/coding2.png)"
   ]
  },
  {
   "cell_type": "code",
   "execution_count": 2,
   "id": "2b6e778e-5122-4254-937d-df3eb880fbbc",
   "metadata": {},
   "outputs": [],
   "source": [
    "import yfinance as yf\n",
    "import numpy as np\n",
    "import matplotlib.pyplot as plt\n",
    "import pandas as pd\n",
    "import statistics\n",
    "from sklearn.metrics import accuracy_score"
   ]
  },
  {
   "cell_type": "markdown",
   "id": "8a446f88-507d-4b16-bd01-e67de0ece94d",
   "metadata": {},
   "source": [
    "## Data\n",
    "The following function returns a tuple containing the training and test datasets for a specified stock and time period.\n",
    "- The training_ratio parameter represents the percentage of data allocated to the training set."
   ]
  },
  {
   "cell_type": "code",
   "execution_count": 4,
   "id": "999f8f02-1c25-4b72-988f-e2fd93eb9a81",
   "metadata": {},
   "outputs": [],
   "source": [
    "def get_training_test_data(stock='AMZN', start='2019-1-1', end='2021-1-31', training_ratio=0.96):\n",
    "    df = yf.Ticker(stock).history(start=start, end=end)\n",
    "    df = df.iloc[:,:-3]\n",
    "    df.reset_index(inplace=True)\n",
    "    df['Date'] = [i.date() for i in df.Date]\n",
    "    df['fcc'] = [np.sign(df.Close.loc[i+1]-df.Close.loc[i]) for i in range(len(df)-1)]+[np.nan]\n",
    "    training_length = int(len(df)*training_ratio)\n",
    "    training_data = df.iloc[:training_length,:] \n",
    "    test_data = df.iloc[training_length:,:]\n",
    "    test_data.reset_index(inplace=True, drop=True)\n",
    "    return (training_data, test_data)"
   ]
  },
  {
   "cell_type": "code",
   "execution_count": 5,
   "id": "dfbb15ea-c80a-415f-8feb-6b23e5544bf9",
   "metadata": {},
   "outputs": [
    {
     "data": {
      "text/plain": [
       "((503, 6), (21, 6))"
      ]
     },
     "execution_count": 5,
     "metadata": {},
     "output_type": "execute_result"
    }
   ],
   "source": [
    "df_train, df_test = get_training_test_data()\n",
    "df_train.shape, df_test.shape"
   ]
  },
  {
   "cell_type": "code",
   "execution_count": 6,
   "id": "5d461b30-70b9-4104-b1ec-c40d716df48c",
   "metadata": {},
   "outputs": [
    {
     "data": {
      "text/html": [
       "<div>\n",
       "<style scoped>\n",
       "    .dataframe tbody tr th:only-of-type {\n",
       "        vertical-align: middle;\n",
       "    }\n",
       "\n",
       "    .dataframe tbody tr th {\n",
       "        vertical-align: top;\n",
       "    }\n",
       "\n",
       "    .dataframe thead th {\n",
       "        text-align: right;\n",
       "    }\n",
       "</style>\n",
       "<table border=\"1\" class=\"dataframe\">\n",
       "  <thead>\n",
       "    <tr style=\"text-align: right;\">\n",
       "      <th></th>\n",
       "      <th>Date</th>\n",
       "      <th>Open</th>\n",
       "      <th>High</th>\n",
       "      <th>Low</th>\n",
       "      <th>Close</th>\n",
       "      <th>fcc</th>\n",
       "    </tr>\n",
       "  </thead>\n",
       "  <tbody>\n",
       "    <tr>\n",
       "      <th>0</th>\n",
       "      <td>2019-01-02</td>\n",
       "      <td>73.260002</td>\n",
       "      <td>77.667999</td>\n",
       "      <td>73.046501</td>\n",
       "      <td>76.956497</td>\n",
       "      <td>-1.0</td>\n",
       "    </tr>\n",
       "    <tr>\n",
       "      <th>1</th>\n",
       "      <td>2019-01-03</td>\n",
       "      <td>76.000504</td>\n",
       "      <td>76.900002</td>\n",
       "      <td>74.855499</td>\n",
       "      <td>75.014000</td>\n",
       "      <td>1.0</td>\n",
       "    </tr>\n",
       "    <tr>\n",
       "      <th>2</th>\n",
       "      <td>2019-01-04</td>\n",
       "      <td>76.500000</td>\n",
       "      <td>79.699997</td>\n",
       "      <td>75.915497</td>\n",
       "      <td>78.769501</td>\n",
       "      <td>1.0</td>\n",
       "    </tr>\n",
       "    <tr>\n",
       "      <th>3</th>\n",
       "      <td>2019-01-07</td>\n",
       "      <td>80.115501</td>\n",
       "      <td>81.727997</td>\n",
       "      <td>79.459503</td>\n",
       "      <td>81.475502</td>\n",
       "      <td>1.0</td>\n",
       "    </tr>\n",
       "    <tr>\n",
       "      <th>4</th>\n",
       "      <td>2019-01-08</td>\n",
       "      <td>83.234497</td>\n",
       "      <td>83.830498</td>\n",
       "      <td>80.830498</td>\n",
       "      <td>82.829002</td>\n",
       "      <td>1.0</td>\n",
       "    </tr>\n",
       "  </tbody>\n",
       "</table>\n",
       "</div>"
      ],
      "text/plain": [
       "         Date       Open       High        Low      Close  fcc\n",
       "0  2019-01-02  73.260002  77.667999  73.046501  76.956497 -1.0\n",
       "1  2019-01-03  76.000504  76.900002  74.855499  75.014000  1.0\n",
       "2  2019-01-04  76.500000  79.699997  75.915497  78.769501  1.0\n",
       "3  2019-01-07  80.115501  81.727997  79.459503  81.475502  1.0\n",
       "4  2019-01-08  83.234497  83.830498  80.830498  82.829002  1.0"
      ]
     },
     "execution_count": 6,
     "metadata": {},
     "output_type": "execute_result"
    }
   ],
   "source": [
    "df_train.head()"
   ]
  },
  {
   "cell_type": "code",
   "execution_count": 7,
   "id": "d8feb239-4341-4220-92c6-1de706f140ef",
   "metadata": {},
   "outputs": [
    {
     "data": {
      "text/html": [
       "<div>\n",
       "<style scoped>\n",
       "    .dataframe tbody tr th:only-of-type {\n",
       "        vertical-align: middle;\n",
       "    }\n",
       "\n",
       "    .dataframe tbody tr th {\n",
       "        vertical-align: top;\n",
       "    }\n",
       "\n",
       "    .dataframe thead th {\n",
       "        text-align: right;\n",
       "    }\n",
       "</style>\n",
       "<table border=\"1\" class=\"dataframe\">\n",
       "  <thead>\n",
       "    <tr style=\"text-align: right;\">\n",
       "      <th></th>\n",
       "      <th>Date</th>\n",
       "      <th>Open</th>\n",
       "      <th>High</th>\n",
       "      <th>Low</th>\n",
       "      <th>Close</th>\n",
       "      <th>fcc</th>\n",
       "    </tr>\n",
       "  </thead>\n",
       "  <tbody>\n",
       "    <tr>\n",
       "      <th>0</th>\n",
       "      <td>2020-12-30</td>\n",
       "      <td>167.050003</td>\n",
       "      <td>167.104996</td>\n",
       "      <td>164.123505</td>\n",
       "      <td>164.292496</td>\n",
       "      <td>-1.0</td>\n",
       "    </tr>\n",
       "    <tr>\n",
       "      <th>1</th>\n",
       "      <td>2020-12-31</td>\n",
       "      <td>163.750000</td>\n",
       "      <td>164.145996</td>\n",
       "      <td>162.059998</td>\n",
       "      <td>162.846497</td>\n",
       "      <td>-1.0</td>\n",
       "    </tr>\n",
       "    <tr>\n",
       "      <th>2</th>\n",
       "      <td>2021-01-04</td>\n",
       "      <td>163.500000</td>\n",
       "      <td>163.600006</td>\n",
       "      <td>157.201004</td>\n",
       "      <td>159.331497</td>\n",
       "      <td>1.0</td>\n",
       "    </tr>\n",
       "    <tr>\n",
       "      <th>3</th>\n",
       "      <td>2021-01-05</td>\n",
       "      <td>158.300507</td>\n",
       "      <td>161.169006</td>\n",
       "      <td>158.253006</td>\n",
       "      <td>160.925507</td>\n",
       "      <td>-1.0</td>\n",
       "    </tr>\n",
       "    <tr>\n",
       "      <th>4</th>\n",
       "      <td>2021-01-06</td>\n",
       "      <td>157.324005</td>\n",
       "      <td>159.875504</td>\n",
       "      <td>156.557999</td>\n",
       "      <td>156.919006</td>\n",
       "      <td>1.0</td>\n",
       "    </tr>\n",
       "  </tbody>\n",
       "</table>\n",
       "</div>"
      ],
      "text/plain": [
       "         Date        Open        High         Low       Close  fcc\n",
       "0  2020-12-30  167.050003  167.104996  164.123505  164.292496 -1.0\n",
       "1  2020-12-31  163.750000  164.145996  162.059998  162.846497 -1.0\n",
       "2  2021-01-04  163.500000  163.600006  157.201004  159.331497  1.0\n",
       "3  2021-01-05  158.300507  161.169006  158.253006  160.925507 -1.0\n",
       "4  2021-01-06  157.324005  159.875504  156.557999  156.919006  1.0"
      ]
     },
     "execution_count": 7,
     "metadata": {},
     "output_type": "execute_result"
    }
   ],
   "source": [
    "df_test.head()"
   ]
  },
  {
   "cell_type": "markdown",
   "id": "330d0c14-6643-48e2-b811-497ebf02c158",
   "metadata": {},
   "source": [
    "## Visualization"
   ]
  },
  {
   "cell_type": "code",
   "execution_count": 9,
   "id": "ea5fd071-7a3f-4f8b-bd79-40aa47bde137",
   "metadata": {},
   "outputs": [],
   "source": [
    "def cs_visualize(hp, op, cp, lp, x=0, details=False, linewidth=20):\n",
    "    if cp > op: color = 'green'\n",
    "    elif cp < op:  color = 'red'\n",
    "    else: color ='black'\n",
    "\n",
    "    plt.plot([x,x], [lp, hp], c=color)\n",
    "    \n",
    "    if cp != op:\n",
    "        plt.plot([x,x], [op, cp], c=color, linewidth=linewidth)\n",
    "    else:\n",
    "        plt.plot([x-0.1,x+0.1], [op, cp], c=color, linewidth=1)\n",
    "\n",
    "    if details:\n",
    "        plt.text(x+0.01, hp, 'high')\n",
    "        plt.text(x+0.01, lp , 'low')\n",
    "        plt.text(x+0.01, cp, 'close')\n",
    "        plt.text(x+0.01, op, 'open')"
   ]
  },
  {
   "cell_type": "code",
   "execution_count": 10,
   "id": "24aa5ac1-5c24-42cf-b533-2dc0e037ab02",
   "metadata": {},
   "outputs": [],
   "source": [
    "def cs_visualize_df(data, M=0, N=None):\n",
    "    plt.figure(figsize=(20,5))\n",
    "    for i in data.index[M:N]:\n",
    "        hp, op, cp, lp = data[['High','Open', 'Close', 'Low']].loc[i]\n",
    "        cs_visualize(hp, op, cp, lp, x=i)"
   ]
  },
  {
   "cell_type": "code",
   "execution_count": 11,
   "id": "e77a8e3a-be15-41dc-a650-290fa509b98c",
   "metadata": {},
   "outputs": [
    {
     "data": {
      "image/png": "[encoded data removed]",
      "text/plain": [
       "<Figure size 2000x500 with 1 Axes>"
      ]
     },
     "metadata": {},
     "output_type": "display_data"
    }
   ],
   "source": [
    "cs_visualize_df(df_train, M=0, N=20)"
   ]
  },
  {
   "cell_type": "markdown",
   "id": "aed4e040-1eb6-4cf0-acbc-5c29f8e7b945",
   "metadata": {},
   "source": [
    "## Encoding\n"
   ]
  },
  {
   "cell_type": "code",
   "execution_count": 13,
   "id": "c3eca617-87d7-4c91-b7ba-85106c58acc7",
   "metadata": {},
   "outputs": [],
   "source": [
    "def encoder(hp, op, cp, lp):\n",
    "    if hp  > op > cp  > lp: return 'a'\n",
    "    if hp == op > cp  > lp: return 'b'\n",
    "    if hp == op > cp == lp: return 'c'\n",
    "    if hp  > op > cp == lp: return 'd'\n",
    "        \n",
    "    if hp  > cp > op  > lp: return 'e'\n",
    "    if hp == cp > op  > lp: return 'f'\n",
    "    if hp == cp > op == lp: return 'g'\n",
    "    if hp  > cp > op == lp: return 'h'\n",
    "\n",
    "    if hp  > op == cp  > lp: return 'i'\n",
    "    if hp == op == cp  > lp: return 'j'\n",
    "    if hp == op == cp == lp: return 'k'\n",
    "    if hp  > op == cp == lp: return 'l' "
   ]
  },
  {
   "cell_type": "code",
   "execution_count": 14,
   "id": "15298f95-30e4-4472-a3d4-7387904370b2",
   "metadata": {},
   "outputs": [],
   "source": [
    "def df_encoder(data):\n",
    "    data_ = data.copy()\n",
    "    encoder_list = []\n",
    "    for i in data_.index:\n",
    "        hp, op, cp, lp = data_[['High','Open', 'Close', 'Low']].loc[i]\n",
    "        encoder_list.append(encoder(hp, op, cp, lp))\n",
    "    data_['code'] = encoder_list\n",
    "    return data_"
   ]
  },
  {
   "cell_type": "code",
   "execution_count": 15,
   "id": "871f2d01-2d19-4e53-bb10-7a7d43858774",
   "metadata": {},
   "outputs": [
    {
     "data": {
      "text/html": [
       "<div>\n",
       "<style scoped>\n",
       "    .dataframe tbody tr th:only-of-type {\n",
       "        vertical-align: middle;\n",
       "    }\n",
       "\n",
       "    .dataframe tbody tr th {\n",
       "        vertical-align: top;\n",
       "    }\n",
       "\n",
       "    .dataframe thead th {\n",
       "        text-align: right;\n",
       "    }\n",
       "</style>\n",
       "<table border=\"1\" class=\"dataframe\">\n",
       "  <thead>\n",
       "    <tr style=\"text-align: right;\">\n",
       "      <th></th>\n",
       "      <th>Date</th>\n",
       "      <th>Open</th>\n",
       "      <th>High</th>\n",
       "      <th>Low</th>\n",
       "      <th>Close</th>\n",
       "      <th>fcc</th>\n",
       "      <th>code</th>\n",
       "    </tr>\n",
       "  </thead>\n",
       "  <tbody>\n",
       "    <tr>\n",
       "      <th>0</th>\n",
       "      <td>2019-01-02</td>\n",
       "      <td>73.26</td>\n",
       "      <td>77.67</td>\n",
       "      <td>73.05</td>\n",
       "      <td>76.96</td>\n",
       "      <td>-1.0</td>\n",
       "      <td>e</td>\n",
       "    </tr>\n",
       "    <tr>\n",
       "      <th>1</th>\n",
       "      <td>2019-01-03</td>\n",
       "      <td>76.00</td>\n",
       "      <td>76.90</td>\n",
       "      <td>74.86</td>\n",
       "      <td>75.01</td>\n",
       "      <td>1.0</td>\n",
       "      <td>a</td>\n",
       "    </tr>\n",
       "    <tr>\n",
       "      <th>2</th>\n",
       "      <td>2019-01-04</td>\n",
       "      <td>76.50</td>\n",
       "      <td>79.70</td>\n",
       "      <td>75.92</td>\n",
       "      <td>78.77</td>\n",
       "      <td>1.0</td>\n",
       "      <td>e</td>\n",
       "    </tr>\n",
       "    <tr>\n",
       "      <th>3</th>\n",
       "      <td>2019-01-07</td>\n",
       "      <td>80.12</td>\n",
       "      <td>81.73</td>\n",
       "      <td>79.46</td>\n",
       "      <td>81.48</td>\n",
       "      <td>1.0</td>\n",
       "      <td>e</td>\n",
       "    </tr>\n",
       "    <tr>\n",
       "      <th>4</th>\n",
       "      <td>2019-01-08</td>\n",
       "      <td>83.23</td>\n",
       "      <td>83.83</td>\n",
       "      <td>80.83</td>\n",
       "      <td>82.83</td>\n",
       "      <td>1.0</td>\n",
       "      <td>a</td>\n",
       "    </tr>\n",
       "  </tbody>\n",
       "</table>\n",
       "</div>"
      ],
      "text/plain": [
       "         Date   Open   High    Low  Close  fcc code\n",
       "0  2019-01-02  73.26  77.67  73.05  76.96 -1.0    e\n",
       "1  2019-01-03  76.00  76.90  74.86  75.01  1.0    a\n",
       "2  2019-01-04  76.50  79.70  75.92  78.77  1.0    e\n",
       "3  2019-01-07  80.12  81.73  79.46  81.48  1.0    e\n",
       "4  2019-01-08  83.23  83.83  80.83  82.83  1.0    a"
      ]
     },
     "execution_count": 15,
     "metadata": {},
     "output_type": "execute_result"
    }
   ],
   "source": [
    "df_train = df_encoder(df_train)\n",
    "df_train.head().round(2)"
   ]
  },
  {
   "cell_type": "markdown",
   "id": "f18dad1f-2b02-4fdb-8d5a-104502fe9d4c",
   "metadata": {},
   "source": [
    "The chart below illustrates the candlestick charts along with their corresponding codes."
   ]
  },
  {
   "cell_type": "code",
   "execution_count": 17,
   "id": "4722b72d-9b49-47b5-ab29-4a152d7c73cc",
   "metadata": {},
   "outputs": [
    {
     "data": {
      "image/png": "[encoded data removed]",
      "text/plain": [
       "<Figure size 2000x500 with 1 Axes>"
      ]
     },
     "metadata": {},
     "output_type": "display_data"
    }
   ],
   "source": [
    "cs_visualize_df(df_train, M=0, N=20)\n",
    "plt.xticks(range(0,20), df_train.code[0:20])\n",
    "plt.grid(axis='x');"
   ]
  },
  {
   "cell_type": "markdown",
   "id": "023efcf1-8e34-4388-bee2-99056b4130d4",
   "metadata": {},
   "source": [
    "## Change Points"
   ]
  },
  {
   "cell_type": "code",
   "execution_count": 19,
   "id": "f3905b1d-1ed2-4c83-bd70-2105a013294c",
   "metadata": {},
   "outputs": [],
   "source": [
    "def change_points(data):\n",
    "    data_ = data.copy()\n",
    "    change_pts, change_types = [True], ['Start']\n",
    "\n",
    "    for i in range(1, len(data_)-1):\n",
    "        \n",
    "        left_change  = int(np.sign(data_['Close'][i]-data_['Close'][i-1]))\n",
    "        right_change = int(np.sign(data_['Close'][i+1]-data_['Close'][i]))\n",
    "        \n",
    "        if left_change != right_change:\n",
    "            change_pts.append(True)\n",
    "        else:\n",
    "            change_pts.append(False)\n",
    "            \n",
    "        change_types.append((left_change, right_change))\n",
    "\n",
    "    change_pts.append(False)\n",
    "    change_types.append('End')\n",
    "\n",
    "    data_['change_points'] = change_pts\n",
    "    data_['change_types'] = change_types\n",
    "    \n",
    "    return data_"
   ]
  },
  {
   "cell_type": "code",
   "execution_count": 20,
   "id": "2a8617cd-86ca-4874-bbad-9b7548ffa873",
   "metadata": {},
   "outputs": [
    {
     "data": {
      "text/html": [
       "<div>\n",
       "<style scoped>\n",
       "    .dataframe tbody tr th:only-of-type {\n",
       "        vertical-align: middle;\n",
       "    }\n",
       "\n",
       "    .dataframe tbody tr th {\n",
       "        vertical-align: top;\n",
       "    }\n",
       "\n",
       "    .dataframe thead th {\n",
       "        text-align: right;\n",
       "    }\n",
       "</style>\n",
       "<table border=\"1\" class=\"dataframe\">\n",
       "  <thead>\n",
       "    <tr style=\"text-align: right;\">\n",
       "      <th></th>\n",
       "      <th>Date</th>\n",
       "      <th>Open</th>\n",
       "      <th>High</th>\n",
       "      <th>Low</th>\n",
       "      <th>Close</th>\n",
       "      <th>fcc</th>\n",
       "      <th>code</th>\n",
       "      <th>change_points</th>\n",
       "      <th>change_types</th>\n",
       "    </tr>\n",
       "  </thead>\n",
       "  <tbody>\n",
       "    <tr>\n",
       "      <th>0</th>\n",
       "      <td>2019-01-02</td>\n",
       "      <td>73.26</td>\n",
       "      <td>77.67</td>\n",
       "      <td>73.05</td>\n",
       "      <td>76.96</td>\n",
       "      <td>-1.0</td>\n",
       "      <td>e</td>\n",
       "      <td>True</td>\n",
       "      <td>Start</td>\n",
       "    </tr>\n",
       "    <tr>\n",
       "      <th>1</th>\n",
       "      <td>2019-01-03</td>\n",
       "      <td>76.00</td>\n",
       "      <td>76.90</td>\n",
       "      <td>74.86</td>\n",
       "      <td>75.01</td>\n",
       "      <td>1.0</td>\n",
       "      <td>a</td>\n",
       "      <td>True</td>\n",
       "      <td>(-1, 1)</td>\n",
       "    </tr>\n",
       "    <tr>\n",
       "      <th>2</th>\n",
       "      <td>2019-01-04</td>\n",
       "      <td>76.50</td>\n",
       "      <td>79.70</td>\n",
       "      <td>75.92</td>\n",
       "      <td>78.77</td>\n",
       "      <td>1.0</td>\n",
       "      <td>e</td>\n",
       "      <td>False</td>\n",
       "      <td>(1, 1)</td>\n",
       "    </tr>\n",
       "    <tr>\n",
       "      <th>3</th>\n",
       "      <td>2019-01-07</td>\n",
       "      <td>80.12</td>\n",
       "      <td>81.73</td>\n",
       "      <td>79.46</td>\n",
       "      <td>81.48</td>\n",
       "      <td>1.0</td>\n",
       "      <td>e</td>\n",
       "      <td>False</td>\n",
       "      <td>(1, 1)</td>\n",
       "    </tr>\n",
       "    <tr>\n",
       "      <th>4</th>\n",
       "      <td>2019-01-08</td>\n",
       "      <td>83.23</td>\n",
       "      <td>83.83</td>\n",
       "      <td>80.83</td>\n",
       "      <td>82.83</td>\n",
       "      <td>1.0</td>\n",
       "      <td>a</td>\n",
       "      <td>False</td>\n",
       "      <td>(1, 1)</td>\n",
       "    </tr>\n",
       "  </tbody>\n",
       "</table>\n",
       "</div>"
      ],
      "text/plain": [
       "         Date   Open   High    Low  Close  fcc code  change_points  \\\n",
       "0  2019-01-02  73.26  77.67  73.05  76.96 -1.0    e           True   \n",
       "1  2019-01-03  76.00  76.90  74.86  75.01  1.0    a           True   \n",
       "2  2019-01-04  76.50  79.70  75.92  78.77  1.0    e          False   \n",
       "3  2019-01-07  80.12  81.73  79.46  81.48  1.0    e          False   \n",
       "4  2019-01-08  83.23  83.83  80.83  82.83  1.0    a          False   \n",
       "\n",
       "  change_types  \n",
       "0        Start  \n",
       "1      (-1, 1)  \n",
       "2       (1, 1)  \n",
       "3       (1, 1)  \n",
       "4       (1, 1)  "
      ]
     },
     "execution_count": 20,
     "metadata": {},
     "output_type": "execute_result"
    }
   ],
   "source": [
    "df_train = change_points(df_train)\n",
    "df_train.head().round(2)"
   ]
  },
  {
   "cell_type": "code",
   "execution_count": 21,
   "id": "9e39f963-a098-432d-b4a0-8526e3e0fe0d",
   "metadata": {},
   "outputs": [
    {
     "data": {
      "text/html": [
       "<div>\n",
       "<style scoped>\n",
       "    .dataframe tbody tr th:only-of-type {\n",
       "        vertical-align: middle;\n",
       "    }\n",
       "\n",
       "    .dataframe tbody tr th {\n",
       "        vertical-align: top;\n",
       "    }\n",
       "\n",
       "    .dataframe thead th {\n",
       "        text-align: right;\n",
       "    }\n",
       "</style>\n",
       "<table border=\"1\" class=\"dataframe\">\n",
       "  <thead>\n",
       "    <tr style=\"text-align: right;\">\n",
       "      <th></th>\n",
       "      <th>Date</th>\n",
       "      <th>Open</th>\n",
       "      <th>High</th>\n",
       "      <th>Low</th>\n",
       "      <th>Close</th>\n",
       "      <th>fcc</th>\n",
       "      <th>code</th>\n",
       "      <th>change_points</th>\n",
       "      <th>change_types</th>\n",
       "    </tr>\n",
       "  </thead>\n",
       "  <tbody>\n",
       "    <tr>\n",
       "      <th>498</th>\n",
       "      <td>2020-12-22</td>\n",
       "      <td>160.14</td>\n",
       "      <td>161.10</td>\n",
       "      <td>159.00</td>\n",
       "      <td>160.33</td>\n",
       "      <td>-1.0</td>\n",
       "      <td>e</td>\n",
       "      <td>True</td>\n",
       "      <td>(1, -1)</td>\n",
       "    </tr>\n",
       "    <tr>\n",
       "      <th>499</th>\n",
       "      <td>2020-12-23</td>\n",
       "      <td>160.25</td>\n",
       "      <td>160.51</td>\n",
       "      <td>159.21</td>\n",
       "      <td>159.26</td>\n",
       "      <td>-1.0</td>\n",
       "      <td>a</td>\n",
       "      <td>False</td>\n",
       "      <td>(-1, -1)</td>\n",
       "    </tr>\n",
       "    <tr>\n",
       "      <th>500</th>\n",
       "      <td>2020-12-24</td>\n",
       "      <td>159.70</td>\n",
       "      <td>160.10</td>\n",
       "      <td>158.45</td>\n",
       "      <td>158.63</td>\n",
       "      <td>1.0</td>\n",
       "      <td>a</td>\n",
       "      <td>True</td>\n",
       "      <td>(-1, 1)</td>\n",
       "    </tr>\n",
       "    <tr>\n",
       "      <th>501</th>\n",
       "      <td>2020-12-28</td>\n",
       "      <td>159.70</td>\n",
       "      <td>165.20</td>\n",
       "      <td>158.63</td>\n",
       "      <td>164.20</td>\n",
       "      <td>1.0</td>\n",
       "      <td>e</td>\n",
       "      <td>False</td>\n",
       "      <td>(1, 1)</td>\n",
       "    </tr>\n",
       "    <tr>\n",
       "      <th>502</th>\n",
       "      <td>2020-12-29</td>\n",
       "      <td>165.50</td>\n",
       "      <td>167.53</td>\n",
       "      <td>164.06</td>\n",
       "      <td>166.10</td>\n",
       "      <td>-1.0</td>\n",
       "      <td>e</td>\n",
       "      <td>False</td>\n",
       "      <td>End</td>\n",
       "    </tr>\n",
       "  </tbody>\n",
       "</table>\n",
       "</div>"
      ],
      "text/plain": [
       "           Date    Open    High     Low   Close  fcc code  change_points  \\\n",
       "498  2020-12-22  160.14  161.10  159.00  160.33 -1.0    e           True   \n",
       "499  2020-12-23  160.25  160.51  159.21  159.26 -1.0    a          False   \n",
       "500  2020-12-24  159.70  160.10  158.45  158.63  1.0    a           True   \n",
       "501  2020-12-28  159.70  165.20  158.63  164.20  1.0    e          False   \n",
       "502  2020-12-29  165.50  167.53  164.06  166.10 -1.0    e          False   \n",
       "\n",
       "    change_types  \n",
       "498      (1, -1)  \n",
       "499     (-1, -1)  \n",
       "500      (-1, 1)  \n",
       "501       (1, 1)  \n",
       "502          End  "
      ]
     },
     "execution_count": 21,
     "metadata": {},
     "output_type": "execute_result"
    }
   ],
   "source": [
    "df_train = change_points(df_train)\n",
    "df_train.tail().round(2)"
   ]
  },
  {
   "cell_type": "code",
   "execution_count": 22,
   "id": "ffb82877-08aa-4f4b-8fce-2d54f59a63b4",
   "metadata": {},
   "outputs": [],
   "source": [
    "def cp_visualizer(data, M=0, N=None):\n",
    "    plt.figure(figsize=(20,5))\n",
    "    plt.plot(data.index[M:N], data.Close[M:N], alpha=0.2)\n",
    "    color_list = ['black', 'red']\n",
    "    plt.scatter(data.index[M:N], data.Close[M:N], c=[color_list[i] for i in data.change_points[M:N]])\n",
    "    plt.xticks(data.index[M:N], data.code[M:N], fontsize=12)\n",
    "    plt.grid();"
   ]
  },
  {
   "cell_type": "markdown",
   "id": "c14af520-3bf1-4ce4-9d52-3ccbd6f0bbad",
   "metadata": {},
   "source": [
    "- In the graph of Close values below, the red points indicate the change points, while the x-values correspond to the candlestick code for each corresponding day."
   ]
  },
  {
   "cell_type": "code",
   "execution_count": 24,
   "id": "0e9f762a-2174-420c-a30f-6b360b001993",
   "metadata": {},
   "outputs": [
    {
     "data": {
      "image/png": "[encoded data removed]",
      "text/plain": [
       "<Figure size 2000x500 with 1 Axes>"
      ]
     },
     "metadata": {},
     "output_type": "display_data"
    }
   ],
   "source": [
    "cp_visualizer(df_train, M=0, N=20)"
   ]
  },
  {
   "cell_type": "markdown",
   "id": "93333d0e-7aab-4492-b080-1c339eb122cb",
   "metadata": {},
   "source": [
    "## Segmentation and Labeling\n"
   ]
  },
  {
   "cell_type": "code",
   "execution_count": 26,
   "id": "20f1f48b-9b73-4c7d-ac41-ea264bb172bc",
   "metadata": {},
   "outputs": [],
   "source": [
    "def segmentation(data):\n",
    "    segment_list, trend_list = [], []\n",
    "    pattern = ''\n",
    "    \n",
    "    for i in range(len(data)-1):  \n",
    "        pattern += data.code[i]\n",
    "    \n",
    "        if data.change_points.loc[i]:\n",
    "            segment_list.append(pattern) \n",
    "            j = i\n",
    "            while True:\n",
    "                if data.change_types[j+1][0] != 0:   # first non-equal direction\n",
    "                    trend_list.append(data.change_types[j+1][0]) \n",
    "                    break\n",
    "                j += 1\n",
    "    \n",
    "            pattern = ''\n",
    "\n",
    "    df_seg = pd.DataFrame()\n",
    "    df_seg['kts'] = segment_list\n",
    "    df_seg['trend'] = trend_list\n",
    "\n",
    "    df_seg_unique = pd.DataFrame(df_seg.value_counts()).reset_index()\n",
    "\n",
    "    return df_seg_unique"
   ]
  },
  {
   "cell_type": "code",
   "execution_count": 27,
   "id": "e48f957d-80b1-4e46-81de-5ead2ca21104",
   "metadata": {},
   "outputs": [
    {
     "data": {
      "text/html": [
       "<div>\n",
       "<style scoped>\n",
       "    .dataframe tbody tr th:only-of-type {\n",
       "        vertical-align: middle;\n",
       "    }\n",
       "\n",
       "    .dataframe tbody tr th {\n",
       "        vertical-align: top;\n",
       "    }\n",
       "\n",
       "    .dataframe thead th {\n",
       "        text-align: right;\n",
       "    }\n",
       "</style>\n",
       "<table border=\"1\" class=\"dataframe\">\n",
       "  <thead>\n",
       "    <tr style=\"text-align: right;\">\n",
       "      <th></th>\n",
       "      <th>kts</th>\n",
       "      <th>trend</th>\n",
       "      <th>count</th>\n",
       "    </tr>\n",
       "  </thead>\n",
       "  <tbody>\n",
       "    <tr>\n",
       "      <th>0</th>\n",
       "      <td>a</td>\n",
       "      <td>1</td>\n",
       "      <td>58</td>\n",
       "    </tr>\n",
       "    <tr>\n",
       "      <th>1</th>\n",
       "      <td>e</td>\n",
       "      <td>-1</td>\n",
       "      <td>47</td>\n",
       "    </tr>\n",
       "    <tr>\n",
       "      <th>2</th>\n",
       "      <td>aa</td>\n",
       "      <td>1</td>\n",
       "      <td>23</td>\n",
       "    </tr>\n",
       "    <tr>\n",
       "      <th>3</th>\n",
       "      <td>ee</td>\n",
       "      <td>-1</td>\n",
       "      <td>15</td>\n",
       "    </tr>\n",
       "    <tr>\n",
       "      <th>4</th>\n",
       "      <td>e</td>\n",
       "      <td>1</td>\n",
       "      <td>9</td>\n",
       "    </tr>\n",
       "  </tbody>\n",
       "</table>\n",
       "</div>"
      ],
      "text/plain": [
       "  kts  trend  count\n",
       "0   a      1     58\n",
       "1   e     -1     47\n",
       "2  aa      1     23\n",
       "3  ee     -1     15\n",
       "4   e      1      9"
      ]
     },
     "execution_count": 27,
     "metadata": {},
     "output_type": "execute_result"
    }
   ],
   "source": [
    "PSet = segmentation(df_train)\n",
    "PSet.head()"
   ]
  },
  {
   "cell_type": "markdown",
   "id": "3db267a6-21e9-4584-9cff-495f07276a28",
   "metadata": {},
   "source": [
    "## Subsequence"
   ]
  },
  {
   "cell_type": "code",
   "execution_count": 29,
   "id": "68bec025-0267-45dd-aeca-c9a5b7ba8c54",
   "metadata": {},
   "outputs": [],
   "source": [
    "def whethersub(X, Y):\n",
    "    if len(X) > len(Y): return 0\n",
    "    else:\n",
    "        k = 0\n",
    "        for i in range(len(X)):\n",
    "            if X[i] in Y[k:]:\n",
    "                k = Y.find(X[i], k)+1\n",
    "            else:\n",
    "                return 0          \n",
    "    return 1 "
   ]
  },
  {
   "cell_type": "markdown",
   "id": "f1677646-dff0-48b9-8005-e680697fec41",
   "metadata": {},
   "source": [
    "## oNum"
   ]
  },
  {
   "cell_type": "code",
   "execution_count": 31,
   "id": "7a497afb-1a2c-4391-82e3-18bfe2cbf39d",
   "metadata": {},
   "outputs": [],
   "source": [
    "def onum(pset):\n",
    "    pset_ = pset.copy()\n",
    "    onum_list = []\n",
    "    for i in range(len(pset)):\n",
    "        total = 0\n",
    "        for j in range(len(pset)):\n",
    "            total += whethersub(pset_.loc[i, 'kts'], pset_.loc[j, 'kts'])* pset_.loc[j, 'count']\n",
    "        onum_list.append(total)\n",
    "    pset_['onum'] = onum_list\n",
    "    return pset_"
   ]
  },
  {
   "cell_type": "code",
   "execution_count": 32,
   "id": "627c0bbe-8dce-4015-9060-d5b30d7419c7",
   "metadata": {},
   "outputs": [
    {
     "data": {
      "text/html": [
       "<div>\n",
       "<style scoped>\n",
       "    .dataframe tbody tr th:only-of-type {\n",
       "        vertical-align: middle;\n",
       "    }\n",
       "\n",
       "    .dataframe tbody tr th {\n",
       "        vertical-align: top;\n",
       "    }\n",
       "\n",
       "    .dataframe thead th {\n",
       "        text-align: right;\n",
       "    }\n",
       "</style>\n",
       "<table border=\"1\" class=\"dataframe\">\n",
       "  <thead>\n",
       "    <tr style=\"text-align: right;\">\n",
       "      <th></th>\n",
       "      <th>kts</th>\n",
       "      <th>trend</th>\n",
       "      <th>count</th>\n",
       "      <th>onum</th>\n",
       "    </tr>\n",
       "  </thead>\n",
       "  <tbody>\n",
       "    <tr>\n",
       "      <th>0</th>\n",
       "      <td>a</td>\n",
       "      <td>1</td>\n",
       "      <td>58</td>\n",
       "      <td>154</td>\n",
       "    </tr>\n",
       "    <tr>\n",
       "      <th>1</th>\n",
       "      <td>e</td>\n",
       "      <td>-1</td>\n",
       "      <td>47</td>\n",
       "      <td>146</td>\n",
       "    </tr>\n",
       "    <tr>\n",
       "      <th>2</th>\n",
       "      <td>aa</td>\n",
       "      <td>1</td>\n",
       "      <td>23</td>\n",
       "      <td>58</td>\n",
       "    </tr>\n",
       "    <tr>\n",
       "      <th>3</th>\n",
       "      <td>ee</td>\n",
       "      <td>-1</td>\n",
       "      <td>15</td>\n",
       "      <td>60</td>\n",
       "    </tr>\n",
       "    <tr>\n",
       "      <th>4</th>\n",
       "      <td>e</td>\n",
       "      <td>1</td>\n",
       "      <td>9</td>\n",
       "      <td>146</td>\n",
       "    </tr>\n",
       "  </tbody>\n",
       "</table>\n",
       "</div>"
      ],
      "text/plain": [
       "  kts  trend  count  onum\n",
       "0   a      1     58   154\n",
       "1   e     -1     47   146\n",
       "2  aa      1     23    58\n",
       "3  ee     -1     15    60\n",
       "4   e      1      9   146"
      ]
     },
     "execution_count": 32,
     "metadata": {},
     "output_type": "execute_result"
    }
   ],
   "source": [
    "PRSet = onum(PSet)\n",
    "PRSet.head()"
   ]
  },
  {
   "cell_type": "markdown",
   "id": "6110e92d-adc7-4502-86ef-77dd32754abd",
   "metadata": {},
   "source": [
    "## sameTrendNum\n"
   ]
  },
  {
   "cell_type": "code",
   "execution_count": 34,
   "id": "1a6ff227-7c6e-4668-901f-aec4129dcda9",
   "metadata": {},
   "outputs": [],
   "source": [
    "def sametrendnum(pset):\n",
    "    pset_ = pset.copy()\n",
    "    sametrendnum_list = []\n",
    "    for i in range(len(pset_)):\n",
    "        total = 0\n",
    "        for j in range(len(pset_)):\n",
    "            if whethersub(pset_.loc[i,'kts'], pset_.loc[j,'kts']) & (pset_.loc[i,'trend'] == pset_.loc[j, 'trend']):\n",
    "                total += pset_.loc[j, 'count']    \n",
    "        sametrendnum_list.append(total)\n",
    "    pset_['sametrendnum'] = sametrendnum_list\n",
    "    return pset_  "
   ]
  },
  {
   "cell_type": "code",
   "execution_count": 35,
   "id": "367a6cb0-0deb-42ee-a6c4-6aa452c2bbf9",
   "metadata": {},
   "outputs": [
    {
     "data": {
      "text/html": [
       "<div>\n",
       "<style scoped>\n",
       "    .dataframe tbody tr th:only-of-type {\n",
       "        vertical-align: middle;\n",
       "    }\n",
       "\n",
       "    .dataframe tbody tr th {\n",
       "        vertical-align: top;\n",
       "    }\n",
       "\n",
       "    .dataframe thead th {\n",
       "        text-align: right;\n",
       "    }\n",
       "</style>\n",
       "<table border=\"1\" class=\"dataframe\">\n",
       "  <thead>\n",
       "    <tr style=\"text-align: right;\">\n",
       "      <th></th>\n",
       "      <th>kts</th>\n",
       "      <th>trend</th>\n",
       "      <th>count</th>\n",
       "      <th>onum</th>\n",
       "      <th>sametrendnum</th>\n",
       "    </tr>\n",
       "  </thead>\n",
       "  <tbody>\n",
       "    <tr>\n",
       "      <th>0</th>\n",
       "      <td>a</td>\n",
       "      <td>1</td>\n",
       "      <td>58</td>\n",
       "      <td>154</td>\n",
       "      <td>111</td>\n",
       "    </tr>\n",
       "    <tr>\n",
       "      <th>1</th>\n",
       "      <td>e</td>\n",
       "      <td>-1</td>\n",
       "      <td>47</td>\n",
       "      <td>146</td>\n",
       "      <td>115</td>\n",
       "    </tr>\n",
       "    <tr>\n",
       "      <th>2</th>\n",
       "      <td>aa</td>\n",
       "      <td>1</td>\n",
       "      <td>23</td>\n",
       "      <td>58</td>\n",
       "      <td>47</td>\n",
       "    </tr>\n",
       "    <tr>\n",
       "      <th>3</th>\n",
       "      <td>ee</td>\n",
       "      <td>-1</td>\n",
       "      <td>15</td>\n",
       "      <td>60</td>\n",
       "      <td>56</td>\n",
       "    </tr>\n",
       "    <tr>\n",
       "      <th>4</th>\n",
       "      <td>e</td>\n",
       "      <td>1</td>\n",
       "      <td>9</td>\n",
       "      <td>146</td>\n",
       "      <td>31</td>\n",
       "    </tr>\n",
       "  </tbody>\n",
       "</table>\n",
       "</div>"
      ],
      "text/plain": [
       "  kts  trend  count  onum  sametrendnum\n",
       "0   a      1     58   154           111\n",
       "1   e     -1     47   146           115\n",
       "2  aa      1     23    58            47\n",
       "3  ee     -1     15    60            56\n",
       "4   e      1      9   146            31"
      ]
     },
     "execution_count": 35,
     "metadata": {},
     "output_type": "execute_result"
    }
   ],
   "source": [
    "PRSet = sametrendnum(PRSet)\n",
    "PRSet.head()"
   ]
  },
  {
   "cell_type": "markdown",
   "id": "96b480ff-a4ae-4e80-bc75-55e7a5b51df6",
   "metadata": {},
   "source": [
    "## PACC\n"
   ]
  },
  {
   "cell_type": "code",
   "execution_count": 37,
   "id": "59d4377d-79dc-414e-9ef1-7556c3fcf19e",
   "metadata": {},
   "outputs": [],
   "source": [
    "def pacc(pset):\n",
    "    pset_ = pset.copy()\n",
    "    pset_['pacc'] = pset_['sametrendnum'] / pset_['onum'] \n",
    "    return pset_"
   ]
  },
  {
   "cell_type": "code",
   "execution_count": 38,
   "id": "12f23030-3cc5-4fdb-9df2-3437e53acbe9",
   "metadata": {},
   "outputs": [
    {
     "data": {
      "text/html": [
       "<div>\n",
       "<style scoped>\n",
       "    .dataframe tbody tr th:only-of-type {\n",
       "        vertical-align: middle;\n",
       "    }\n",
       "\n",
       "    .dataframe tbody tr th {\n",
       "        vertical-align: top;\n",
       "    }\n",
       "\n",
       "    .dataframe thead th {\n",
       "        text-align: right;\n",
       "    }\n",
       "</style>\n",
       "<table border=\"1\" class=\"dataframe\">\n",
       "  <thead>\n",
       "    <tr style=\"text-align: right;\">\n",
       "      <th></th>\n",
       "      <th>kts</th>\n",
       "      <th>trend</th>\n",
       "      <th>count</th>\n",
       "      <th>onum</th>\n",
       "      <th>sametrendnum</th>\n",
       "      <th>pacc</th>\n",
       "    </tr>\n",
       "  </thead>\n",
       "  <tbody>\n",
       "    <tr>\n",
       "      <th>0</th>\n",
       "      <td>a</td>\n",
       "      <td>1</td>\n",
       "      <td>58</td>\n",
       "      <td>154</td>\n",
       "      <td>111</td>\n",
       "      <td>0.72</td>\n",
       "    </tr>\n",
       "    <tr>\n",
       "      <th>1</th>\n",
       "      <td>e</td>\n",
       "      <td>-1</td>\n",
       "      <td>47</td>\n",
       "      <td>146</td>\n",
       "      <td>115</td>\n",
       "      <td>0.79</td>\n",
       "    </tr>\n",
       "    <tr>\n",
       "      <th>2</th>\n",
       "      <td>aa</td>\n",
       "      <td>1</td>\n",
       "      <td>23</td>\n",
       "      <td>58</td>\n",
       "      <td>47</td>\n",
       "      <td>0.81</td>\n",
       "    </tr>\n",
       "    <tr>\n",
       "      <th>3</th>\n",
       "      <td>ee</td>\n",
       "      <td>-1</td>\n",
       "      <td>15</td>\n",
       "      <td>60</td>\n",
       "      <td>56</td>\n",
       "      <td>0.93</td>\n",
       "    </tr>\n",
       "    <tr>\n",
       "      <th>4</th>\n",
       "      <td>e</td>\n",
       "      <td>1</td>\n",
       "      <td>9</td>\n",
       "      <td>146</td>\n",
       "      <td>31</td>\n",
       "      <td>0.21</td>\n",
       "    </tr>\n",
       "  </tbody>\n",
       "</table>\n",
       "</div>"
      ],
      "text/plain": [
       "  kts  trend  count  onum  sametrendnum  pacc\n",
       "0   a      1     58   154           111  0.72\n",
       "1   e     -1     47   146           115  0.79\n",
       "2  aa      1     23    58            47  0.81\n",
       "3  ee     -1     15    60            56  0.93\n",
       "4   e      1      9   146            31  0.21"
      ]
     },
     "execution_count": 38,
     "metadata": {},
     "output_type": "execute_result"
    }
   ],
   "source": [
    "PRSet = pacc(PRSet)\n",
    "PRSet.head().round(2)"
   ]
  },
  {
   "cell_type": "markdown",
   "id": "9024ea82-6e5b-458f-ae36-8d10189ff4b0",
   "metadata": {},
   "source": [
    "- The set described above is called the **Pattern Record Set (PRSet)**.\n",
    "    - It consists of KTS-Trend pairs (KtsP) and their corresponding Pattern Accuracy Score (PACC) values."
   ]
  },
  {
   "cell_type": "markdown",
   "id": "3d23db62-a23b-4c8c-8788-54e63c19c4a5",
   "metadata": {},
   "source": [
    "## Subsequence Model"
   ]
  },
  {
   "cell_type": "code",
   "execution_count": 41,
   "id": "9ed80579-07ab-4926-83b3-645593a30d1e",
   "metadata": {},
   "outputs": [],
   "source": [
    "def subsequence_model_predict(kts, prset):\n",
    "    best_pattern = []\n",
    "    best_pacc = [0]\n",
    "    best_trend = []\n",
    "    for i in range(len(prset)):\n",
    "        if (whethersub(prset.loc[i, 'kts'], kts)):\n",
    "            if prset.loc[i, 'pacc'] > best_pacc[-1]:\n",
    "                best_pattern = [prset.loc[i, 'kts']] \n",
    "                best_pacc = [prset.loc[i, 'pacc']]\n",
    "                best_trend = [ prset.loc[i, 'trend']]\n",
    "            elif prset.loc[i, 'pacc'] == best_pacc[-1]:\n",
    "                best_pattern.append(prset.loc[i, 'kts'])\n",
    "                best_pacc.append(prset.loc[i, 'pacc'])\n",
    "                best_trend.append(prset.loc[i, 'trend'])\n",
    "\n",
    "    if len(best_trend) == 0:\n",
    "        pred = statistics.mode(prset.trend)\n",
    "    elif len(best_trend) == 1:\n",
    "        pred = best_trend[0]\n",
    "    else:\n",
    "        pred = statistics.mode(best_trend)\n",
    "        \n",
    "    return {'Best Pattern':best_pattern, 'Best PACC': best_pacc, 'Best Trend': best_trend, 'Prediction':pred}"
   ]
  },
  {
   "cell_type": "code",
   "execution_count": 42,
   "id": "c978d0fa-8378-418b-9b55-21f6ec9130f8",
   "metadata": {},
   "outputs": [
    {
     "data": {
      "text/plain": [
       "{'Best Pattern': ['ee'],\n",
       " 'Best PACC': [0.9333333333333333],\n",
       " 'Best Trend': [-1],\n",
       " 'Prediction': -1}"
      ]
     },
     "execution_count": 42,
     "metadata": {},
     "output_type": "execute_result"
    }
   ],
   "source": [
    "subsequence_model_predict('aaee', PRSet)"
   ]
  },
  {
   "cell_type": "code",
   "execution_count": 43,
   "id": "a521614f-8ddb-45d4-81e3-db1542346158",
   "metadata": {},
   "outputs": [
    {
     "data": {
      "text/plain": [
       "{'Best Pattern': ['a'],\n",
       " 'Best PACC': [0.7207792207792207],\n",
       " 'Best Trend': [1],\n",
       " 'Prediction': 1}"
      ]
     },
     "execution_count": 43,
     "metadata": {},
     "output_type": "execute_result"
    }
   ],
   "source": [
    "subsequence_model_predict('acd', PRSet)"
   ]
  },
  {
   "cell_type": "markdown",
   "id": "04df2753-aa4f-4524-afba-906ffd85ee9e",
   "metadata": {},
   "source": [
    "## Test Set"
   ]
  },
  {
   "cell_type": "code",
   "execution_count": 45,
   "id": "23625459-4f5b-4f79-b313-056f0f4cc5cd",
   "metadata": {},
   "outputs": [
    {
     "data": {
      "text/html": [
       "<div>\n",
       "<style scoped>\n",
       "    .dataframe tbody tr th:only-of-type {\n",
       "        vertical-align: middle;\n",
       "    }\n",
       "\n",
       "    .dataframe tbody tr th {\n",
       "        vertical-align: top;\n",
       "    }\n",
       "\n",
       "    .dataframe thead th {\n",
       "        text-align: right;\n",
       "    }\n",
       "</style>\n",
       "<table border=\"1\" class=\"dataframe\">\n",
       "  <thead>\n",
       "    <tr style=\"text-align: right;\">\n",
       "      <th></th>\n",
       "      <th>Date</th>\n",
       "      <th>Open</th>\n",
       "      <th>High</th>\n",
       "      <th>Low</th>\n",
       "      <th>Close</th>\n",
       "      <th>fcc</th>\n",
       "    </tr>\n",
       "  </thead>\n",
       "  <tbody>\n",
       "    <tr>\n",
       "      <th>0</th>\n",
       "      <td>2020-12-30</td>\n",
       "      <td>167.05</td>\n",
       "      <td>167.10</td>\n",
       "      <td>164.12</td>\n",
       "      <td>164.29</td>\n",
       "      <td>-1.0</td>\n",
       "    </tr>\n",
       "    <tr>\n",
       "      <th>1</th>\n",
       "      <td>2020-12-31</td>\n",
       "      <td>163.75</td>\n",
       "      <td>164.15</td>\n",
       "      <td>162.06</td>\n",
       "      <td>162.85</td>\n",
       "      <td>-1.0</td>\n",
       "    </tr>\n",
       "    <tr>\n",
       "      <th>2</th>\n",
       "      <td>2021-01-04</td>\n",
       "      <td>163.50</td>\n",
       "      <td>163.60</td>\n",
       "      <td>157.20</td>\n",
       "      <td>159.33</td>\n",
       "      <td>1.0</td>\n",
       "    </tr>\n",
       "    <tr>\n",
       "      <th>3</th>\n",
       "      <td>2021-01-05</td>\n",
       "      <td>158.30</td>\n",
       "      <td>161.17</td>\n",
       "      <td>158.25</td>\n",
       "      <td>160.93</td>\n",
       "      <td>-1.0</td>\n",
       "    </tr>\n",
       "    <tr>\n",
       "      <th>4</th>\n",
       "      <td>2021-01-06</td>\n",
       "      <td>157.32</td>\n",
       "      <td>159.88</td>\n",
       "      <td>156.56</td>\n",
       "      <td>156.92</td>\n",
       "      <td>1.0</td>\n",
       "    </tr>\n",
       "  </tbody>\n",
       "</table>\n",
       "</div>"
      ],
      "text/plain": [
       "         Date    Open    High     Low   Close  fcc\n",
       "0  2020-12-30  167.05  167.10  164.12  164.29 -1.0\n",
       "1  2020-12-31  163.75  164.15  162.06  162.85 -1.0\n",
       "2  2021-01-04  163.50  163.60  157.20  159.33  1.0\n",
       "3  2021-01-05  158.30  161.17  158.25  160.93 -1.0\n",
       "4  2021-01-06  157.32  159.88  156.56  156.92  1.0"
      ]
     },
     "execution_count": 45,
     "metadata": {},
     "output_type": "execute_result"
    }
   ],
   "source": [
    "df_test.head().round(2)"
   ]
  },
  {
   "cell_type": "code",
   "execution_count": 48,
   "id": "089e5012-def6-4f18-ba41-52fe13d7a478",
   "metadata": {},
   "outputs": [
    {
     "data": {
      "text/html": [
       "<div>\n",
       "<style scoped>\n",
       "    .dataframe tbody tr th:only-of-type {\n",
       "        vertical-align: middle;\n",
       "    }\n",
       "\n",
       "    .dataframe tbody tr th {\n",
       "        vertical-align: top;\n",
       "    }\n",
       "\n",
       "    .dataframe thead th {\n",
       "        text-align: right;\n",
       "    }\n",
       "</style>\n",
       "<table border=\"1\" class=\"dataframe\">\n",
       "  <thead>\n",
       "    <tr style=\"text-align: right;\">\n",
       "      <th></th>\n",
       "      <th>Date</th>\n",
       "      <th>Open</th>\n",
       "      <th>High</th>\n",
       "      <th>Low</th>\n",
       "      <th>Close</th>\n",
       "      <th>fcc</th>\n",
       "      <th>code</th>\n",
       "    </tr>\n",
       "  </thead>\n",
       "  <tbody>\n",
       "    <tr>\n",
       "      <th>0</th>\n",
       "      <td>2020-12-30</td>\n",
       "      <td>167.05</td>\n",
       "      <td>167.10</td>\n",
       "      <td>164.12</td>\n",
       "      <td>164.29</td>\n",
       "      <td>-1.0</td>\n",
       "      <td>a</td>\n",
       "    </tr>\n",
       "    <tr>\n",
       "      <th>1</th>\n",
       "      <td>2020-12-31</td>\n",
       "      <td>163.75</td>\n",
       "      <td>164.15</td>\n",
       "      <td>162.06</td>\n",
       "      <td>162.85</td>\n",
       "      <td>-1.0</td>\n",
       "      <td>a</td>\n",
       "    </tr>\n",
       "    <tr>\n",
       "      <th>2</th>\n",
       "      <td>2021-01-04</td>\n",
       "      <td>163.50</td>\n",
       "      <td>163.60</td>\n",
       "      <td>157.20</td>\n",
       "      <td>159.33</td>\n",
       "      <td>1.0</td>\n",
       "      <td>a</td>\n",
       "    </tr>\n",
       "    <tr>\n",
       "      <th>3</th>\n",
       "      <td>2021-01-05</td>\n",
       "      <td>158.30</td>\n",
       "      <td>161.17</td>\n",
       "      <td>158.25</td>\n",
       "      <td>160.93</td>\n",
       "      <td>-1.0</td>\n",
       "      <td>e</td>\n",
       "    </tr>\n",
       "    <tr>\n",
       "      <th>4</th>\n",
       "      <td>2021-01-06</td>\n",
       "      <td>157.32</td>\n",
       "      <td>159.88</td>\n",
       "      <td>156.56</td>\n",
       "      <td>156.92</td>\n",
       "      <td>1.0</td>\n",
       "      <td>a</td>\n",
       "    </tr>\n",
       "  </tbody>\n",
       "</table>\n",
       "</div>"
      ],
      "text/plain": [
       "         Date    Open    High     Low   Close  fcc code\n",
       "0  2020-12-30  167.05  167.10  164.12  164.29 -1.0    a\n",
       "1  2020-12-31  163.75  164.15  162.06  162.85 -1.0    a\n",
       "2  2021-01-04  163.50  163.60  157.20  159.33  1.0    a\n",
       "3  2021-01-05  158.30  161.17  158.25  160.93 -1.0    e\n",
       "4  2021-01-06  157.32  159.88  156.56  156.92  1.0    a"
      ]
     },
     "execution_count": 48,
     "metadata": {},
     "output_type": "execute_result"
    }
   ],
   "source": [
    "df_test = df_encoder(df_test)\n",
    "df_test.head().round(2)"
   ]
  },
  {
   "cell_type": "code",
   "execution_count": 50,
   "id": "82dd2cba-af8f-4996-8e5a-7f635ac4d8e8",
   "metadata": {},
   "outputs": [],
   "source": [
    "def test_data_prep(data, N=5):\n",
    "    test_data = []\n",
    "    for i in range(len(data)-N):\n",
    "        kts = ''\n",
    "        for j in range(N):\n",
    "            kts += data.code.loc[i+j]\n",
    "        test_data.append((kts, data.fcc.loc[i+j]))\n",
    "        \n",
    "    if type(test_data[-1][-1]) != float:\n",
    "        test_data.pop()\n",
    "    \n",
    "    return test_data"
   ]
  },
  {
   "cell_type": "code",
   "execution_count": 52,
   "id": "c5b8781a-2331-4c36-9e10-f53424ffbf17",
   "metadata": {},
   "outputs": [
    {
     "data": {
      "text/plain": [
       "[('aaaea', 1.0),\n",
       " ('aaeae', 1.0),\n",
       " ('aeaee', -1.0),\n",
       " ('eaeea', 1.0),\n",
       " ('aeeae', 1.0),\n",
       " ('eeaee', -1.0),\n",
       " ('eaeea', -1.0),\n",
       " ('aeeaa', 1.0),\n",
       " ('eeaae', 1.0),\n",
       " ('eaaee', 1.0),\n",
       " ('aaeee', -1.0),\n",
       " ('aeeea', 1.0),\n",
       " ('eeeaa', 1.0),\n",
       " ('eeaae', -1.0),\n",
       " ('eaaea', 1.0)]"
      ]
     },
     "execution_count": 52,
     "metadata": {},
     "output_type": "execute_result"
    }
   ],
   "source": [
    "test_data = test_data_prep(df_test)\n",
    "test_data"
   ]
  },
  {
   "cell_type": "markdown",
   "id": "9cb587b8-220b-4172-b75b-3766da8526b2",
   "metadata": {},
   "source": [
    "## Prediction"
   ]
  },
  {
   "cell_type": "code",
   "execution_count": 55,
   "id": "09118602-0253-4097-9391-27353bb998c7",
   "metadata": {},
   "outputs": [],
   "source": [
    "def subsequence_model_score(data, prset):\n",
    "    pred_trend_test = [subsequence_model_predict(kts, prset)['Prediction'] for (kts,trend) in data]\n",
    "    actual_trend_test = [trend for (kts,trend) in data]\n",
    "    return accuracy_score(pred_trend_test,  actual_trend_test)"
   ]
  },
  {
   "cell_type": "code",
   "execution_count": 57,
   "id": "1dd0d67e-0f69-4515-b9a8-1eaa4ab4df07",
   "metadata": {},
   "outputs": [
    {
     "data": {
      "text/plain": [
       "0.6"
      ]
     },
     "execution_count": 57,
     "metadata": {},
     "output_type": "execute_result"
    }
   ],
   "source": [
    "subsequence_model_score(test_data, PRSet)"
   ]
  }
 ],
 "metadata": {
  "kernelspec": {
   "display_name": "Python 3 (ipykernel)",
   "language": "python",
   "name": "python3"
  },
  "language_info": {
   "codemirror_mode": {
    "name": "ipython",
    "version": 3
   },
   "file_extension": ".py",
   "mimetype": "text/x-python",
   "name": "python",
   "nbconvert_exporter": "python",
   "pygments_lexer": "ipython3",
   "version": "3.11.8"
  }
 },
 "nbformat": 4,
 "nbformat_minor": 5
}
