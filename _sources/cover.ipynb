{
 "cells": [
  {
   "cell_type": "markdown",
   "id": "d1cf86f4-c9f2-49f5-9cf4-62b928187cca",
   "metadata": {},
   "source": [
    "# Cover"
   ]
  },
  {
   "cell_type": "markdown",
   "id": "8e941a57-09f7-4d04-98c0-43428e3f9495",
   "metadata": {},
   "source": [
    "![](pict/cover_gen.png)"
   ]
  },
  {
   "cell_type": "code",
   "execution_count": null,
   "id": "7b553bca-5c51-43dc-b22a-9f82e085450b",
   "metadata": {},
   "outputs": [],
   "source": []
  }
 ],
 "metadata": {
  "kernelspec": {
   "display_name": "Python 3 (ipykernel)",
   "language": "python",
   "name": "python3"
  },
  "language_info": {
   "codemirror_mode": {
    "name": "ipython",
    "version": 3
   },
   "file_extension": ".py",
   "mimetype": "text/x-python",
   "name": "python",
   "nbconvert_exporter": "python",
   "pygments_lexer": "ipython3",
   "version": "3.11.8"
  }
 },
 "nbformat": 4,
 "nbformat_minor": 5
}
