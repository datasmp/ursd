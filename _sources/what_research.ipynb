{
 "cells": [
  {
   "cell_type": "markdown",
   "id": "7e7fc135-6cd0-48d0-b8e1-c7a94b1ff80b",
   "metadata": {},
   "source": [
    "# What is Research?"
   ]
  },
  {
   "cell_type": "code",
   "execution_count": null,
   "id": "13fc5d12-65f9-4346-860f-5128e19f82cf",
   "metadata": {},
   "outputs": [],
   "source": []
  }
 ],
 "metadata": {
  "kernelspec": {
   "display_name": "Python 3 (ipykernel)",
   "language": "python",
   "name": "python3"
  },
  "language_info": {
   "codemirror_mode": {
    "name": "ipython",
    "version": 3
   },
   "file_extension": ".py",
   "mimetype": "text/x-python",
   "name": "python",
   "nbconvert_exporter": "python",
   "pygments_lexer": "ipython3",
   "version": "3.11.8"
  }
 },
 "nbformat": 4,
 "nbformat_minor": 5
}
