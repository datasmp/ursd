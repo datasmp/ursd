{
 "cells": [
  {
   "cell_type": "markdown",
   "id": "7e7fc135-6cd0-48d0-b8e1-c7a94b1ff80b",
   "metadata": {},
   "source": [
    "# What is Research?"
   ]
  },
  {
   "cell_type": "markdown",
   "id": "9351d189-21e7-479e-83cd-b6e8af07b3bb",
   "metadata": {},
   "source": [
    "Research involves exploring a specific question within a particular subject to uncover new facts. \n",
    "\n",
    "It typically entails collecting data, analyzing it, and drawing conclusions using appropriate methods to address the research question."
   ]
  },
  {
   "cell_type": "markdown",
   "id": "1f4dd4a6-c9ca-40e9-9c4d-a858dd201f7d",
   "metadata": {},
   "source": [
    "![](pict/under_construction.png)"
   ]
  }
 ],
 "metadata": {
  "kernelspec": {
   "display_name": "Python 3 (ipykernel)",
   "language": "python",
   "name": "python3"
  },
  "language_info": {
   "codemirror_mode": {
    "name": "ipython",
    "version": 3
   },
   "file_extension": ".py",
   "mimetype": "text/x-python",
   "name": "python",
   "nbconvert_exporter": "python",
   "pygments_lexer": "ipython3",
   "version": "3.11.8"
  }
 },
 "nbformat": 4,
 "nbformat_minor": 5
}
